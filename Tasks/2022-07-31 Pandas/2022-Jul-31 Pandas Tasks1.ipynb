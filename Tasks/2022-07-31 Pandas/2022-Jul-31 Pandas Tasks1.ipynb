{
 "cells": [
  {
   "cell_type": "code",
   "execution_count": 1,
   "id": "538e6bd0",
   "metadata": {
    "scrolled": true
   },
   "outputs": [
    {
     "name": "stdout",
     "output_type": "stream",
     "text": [
      "Defaulting to user installation because normal site-packages is not writeable"
     ]
    },
    {
     "name": "stderr",
     "output_type": "stream",
     "text": [
      "  WARNING: The scripts csvclean.exe, csvcut.exe, csvformat.exe, csvgrep.exe, csvjoin.exe, csvjson.exe, csvlook.exe, csvpy.exe, csvsort.exe, csvsql.exe, csvstack.exe, csvstat.exe, in2csv.exe and sql2csv.exe are installed in 'C:\\Users\\evens\\AppData\\Roaming\\Python\\Python39\\Scripts' which is not on PATH.\n",
      "  Consider adding this directory to PATH or, if you prefer to suppress this warning, use --no-warn-script-location.\n"
     ]
    },
    {
     "name": "stdout",
     "output_type": "stream",
     "text": [
      "\n",
      "Collecting csvkit\n",
      "  Downloading csvkit-1.0.7-py2.py3-none-any.whl (42 kB)\n",
      "Collecting agate-dbf>=0.2.2\n",
      "  Downloading agate_dbf-0.2.2-py2.py3-none-any.whl (3.5 kB)\n",
      "Collecting agate-sql>=0.5.3\n",
      "  Downloading agate_sql-0.5.8-py2.py3-none-any.whl (7.1 kB)\n",
      "Collecting agate>=1.6.1\n",
      "  Downloading agate-1.6.3-py2.py3-none-any.whl (100 kB)\n",
      "Requirement already satisfied: six>=1.6.1 in c:\\programdata\\anaconda3\\lib\\site-packages (from csvkit) (1.16.0)\n",
      "Collecting agate-excel>=0.2.2\n",
      "  Downloading agate_excel-0.2.5-py2.py3-none-any.whl (7.1 kB)\n",
      "Collecting parsedatetime!=2.5,!=2.6,>=2.1\n",
      "  Downloading parsedatetime-2.4.tar.gz (58 kB)\n",
      "Collecting isodate>=0.5.4\n",
      "  Downloading isodate-0.6.1-py2.py3-none-any.whl (41 kB)\n",
      "Requirement already satisfied: python-slugify>=1.2.1 in c:\\programdata\\anaconda3\\lib\\site-packages (from agate>=1.6.1->csvkit) (5.0.2)\n",
      "Collecting pytimeparse>=1.1.5\n",
      "  Downloading pytimeparse-1.1.8-py2.py3-none-any.whl (10.0 kB)\n",
      "Collecting leather>=0.3.2\n",
      "  Downloading leather-0.3.4-py2.py3-none-any.whl (31 kB)\n",
      "Requirement already satisfied: Babel>=2.0 in c:\\programdata\\anaconda3\\lib\\site-packages (from agate>=1.6.1->csvkit) (2.9.1)\n",
      "Collecting dbfread>=2.0.5\n",
      "  Downloading dbfread-2.0.7-py2.py3-none-any.whl (20 kB)\n",
      "Requirement already satisfied: xlrd>=0.9.4 in c:\\programdata\\anaconda3\\lib\\site-packages (from agate-excel>=0.2.2->csvkit) (2.0.1)\n",
      "Requirement already satisfied: openpyxl>=2.3.0 in c:\\programdata\\anaconda3\\lib\\site-packages (from agate-excel>=0.2.2->csvkit) (3.0.9)\n",
      "Requirement already satisfied: olefile in c:\\programdata\\anaconda3\\lib\\site-packages (from agate-excel>=0.2.2->csvkit) (0.46)\n",
      "Requirement already satisfied: sqlalchemy>=1.0.8 in c:\\programdata\\anaconda3\\lib\\site-packages (from agate-sql>=0.5.3->csvkit) (1.4.32)\n",
      "Requirement already satisfied: pytz>=2015.7 in c:\\programdata\\anaconda3\\lib\\site-packages (from Babel>=2.0->agate>=1.6.1->csvkit) (2021.3)\n",
      "Requirement already satisfied: et-xmlfile in c:\\programdata\\anaconda3\\lib\\site-packages (from openpyxl>=2.3.0->agate-excel>=0.2.2->csvkit) (1.1.0)\n",
      "Requirement already satisfied: future in c:\\programdata\\anaconda3\\lib\\site-packages (from parsedatetime!=2.5,!=2.6,>=2.1->agate>=1.6.1->csvkit) (0.18.2)\n",
      "Requirement already satisfied: text-unidecode>=1.3 in c:\\programdata\\anaconda3\\lib\\site-packages (from python-slugify>=1.2.1->agate>=1.6.1->csvkit) (1.3)\n",
      "Requirement already satisfied: greenlet!=0.4.17 in c:\\programdata\\anaconda3\\lib\\site-packages (from sqlalchemy>=1.0.8->agate-sql>=0.5.3->csvkit) (1.1.1)\n",
      "Building wheels for collected packages: parsedatetime\n",
      "  Building wheel for parsedatetime (setup.py): started\n",
      "  Building wheel for parsedatetime (setup.py): finished with status 'done'\n",
      "  Created wheel for parsedatetime: filename=parsedatetime-2.4-py3-none-any.whl size=42773 sha256=ff3508a5e86846abff5a4c028742210fef7a8729d86c45b2eeedadd8cbce53fa\n",
      "  Stored in directory: c:\\users\\evens\\appdata\\local\\pip\\cache\\wheels\\92\\80\\ea\\12d7c2c45f3ad765ee4cc505a22d5af2d1cc5defb0f4c0552b\n",
      "Successfully built parsedatetime\n",
      "Installing collected packages: pytimeparse, parsedatetime, leather, isodate, dbfread, agate, agate-sql, agate-excel, agate-dbf, csvkit\n",
      "Successfully installed agate-1.6.3 agate-dbf-0.2.2 agate-excel-0.2.5 agate-sql-0.5.8 csvkit-1.0.7 dbfread-2.0.7 isodate-0.6.1 leather-0.3.4 parsedatetime-2.4 pytimeparse-1.1.8\n"
     ]
    }
   ],
   "source": [
    "# !pip install csvkit"
   ]
  },
  {
   "cell_type": "code",
   "execution_count": 1,
   "id": "e6fb8762",
   "metadata": {},
   "outputs": [
    {
     "name": "stdout",
     "output_type": "stream",
     "text": [
      "Requirement already satisfied: pymongo[srv] in c:\\users\\evens\\appdata\\roaming\\python\\python39\\site-packages (4.2.0)\n",
      "Requirement already satisfied: dnspython<3.0.0,>=1.16.0 in c:\\users\\evens\\appdata\\roaming\\python\\python39\\site-packages (from pymongo[srv]) (2.2.1)\n"
     ]
    }
   ],
   "source": [
    "# !C:\\ProgramData\\Anaconda3\\python.exe -m pip install \"pymongo[srv]\""
   ]
  },
  {
   "cell_type": "code",
   "execution_count": 5,
   "id": "9ad31b0d",
   "metadata": {},
   "outputs": [
    {
     "name": "stdout",
     "output_type": "stream",
     "text": [
      "Defaulting to user installation because normal site-packages is not writeable\n",
      "Collecting pymongo\n",
      "  Downloading pymongo-4.2.0-cp39-cp39-win_amd64.whl (374 kB)\n",
      "Installing collected packages: pymongo\n",
      "Successfully installed pymongo-4.2.0\n"
     ]
    }
   ],
   "source": [
    "# !pip install pymongo"
   ]
  },
  {
   "cell_type": "code",
   "execution_count": 1,
   "id": "2d330328",
   "metadata": {},
   "outputs": [],
   "source": [
    "import pandas as pd\n",
    "import mysql.connector as conn\n",
    "from pymongo import MongoClient\n",
    "import urllib.parse\n",
    "import csvkit\n",
    "import json"
   ]
  },
  {
   "cell_type": "markdown",
   "id": "ec21895f",
   "metadata": {},
   "source": [
    "Q1. Read this dataset in pandas , mysql and mongodb "
   ]
  },
  {
   "cell_type": "code",
   "execution_count": 2,
   "id": "1665f8d5",
   "metadata": {},
   "outputs": [],
   "source": [
    "def mongoimport(csv_path, db_name, coll_name, db_url='localhost', db_port=27000):\n",
    "    \"\"\" Imports a csv file at path csv_name to a mongo colection\n",
    "    returns: count of the documents in the new collection\n",
    "    \"\"\"\n",
    "    client = MongoClient(db_url, db_port)\n",
    "    db = client[db_name]\n",
    "    coll = db[coll_name]\n",
    "    data = pd.read_csv(csv_path)\n",
    "    payload = json.loads(data.to_json(orient='records'))\n",
    "    coll.insert_many(payload)"
   ]
  },
  {
   "cell_type": "code",
   "execution_count": 3,
   "id": "544ee73f",
   "metadata": {},
   "outputs": [],
   "source": [
    "\n",
    "mongo_uri = \"mongodb+srv://steve:\" + urllib.parse.quote(\"Steve@123\") + \"@clustersteve.j5khq.mongodb.net/?retryWrites=true&w=majority\"\n",
    "db_name = 'FitbitData'\n",
    "csv_path = 'FitBitdata.csv'\n",
    "coll_name = 'FitbitData1'\n",
    "mongoimport(csv_path,db_name,coll_name,mongo_uri)"
   ]
  },
  {
   "cell_type": "code",
   "execution_count": 7,
   "id": "b16882ca",
   "metadata": {},
   "outputs": [],
   "source": [
    "# data = pd.read_csv(csv_path)\n",
    "# payload = json.loads(data.to_json(orient='records'))"
   ]
  },
  {
   "cell_type": "code",
   "execution_count": 8,
   "id": "493f0eab",
   "metadata": {},
   "outputs": [
    {
     "data": {
      "text/plain": [
       "list"
      ]
     },
     "execution_count": 8,
     "metadata": {},
     "output_type": "execute_result"
    }
   ],
   "source": [
    "# type(payload)"
   ]
  },
  {
   "cell_type": "code",
   "execution_count": 4,
   "id": "6540848d",
   "metadata": {},
   "outputs": [],
   "source": [
    "dfFitbit = pd.read_csv('Fitbitdata.csv')"
   ]
  },
  {
   "cell_type": "code",
   "execution_count": 5,
   "id": "004615a9",
   "metadata": {},
   "outputs": [
    {
     "data": {
      "text/html": [
       "<div>\n",
       "<style scoped>\n",
       "    .dataframe tbody tr th:only-of-type {\n",
       "        vertical-align: middle;\n",
       "    }\n",
       "\n",
       "    .dataframe tbody tr th {\n",
       "        vertical-align: top;\n",
       "    }\n",
       "\n",
       "    .dataframe thead th {\n",
       "        text-align: right;\n",
       "    }\n",
       "</style>\n",
       "<table border=\"1\" class=\"dataframe\">\n",
       "  <thead>\n",
       "    <tr style=\"text-align: right;\">\n",
       "      <th></th>\n",
       "      <th>Id</th>\n",
       "      <th>ActivityDate</th>\n",
       "      <th>TotalSteps</th>\n",
       "      <th>TotalDistance</th>\n",
       "      <th>TrackerDistance</th>\n",
       "      <th>LoggedActivitiesDistance</th>\n",
       "      <th>VeryActiveDistance</th>\n",
       "      <th>ModeratelyActiveDistance</th>\n",
       "      <th>LightActiveDistance</th>\n",
       "      <th>SedentaryActiveDistance</th>\n",
       "      <th>VeryActiveMinutes</th>\n",
       "      <th>FairlyActiveMinutes</th>\n",
       "      <th>LightlyActiveMinutes</th>\n",
       "      <th>SedentaryMinutes</th>\n",
       "      <th>Calories</th>\n",
       "    </tr>\n",
       "  </thead>\n",
       "  <tbody>\n",
       "    <tr>\n",
       "      <th>0</th>\n",
       "      <td>1503960366</td>\n",
       "      <td>3/25/2016</td>\n",
       "      <td>11004</td>\n",
       "      <td>7.11</td>\n",
       "      <td>7.11</td>\n",
       "      <td>0.0</td>\n",
       "      <td>2.57</td>\n",
       "      <td>0.46</td>\n",
       "      <td>4.07</td>\n",
       "      <td>0.0</td>\n",
       "      <td>33</td>\n",
       "      <td>12</td>\n",
       "      <td>205</td>\n",
       "      <td>804</td>\n",
       "      <td>1819</td>\n",
       "    </tr>\n",
       "    <tr>\n",
       "      <th>1</th>\n",
       "      <td>1503960366</td>\n",
       "      <td>3/26/2016</td>\n",
       "      <td>17609</td>\n",
       "      <td>11.55</td>\n",
       "      <td>11.55</td>\n",
       "      <td>0.0</td>\n",
       "      <td>6.92</td>\n",
       "      <td>0.73</td>\n",
       "      <td>3.91</td>\n",
       "      <td>0.0</td>\n",
       "      <td>89</td>\n",
       "      <td>17</td>\n",
       "      <td>274</td>\n",
       "      <td>588</td>\n",
       "      <td>2154</td>\n",
       "    </tr>\n",
       "    <tr>\n",
       "      <th>2</th>\n",
       "      <td>1503960366</td>\n",
       "      <td>3/27/2016</td>\n",
       "      <td>12736</td>\n",
       "      <td>8.53</td>\n",
       "      <td>8.53</td>\n",
       "      <td>0.0</td>\n",
       "      <td>4.66</td>\n",
       "      <td>0.16</td>\n",
       "      <td>3.71</td>\n",
       "      <td>0.0</td>\n",
       "      <td>56</td>\n",
       "      <td>5</td>\n",
       "      <td>268</td>\n",
       "      <td>605</td>\n",
       "      <td>1944</td>\n",
       "    </tr>\n",
       "    <tr>\n",
       "      <th>3</th>\n",
       "      <td>1503960366</td>\n",
       "      <td>3/28/2016</td>\n",
       "      <td>13231</td>\n",
       "      <td>8.93</td>\n",
       "      <td>8.93</td>\n",
       "      <td>0.0</td>\n",
       "      <td>3.19</td>\n",
       "      <td>0.79</td>\n",
       "      <td>4.95</td>\n",
       "      <td>0.0</td>\n",
       "      <td>39</td>\n",
       "      <td>20</td>\n",
       "      <td>224</td>\n",
       "      <td>1080</td>\n",
       "      <td>1932</td>\n",
       "    </tr>\n",
       "    <tr>\n",
       "      <th>4</th>\n",
       "      <td>1503960366</td>\n",
       "      <td>3/29/2016</td>\n",
       "      <td>12041</td>\n",
       "      <td>7.85</td>\n",
       "      <td>7.85</td>\n",
       "      <td>0.0</td>\n",
       "      <td>2.16</td>\n",
       "      <td>1.09</td>\n",
       "      <td>4.61</td>\n",
       "      <td>0.0</td>\n",
       "      <td>28</td>\n",
       "      <td>28</td>\n",
       "      <td>243</td>\n",
       "      <td>763</td>\n",
       "      <td>1886</td>\n",
       "    </tr>\n",
       "  </tbody>\n",
       "</table>\n",
       "</div>"
      ],
      "text/plain": [
       "           Id ActivityDate  TotalSteps  TotalDistance  TrackerDistance  \\\n",
       "0  1503960366    3/25/2016       11004           7.11             7.11   \n",
       "1  1503960366    3/26/2016       17609          11.55            11.55   \n",
       "2  1503960366    3/27/2016       12736           8.53             8.53   \n",
       "3  1503960366    3/28/2016       13231           8.93             8.93   \n",
       "4  1503960366    3/29/2016       12041           7.85             7.85   \n",
       "\n",
       "   LoggedActivitiesDistance  VeryActiveDistance  ModeratelyActiveDistance  \\\n",
       "0                       0.0                2.57                      0.46   \n",
       "1                       0.0                6.92                      0.73   \n",
       "2                       0.0                4.66                      0.16   \n",
       "3                       0.0                3.19                      0.79   \n",
       "4                       0.0                2.16                      1.09   \n",
       "\n",
       "   LightActiveDistance  SedentaryActiveDistance  VeryActiveMinutes  \\\n",
       "0                 4.07                      0.0                 33   \n",
       "1                 3.91                      0.0                 89   \n",
       "2                 3.71                      0.0                 56   \n",
       "3                 4.95                      0.0                 39   \n",
       "4                 4.61                      0.0                 28   \n",
       "\n",
       "   FairlyActiveMinutes  LightlyActiveMinutes  SedentaryMinutes  Calories  \n",
       "0                   12                   205               804      1819  \n",
       "1                   17                   274               588      2154  \n",
       "2                    5                   268               605      1944  \n",
       "3                   20                   224              1080      1932  \n",
       "4                   28                   243               763      1886  "
      ]
     },
     "execution_count": 5,
     "metadata": {},
     "output_type": "execute_result"
    }
   ],
   "source": [
    "dfFitbit.head(5)"
   ]
  },
  {
   "cell_type": "markdown",
   "id": "5dab14ce",
   "metadata": {},
   "source": [
    "Q3. convert all the dates avaible in dataset to timestamp format in pandas and in sql you to convert it in date format"
   ]
  },
  {
   "cell_type": "code",
   "execution_count": 6,
   "id": "0f6217e8",
   "metadata": {},
   "outputs": [
    {
     "data": {
      "text/plain": [
       "Id                            int64\n",
       "ActivityDate                 object\n",
       "TotalSteps                    int64\n",
       "TotalDistance               float64\n",
       "TrackerDistance             float64\n",
       "LoggedActivitiesDistance    float64\n",
       "VeryActiveDistance          float64\n",
       "ModeratelyActiveDistance    float64\n",
       "LightActiveDistance         float64\n",
       "SedentaryActiveDistance     float64\n",
       "VeryActiveMinutes             int64\n",
       "FairlyActiveMinutes           int64\n",
       "LightlyActiveMinutes          int64\n",
       "SedentaryMinutes              int64\n",
       "Calories                      int64\n",
       "dtype: object"
      ]
     },
     "execution_count": 6,
     "metadata": {},
     "output_type": "execute_result"
    }
   ],
   "source": [
    "dfFitbit.dtypes"
   ]
  },
  {
   "cell_type": "code",
   "execution_count": 7,
   "id": "790818cb",
   "metadata": {},
   "outputs": [],
   "source": [
    "dfFitbit['ActivityDate']=pd.to_datetime(dfFitbit['ActivityDate'])"
   ]
  },
  {
   "cell_type": "code",
   "execution_count": 8,
   "id": "ae9ffe8b",
   "metadata": {},
   "outputs": [
    {
     "data": {
      "text/plain": [
       "Id                                   int64\n",
       "ActivityDate                datetime64[ns]\n",
       "TotalSteps                           int64\n",
       "TotalDistance                      float64\n",
       "TrackerDistance                    float64\n",
       "LoggedActivitiesDistance           float64\n",
       "VeryActiveDistance                 float64\n",
       "ModeratelyActiveDistance           float64\n",
       "LightActiveDistance                float64\n",
       "SedentaryActiveDistance            float64\n",
       "VeryActiveMinutes                    int64\n",
       "FairlyActiveMinutes                  int64\n",
       "LightlyActiveMinutes                 int64\n",
       "SedentaryMinutes                     int64\n",
       "Calories                             int64\n",
       "dtype: object"
      ]
     },
     "execution_count": 8,
     "metadata": {},
     "output_type": "execute_result"
    }
   ],
   "source": [
    "dfFitbit.dtypes"
   ]
  },
  {
   "cell_type": "code",
   "execution_count": 9,
   "id": "4bcdc0ab",
   "metadata": {
    "scrolled": true
   },
   "outputs": [
    {
     "data": {
      "text/html": [
       "<div>\n",
       "<style scoped>\n",
       "    .dataframe tbody tr th:only-of-type {\n",
       "        vertical-align: middle;\n",
       "    }\n",
       "\n",
       "    .dataframe tbody tr th {\n",
       "        vertical-align: top;\n",
       "    }\n",
       "\n",
       "    .dataframe thead th {\n",
       "        text-align: right;\n",
       "    }\n",
       "</style>\n",
       "<table border=\"1\" class=\"dataframe\">\n",
       "  <thead>\n",
       "    <tr style=\"text-align: right;\">\n",
       "      <th></th>\n",
       "      <th>Id</th>\n",
       "      <th>ActivityDate</th>\n",
       "      <th>TotalSteps</th>\n",
       "      <th>TotalDistance</th>\n",
       "      <th>TrackerDistance</th>\n",
       "      <th>LoggedActivitiesDistance</th>\n",
       "      <th>VeryActiveDistance</th>\n",
       "      <th>ModeratelyActiveDistance</th>\n",
       "      <th>LightActiveDistance</th>\n",
       "      <th>SedentaryActiveDistance</th>\n",
       "      <th>VeryActiveMinutes</th>\n",
       "      <th>FairlyActiveMinutes</th>\n",
       "      <th>LightlyActiveMinutes</th>\n",
       "      <th>SedentaryMinutes</th>\n",
       "      <th>Calories</th>\n",
       "    </tr>\n",
       "  </thead>\n",
       "  <tbody>\n",
       "    <tr>\n",
       "      <th>0</th>\n",
       "      <td>1503960366</td>\n",
       "      <td>2016-03-25</td>\n",
       "      <td>11004</td>\n",
       "      <td>7.11</td>\n",
       "      <td>7.11</td>\n",
       "      <td>0.0</td>\n",
       "      <td>2.57</td>\n",
       "      <td>0.46</td>\n",
       "      <td>4.07</td>\n",
       "      <td>0.0</td>\n",
       "      <td>33</td>\n",
       "      <td>12</td>\n",
       "      <td>205</td>\n",
       "      <td>804</td>\n",
       "      <td>1819</td>\n",
       "    </tr>\n",
       "    <tr>\n",
       "      <th>1</th>\n",
       "      <td>1503960366</td>\n",
       "      <td>2016-03-26</td>\n",
       "      <td>17609</td>\n",
       "      <td>11.55</td>\n",
       "      <td>11.55</td>\n",
       "      <td>0.0</td>\n",
       "      <td>6.92</td>\n",
       "      <td>0.73</td>\n",
       "      <td>3.91</td>\n",
       "      <td>0.0</td>\n",
       "      <td>89</td>\n",
       "      <td>17</td>\n",
       "      <td>274</td>\n",
       "      <td>588</td>\n",
       "      <td>2154</td>\n",
       "    </tr>\n",
       "    <tr>\n",
       "      <th>2</th>\n",
       "      <td>1503960366</td>\n",
       "      <td>2016-03-27</td>\n",
       "      <td>12736</td>\n",
       "      <td>8.53</td>\n",
       "      <td>8.53</td>\n",
       "      <td>0.0</td>\n",
       "      <td>4.66</td>\n",
       "      <td>0.16</td>\n",
       "      <td>3.71</td>\n",
       "      <td>0.0</td>\n",
       "      <td>56</td>\n",
       "      <td>5</td>\n",
       "      <td>268</td>\n",
       "      <td>605</td>\n",
       "      <td>1944</td>\n",
       "    </tr>\n",
       "    <tr>\n",
       "      <th>3</th>\n",
       "      <td>1503960366</td>\n",
       "      <td>2016-03-28</td>\n",
       "      <td>13231</td>\n",
       "      <td>8.93</td>\n",
       "      <td>8.93</td>\n",
       "      <td>0.0</td>\n",
       "      <td>3.19</td>\n",
       "      <td>0.79</td>\n",
       "      <td>4.95</td>\n",
       "      <td>0.0</td>\n",
       "      <td>39</td>\n",
       "      <td>20</td>\n",
       "      <td>224</td>\n",
       "      <td>1080</td>\n",
       "      <td>1932</td>\n",
       "    </tr>\n",
       "    <tr>\n",
       "      <th>4</th>\n",
       "      <td>1503960366</td>\n",
       "      <td>2016-03-29</td>\n",
       "      <td>12041</td>\n",
       "      <td>7.85</td>\n",
       "      <td>7.85</td>\n",
       "      <td>0.0</td>\n",
       "      <td>2.16</td>\n",
       "      <td>1.09</td>\n",
       "      <td>4.61</td>\n",
       "      <td>0.0</td>\n",
       "      <td>28</td>\n",
       "      <td>28</td>\n",
       "      <td>243</td>\n",
       "      <td>763</td>\n",
       "      <td>1886</td>\n",
       "    </tr>\n",
       "  </tbody>\n",
       "</table>\n",
       "</div>"
      ],
      "text/plain": [
       "           Id ActivityDate  TotalSteps  TotalDistance  TrackerDistance  \\\n",
       "0  1503960366   2016-03-25       11004           7.11             7.11   \n",
       "1  1503960366   2016-03-26       17609          11.55            11.55   \n",
       "2  1503960366   2016-03-27       12736           8.53             8.53   \n",
       "3  1503960366   2016-03-28       13231           8.93             8.93   \n",
       "4  1503960366   2016-03-29       12041           7.85             7.85   \n",
       "\n",
       "   LoggedActivitiesDistance  VeryActiveDistance  ModeratelyActiveDistance  \\\n",
       "0                       0.0                2.57                      0.46   \n",
       "1                       0.0                6.92                      0.73   \n",
       "2                       0.0                4.66                      0.16   \n",
       "3                       0.0                3.19                      0.79   \n",
       "4                       0.0                2.16                      1.09   \n",
       "\n",
       "   LightActiveDistance  SedentaryActiveDistance  VeryActiveMinutes  \\\n",
       "0                 4.07                      0.0                 33   \n",
       "1                 3.91                      0.0                 89   \n",
       "2                 3.71                      0.0                 56   \n",
       "3                 4.95                      0.0                 39   \n",
       "4                 4.61                      0.0                 28   \n",
       "\n",
       "   FairlyActiveMinutes  LightlyActiveMinutes  SedentaryMinutes  Calories  \n",
       "0                   12                   205               804      1819  \n",
       "1                   17                   274               588      2154  \n",
       "2                    5                   268               605      1944  \n",
       "3                   20                   224              1080      1932  \n",
       "4                   28                   243               763      1886  "
      ]
     },
     "execution_count": 9,
     "metadata": {},
     "output_type": "execute_result"
    }
   ],
   "source": [
    "dfFitbit.head(5)"
   ]
  },
  {
   "cell_type": "markdown",
   "id": "bef1d1b8",
   "metadata": {},
   "source": [
    "Q4 . Find out in this data that how many unique id's we have "
   ]
  },
  {
   "cell_type": "code",
   "execution_count": 10,
   "id": "d14452b4",
   "metadata": {},
   "outputs": [
    {
     "data": {
      "text/plain": [
       "35"
      ]
     },
     "execution_count": 10,
     "metadata": {},
     "output_type": "execute_result"
    }
   ],
   "source": [
    "len(pd.unique(dfFitbit['Id']))"
   ]
  },
  {
   "cell_type": "markdown",
   "id": "8a168ef9",
   "metadata": {},
   "source": [
    "Q5 . which id is one of the active id that you have in whole dataset \n"
   ]
  },
  {
   "cell_type": "code",
   "execution_count": 36,
   "id": "fd59371a",
   "metadata": {},
   "outputs": [
    {
     "data": {
      "text/html": [
       "<div>\n",
       "<style scoped>\n",
       "    .dataframe tbody tr th:only-of-type {\n",
       "        vertical-align: middle;\n",
       "    }\n",
       "\n",
       "    .dataframe tbody tr th {\n",
       "        vertical-align: top;\n",
       "    }\n",
       "\n",
       "    .dataframe thead th {\n",
       "        text-align: right;\n",
       "    }\n",
       "</style>\n",
       "<table border=\"1\" class=\"dataframe\">\n",
       "  <thead>\n",
       "    <tr style=\"text-align: right;\">\n",
       "      <th></th>\n",
       "      <th>Id</th>\n",
       "      <th>TotalSteps</th>\n",
       "    </tr>\n",
       "  </thead>\n",
       "  <tbody>\n",
       "    <tr>\n",
       "      <th>0</th>\n",
       "      <td>1503960366</td>\n",
       "      <td>221170</td>\n",
       "    </tr>\n",
       "  </tbody>\n",
       "</table>\n",
       "</div>"
      ],
      "text/plain": [
       "           Id  TotalSteps\n",
       "0  1503960366      221170"
      ]
     },
     "execution_count": 36,
     "metadata": {},
     "output_type": "execute_result"
    }
   ],
   "source": [
    "\n",
    "(\n",
    "    dfFitbit.groupby(['Id'],as_index=False)[['TotalSteps']]\n",
    "    .sum(['TotalSteps'])\n",
    "    .sort_values('TotalSteps',ascending=False)\n",
    "    .head(1)\n",
    ")\n"
   ]
  },
  {
   "cell_type": "markdown",
   "id": "bae8ec98",
   "metadata": {},
   "source": [
    "Q6 . how many of them have not logged there activity find out in terms of number of ids "
   ]
  },
  {
   "cell_type": "code",
   "execution_count": 17,
   "id": "fac5a094",
   "metadata": {},
   "outputs": [
    {
     "data": {
      "text/plain": [
       "14"
      ]
     },
     "execution_count": 17,
     "metadata": {},
     "output_type": "execute_result"
    }
   ],
   "source": [
    "(\n",
    "    len(pd.unique(dfFitbit.loc[dfFitbit['TotalSteps']==0,'Id']))\n",
    ")"
   ]
  },
  {
   "cell_type": "markdown",
   "id": "356b49d2",
   "metadata": {},
   "source": [
    "Q7 . Find out who is the laziest person id that we have in dataset "
   ]
  },
  {
   "cell_type": "code",
   "execution_count": 35,
   "id": "08aac04e",
   "metadata": {},
   "outputs": [
    {
     "data": {
      "text/plain": [
       "Id      8253242879\n",
       "size            13\n",
       "dtype: int64"
      ]
     },
     "execution_count": 35,
     "metadata": {},
     "output_type": "execute_result"
    }
   ],
   "source": [
    "(\n",
    "    dfFitbit.loc[dfFitbit['TotalSteps']==0]\n",
    "    .groupby(['Id'],as_index=False)\n",
    "    .size()\n",
    "#     .sort_values(by='size',ascending=False)\n",
    "    .max()\n",
    ")"
   ]
  },
  {
   "cell_type": "markdown",
   "id": "38a9d703",
   "metadata": {},
   "source": [
    "Q8 . Explore over an internet that how much calories burn is required for a healthy person and find out how many healthy person we have in our dataset \n"
   ]
  },
  {
   "cell_type": "code",
   "execution_count": 41,
   "id": "3bb38b12",
   "metadata": {},
   "outputs": [
    {
     "data": {
      "text/plain": [
       "17"
      ]
     },
     "execution_count": 41,
     "metadata": {},
     "output_type": "execute_result"
    }
   ],
   "source": [
    "# Assuming 2500 calories per day\n",
    "\n",
    "(\n",
    "    len(pd.unique(dfFitbit.loc[dfFitbit['Calories']>=2500,'Id']))\n",
    ")"
   ]
  },
  {
   "cell_type": "markdown",
   "id": "7718f2ea",
   "metadata": {},
   "source": [
    "Q9. how many person are not a regular person with respect to activity try to find out those \n"
   ]
  },
  {
   "cell_type": "code",
   "execution_count": 62,
   "id": "bdf960b7",
   "metadata": {},
   "outputs": [
    {
     "data": {
      "text/plain": [
       "1"
      ]
     },
     "execution_count": 62,
     "metadata": {},
     "output_type": "execute_result"
    }
   ],
   "source": [
    "# Assuming per week, 3 days a person should be active or 12 days per month\n",
    "\n",
    "dfNoActivity= (\n",
    "    dfFitbit.loc[dfFitbit['TotalSteps']==0]\n",
    "    .groupby(['Id'],as_index=False)\n",
    "    .size()\n",
    ")\n",
    "\n",
    "len(dfNoActivity[dfNoActivity['size']>=12])\n",
    "\n",
    "# pd.DataFrame(pd.unique(dfFitbit['ActivityDate'])).sort_values(by=0)\n"
   ]
  },
  {
   "cell_type": "markdown",
   "id": "3f0b0dc8",
   "metadata": {},
   "source": [
    "Q10 . who is the thired most active person in this dataset find out those in pandas and in sql both . \n"
   ]
  },
  {
   "cell_type": "code",
   "execution_count": 72,
   "id": "572cb6d5",
   "metadata": {},
   "outputs": [
    {
     "data": {
      "text/plain": [
       "Id            4020332650\n",
       "TotalSteps        184851\n",
       "Name: 2, dtype: int64"
      ]
     },
     "execution_count": 72,
     "metadata": {},
     "output_type": "execute_result"
    }
   ],
   "source": [
    "dfActivePersons = (\n",
    "    dfFitbit.groupby(['Id'],as_index=False)[['TotalSteps']]\n",
    "    .sum(['TotalSteps'])\n",
    "    .sort_values('TotalSteps',ascending=False)\n",
    "    .reset_index()\n",
    ")\n",
    "\n",
    "dfActivePersons.iloc[2,1:]"
   ]
  },
  {
   "cell_type": "markdown",
   "id": "bd2857be",
   "metadata": {},
   "source": [
    "Q11 . who is the 5th most laziest person avilable in dataset find it out \n"
   ]
  },
  {
   "cell_type": "code",
   "execution_count": 79,
   "id": "a42a49c5",
   "metadata": {},
   "outputs": [
    {
     "data": {
      "text/plain": [
       "6391747486"
      ]
     },
     "execution_count": 79,
     "metadata": {},
     "output_type": "execute_result"
    }
   ],
   "source": [
    "dfNoActivityNewIndex = (\n",
    "    dfNoActivity\n",
    "    .sort_values(by='size',ascending=False)\n",
    "    .reset_index()\n",
    ")\n",
    "dfNoActivityNewIndex.iloc[4,1]"
   ]
  },
  {
   "cell_type": "markdown",
   "id": "cbd0a902",
   "metadata": {},
   "source": [
    "Q12 . what is a totla acumulative calories burn for a person find out \n"
   ]
  },
  {
   "cell_type": "code",
   "execution_count": 80,
   "id": "16d3a666",
   "metadata": {},
   "outputs": [
    {
     "data": {
      "text/html": [
       "<div>\n",
       "<style scoped>\n",
       "    .dataframe tbody tr th:only-of-type {\n",
       "        vertical-align: middle;\n",
       "    }\n",
       "\n",
       "    .dataframe tbody tr th {\n",
       "        vertical-align: top;\n",
       "    }\n",
       "\n",
       "    .dataframe thead th {\n",
       "        text-align: right;\n",
       "    }\n",
       "</style>\n",
       "<table border=\"1\" class=\"dataframe\">\n",
       "  <thead>\n",
       "    <tr style=\"text-align: right;\">\n",
       "      <th></th>\n",
       "      <th>Id</th>\n",
       "      <th>Calories</th>\n",
       "    </tr>\n",
       "  </thead>\n",
       "  <tbody>\n",
       "    <tr>\n",
       "      <th>0</th>\n",
       "      <td>1503960366</td>\n",
       "      <td>34128</td>\n",
       "    </tr>\n",
       "    <tr>\n",
       "      <th>1</th>\n",
       "      <td>1624580081</td>\n",
       "      <td>25705</td>\n",
       "    </tr>\n",
       "    <tr>\n",
       "      <th>2</th>\n",
       "      <td>1644430081</td>\n",
       "      <td>29164</td>\n",
       "    </tr>\n",
       "    <tr>\n",
       "      <th>3</th>\n",
       "      <td>1844505072</td>\n",
       "      <td>19391</td>\n",
       "    </tr>\n",
       "    <tr>\n",
       "      <th>4</th>\n",
       "      <td>1927972279</td>\n",
       "      <td>27048</td>\n",
       "    </tr>\n",
       "    <tr>\n",
       "      <th>5</th>\n",
       "      <td>2022484408</td>\n",
       "      <td>29704</td>\n",
       "    </tr>\n",
       "    <tr>\n",
       "      <th>6</th>\n",
       "      <td>2026352035</td>\n",
       "      <td>16266</td>\n",
       "    </tr>\n",
       "    <tr>\n",
       "      <th>7</th>\n",
       "      <td>2320127002</td>\n",
       "      <td>18385</td>\n",
       "    </tr>\n",
       "    <tr>\n",
       "      <th>8</th>\n",
       "      <td>2347167796</td>\n",
       "      <td>30320</td>\n",
       "    </tr>\n",
       "    <tr>\n",
       "      <th>9</th>\n",
       "      <td>2873212765</td>\n",
       "      <td>20349</td>\n",
       "    </tr>\n",
       "    <tr>\n",
       "      <th>10</th>\n",
       "      <td>2891001357</td>\n",
       "      <td>18187</td>\n",
       "    </tr>\n",
       "    <tr>\n",
       "      <th>11</th>\n",
       "      <td>3372868164</td>\n",
       "      <td>18603</td>\n",
       "    </tr>\n",
       "    <tr>\n",
       "      <th>12</th>\n",
       "      <td>3977333714</td>\n",
       "      <td>16777</td>\n",
       "    </tr>\n",
       "    <tr>\n",
       "      <th>13</th>\n",
       "      <td>4020332650</td>\n",
       "      <td>98412</td>\n",
       "    </tr>\n",
       "    <tr>\n",
       "      <th>14</th>\n",
       "      <td>4057192912</td>\n",
       "      <td>60913</td>\n",
       "    </tr>\n",
       "    <tr>\n",
       "      <th>15</th>\n",
       "      <td>4319703577</td>\n",
       "      <td>23931</td>\n",
       "    </tr>\n",
       "    <tr>\n",
       "      <th>16</th>\n",
       "      <td>4388161847</td>\n",
       "      <td>14442</td>\n",
       "    </tr>\n",
       "    <tr>\n",
       "      <th>17</th>\n",
       "      <td>4445114986</td>\n",
       "      <td>31617</td>\n",
       "    </tr>\n",
       "    <tr>\n",
       "      <th>18</th>\n",
       "      <td>4558609924</td>\n",
       "      <td>21962</td>\n",
       "    </tr>\n",
       "    <tr>\n",
       "      <th>19</th>\n",
       "      <td>4702921684</td>\n",
       "      <td>42322</td>\n",
       "    </tr>\n",
       "    <tr>\n",
       "      <th>20</th>\n",
       "      <td>5553957443</td>\n",
       "      <td>21630</td>\n",
       "    </tr>\n",
       "    <tr>\n",
       "      <th>21</th>\n",
       "      <td>5577150313</td>\n",
       "      <td>36303</td>\n",
       "    </tr>\n",
       "    <tr>\n",
       "      <th>22</th>\n",
       "      <td>6117666160</td>\n",
       "      <td>20993</td>\n",
       "    </tr>\n",
       "    <tr>\n",
       "      <th>23</th>\n",
       "      <td>6290855005</td>\n",
       "      <td>21656</td>\n",
       "    </tr>\n",
       "    <tr>\n",
       "      <th>24</th>\n",
       "      <td>6391747486</td>\n",
       "      <td>15868</td>\n",
       "    </tr>\n",
       "    <tr>\n",
       "      <th>25</th>\n",
       "      <td>6775888955</td>\n",
       "      <td>24523</td>\n",
       "    </tr>\n",
       "    <tr>\n",
       "      <th>26</th>\n",
       "      <td>6962181067</td>\n",
       "      <td>29249</td>\n",
       "    </tr>\n",
       "    <tr>\n",
       "      <th>27</th>\n",
       "      <td>7007744171</td>\n",
       "      <td>31525</td>\n",
       "    </tr>\n",
       "    <tr>\n",
       "      <th>28</th>\n",
       "      <td>7086361926</td>\n",
       "      <td>26124</td>\n",
       "    </tr>\n",
       "    <tr>\n",
       "      <th>29</th>\n",
       "      <td>8053475328</td>\n",
       "      <td>31825</td>\n",
       "    </tr>\n",
       "    <tr>\n",
       "      <th>30</th>\n",
       "      <td>8253242879</td>\n",
       "      <td>17556</td>\n",
       "    </tr>\n",
       "    <tr>\n",
       "      <th>31</th>\n",
       "      <td>8378563200</td>\n",
       "      <td>40274</td>\n",
       "    </tr>\n",
       "    <tr>\n",
       "      <th>32</th>\n",
       "      <td>8583815059</td>\n",
       "      <td>19130</td>\n",
       "    </tr>\n",
       "    <tr>\n",
       "      <th>33</th>\n",
       "      <td>8792009665</td>\n",
       "      <td>24884</td>\n",
       "    </tr>\n",
       "    <tr>\n",
       "      <th>34</th>\n",
       "      <td>8877689391</td>\n",
       "      <td>41414</td>\n",
       "    </tr>\n",
       "  </tbody>\n",
       "</table>\n",
       "</div>"
      ],
      "text/plain": [
       "            Id  Calories\n",
       "0   1503960366     34128\n",
       "1   1624580081     25705\n",
       "2   1644430081     29164\n",
       "3   1844505072     19391\n",
       "4   1927972279     27048\n",
       "5   2022484408     29704\n",
       "6   2026352035     16266\n",
       "7   2320127002     18385\n",
       "8   2347167796     30320\n",
       "9   2873212765     20349\n",
       "10  2891001357     18187\n",
       "11  3372868164     18603\n",
       "12  3977333714     16777\n",
       "13  4020332650     98412\n",
       "14  4057192912     60913\n",
       "15  4319703577     23931\n",
       "16  4388161847     14442\n",
       "17  4445114986     31617\n",
       "18  4558609924     21962\n",
       "19  4702921684     42322\n",
       "20  5553957443     21630\n",
       "21  5577150313     36303\n",
       "22  6117666160     20993\n",
       "23  6290855005     21656\n",
       "24  6391747486     15868\n",
       "25  6775888955     24523\n",
       "26  6962181067     29249\n",
       "27  7007744171     31525\n",
       "28  7086361926     26124\n",
       "29  8053475328     31825\n",
       "30  8253242879     17556\n",
       "31  8378563200     40274\n",
       "32  8583815059     19130\n",
       "33  8792009665     24884\n",
       "34  8877689391     41414"
      ]
     },
     "execution_count": 80,
     "metadata": {},
     "output_type": "execute_result"
    }
   ],
   "source": [
    "(\n",
    "    dfFitbit\n",
    "    .groupby(['Id'],as_index=False)[['Calories']]\n",
    "    .sum(['Calories'])\n",
    ")"
   ]
  },
  {
   "cell_type": "code",
   "execution_count": null,
   "id": "91bfc6da",
   "metadata": {},
   "outputs": [],
   "source": []
  }
 ],
 "metadata": {
  "kernelspec": {
   "display_name": "Python 3 (ipykernel)",
   "language": "python",
   "name": "python3"
  },
  "language_info": {
   "codemirror_mode": {
    "name": "ipython",
    "version": 3
   },
   "file_extension": ".py",
   "mimetype": "text/x-python",
   "name": "python",
   "nbconvert_exporter": "python",
   "pygments_lexer": "ipython3",
   "version": "3.9.12"
  }
 },
 "nbformat": 4,
 "nbformat_minor": 5
}
