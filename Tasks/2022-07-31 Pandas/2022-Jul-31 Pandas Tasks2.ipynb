{
 "cells": [
  {
   "cell_type": "code",
   "execution_count": 1,
   "id": "02a977c8",
   "metadata": {},
   "outputs": [],
   "source": [
    "import pandas as pd"
   ]
  },
  {
   "cell_type": "code",
   "execution_count": 15,
   "id": "516c9e6a",
   "metadata": {},
   "outputs": [],
   "source": [
    "dfSSOrders = pd.read_excel('Superstore_Usa.xlsx',sheet_name='Orders')\n",
    "dfSSReturns = pd.read_excel('Superstore_Usa.xlsx',sheet_name='Returns')\n",
    "dfSSUsers = pd.read_excel('Superstore_Usa.xlsx',sheet_name='Users')"
   ]
  },
  {
   "cell_type": "markdown",
   "id": "d0062272",
   "metadata": {},
   "source": [
    "### Analysis of Orders"
   ]
  },
  {
   "cell_type": "code",
   "execution_count": 13,
   "id": "7ccfc4b9",
   "metadata": {},
   "outputs": [
    {
     "data": {
      "text/html": [
       "<div>\n",
       "<style scoped>\n",
       "    .dataframe tbody tr th:only-of-type {\n",
       "        vertical-align: middle;\n",
       "    }\n",
       "\n",
       "    .dataframe tbody tr th {\n",
       "        vertical-align: top;\n",
       "    }\n",
       "\n",
       "    .dataframe thead th {\n",
       "        text-align: right;\n",
       "    }\n",
       "</style>\n",
       "<table border=\"1\" class=\"dataframe\">\n",
       "  <thead>\n",
       "    <tr style=\"text-align: right;\">\n",
       "      <th></th>\n",
       "      <th>Row ID</th>\n",
       "      <th>Order Priority</th>\n",
       "      <th>Discount</th>\n",
       "      <th>Unit Price</th>\n",
       "      <th>Shipping Cost</th>\n",
       "      <th>Customer ID</th>\n",
       "      <th>Customer Name</th>\n",
       "      <th>Ship Mode</th>\n",
       "      <th>Customer Segment</th>\n",
       "      <th>Product Category</th>\n",
       "      <th>...</th>\n",
       "      <th>Region</th>\n",
       "      <th>State or Province</th>\n",
       "      <th>City</th>\n",
       "      <th>Postal Code</th>\n",
       "      <th>Order Date</th>\n",
       "      <th>Ship Date</th>\n",
       "      <th>Profit</th>\n",
       "      <th>Quantity ordered new</th>\n",
       "      <th>Sales</th>\n",
       "      <th>Order ID</th>\n",
       "    </tr>\n",
       "  </thead>\n",
       "  <tbody>\n",
       "    <tr>\n",
       "      <th>0</th>\n",
       "      <td>18606</td>\n",
       "      <td>Not Specified</td>\n",
       "      <td>0.01</td>\n",
       "      <td>2.88</td>\n",
       "      <td>0.50</td>\n",
       "      <td>2</td>\n",
       "      <td>Janice Fletcher</td>\n",
       "      <td>Regular Air</td>\n",
       "      <td>Corporate</td>\n",
       "      <td>Office Supplies</td>\n",
       "      <td>...</td>\n",
       "      <td>Central</td>\n",
       "      <td>Illinois</td>\n",
       "      <td>Addison</td>\n",
       "      <td>60101</td>\n",
       "      <td>2012-05-28</td>\n",
       "      <td>2012-05-30</td>\n",
       "      <td>1.3200</td>\n",
       "      <td>2</td>\n",
       "      <td>5.90</td>\n",
       "      <td>88525</td>\n",
       "    </tr>\n",
       "    <tr>\n",
       "      <th>1</th>\n",
       "      <td>20847</td>\n",
       "      <td>High</td>\n",
       "      <td>0.01</td>\n",
       "      <td>2.84</td>\n",
       "      <td>0.93</td>\n",
       "      <td>3</td>\n",
       "      <td>Bonnie Potter</td>\n",
       "      <td>Express Air</td>\n",
       "      <td>Corporate</td>\n",
       "      <td>Office Supplies</td>\n",
       "      <td>...</td>\n",
       "      <td>West</td>\n",
       "      <td>Washington</td>\n",
       "      <td>Anacortes</td>\n",
       "      <td>98221</td>\n",
       "      <td>2010-07-07</td>\n",
       "      <td>2010-07-08</td>\n",
       "      <td>4.5600</td>\n",
       "      <td>4</td>\n",
       "      <td>13.01</td>\n",
       "      <td>88522</td>\n",
       "    </tr>\n",
       "    <tr>\n",
       "      <th>2</th>\n",
       "      <td>23086</td>\n",
       "      <td>Not Specified</td>\n",
       "      <td>0.03</td>\n",
       "      <td>6.68</td>\n",
       "      <td>6.15</td>\n",
       "      <td>3</td>\n",
       "      <td>Bonnie Potter</td>\n",
       "      <td>Express Air</td>\n",
       "      <td>Corporate</td>\n",
       "      <td>Office Supplies</td>\n",
       "      <td>...</td>\n",
       "      <td>West</td>\n",
       "      <td>Washington</td>\n",
       "      <td>Anacortes</td>\n",
       "      <td>98221</td>\n",
       "      <td>2011-07-27</td>\n",
       "      <td>2011-07-28</td>\n",
       "      <td>-47.6400</td>\n",
       "      <td>7</td>\n",
       "      <td>49.92</td>\n",
       "      <td>88523</td>\n",
       "    </tr>\n",
       "    <tr>\n",
       "      <th>3</th>\n",
       "      <td>23087</td>\n",
       "      <td>Not Specified</td>\n",
       "      <td>0.01</td>\n",
       "      <td>5.68</td>\n",
       "      <td>3.60</td>\n",
       "      <td>3</td>\n",
       "      <td>Bonnie Potter</td>\n",
       "      <td>Regular Air</td>\n",
       "      <td>Corporate</td>\n",
       "      <td>Office Supplies</td>\n",
       "      <td>...</td>\n",
       "      <td>West</td>\n",
       "      <td>Washington</td>\n",
       "      <td>Anacortes</td>\n",
       "      <td>98221</td>\n",
       "      <td>2011-07-27</td>\n",
       "      <td>2011-07-28</td>\n",
       "      <td>-30.5100</td>\n",
       "      <td>7</td>\n",
       "      <td>41.64</td>\n",
       "      <td>88523</td>\n",
       "    </tr>\n",
       "    <tr>\n",
       "      <th>4</th>\n",
       "      <td>23088</td>\n",
       "      <td>Not Specified</td>\n",
       "      <td>0.00</td>\n",
       "      <td>205.99</td>\n",
       "      <td>2.50</td>\n",
       "      <td>3</td>\n",
       "      <td>Bonnie Potter</td>\n",
       "      <td>Express Air</td>\n",
       "      <td>Corporate</td>\n",
       "      <td>Technology</td>\n",
       "      <td>...</td>\n",
       "      <td>West</td>\n",
       "      <td>Washington</td>\n",
       "      <td>Anacortes</td>\n",
       "      <td>98221</td>\n",
       "      <td>2011-07-27</td>\n",
       "      <td>2011-07-27</td>\n",
       "      <td>998.2023</td>\n",
       "      <td>8</td>\n",
       "      <td>1446.67</td>\n",
       "      <td>88523</td>\n",
       "    </tr>\n",
       "    <tr>\n",
       "      <th>5</th>\n",
       "      <td>23597</td>\n",
       "      <td>Medium</td>\n",
       "      <td>0.09</td>\n",
       "      <td>55.48</td>\n",
       "      <td>14.30</td>\n",
       "      <td>3</td>\n",
       "      <td>Bonnie Potter</td>\n",
       "      <td>Express Air</td>\n",
       "      <td>Corporate</td>\n",
       "      <td>Office Supplies</td>\n",
       "      <td>...</td>\n",
       "      <td>West</td>\n",
       "      <td>Washington</td>\n",
       "      <td>Anacortes</td>\n",
       "      <td>98221</td>\n",
       "      <td>2011-11-09</td>\n",
       "      <td>2011-11-11</td>\n",
       "      <td>1388.0523</td>\n",
       "      <td>37</td>\n",
       "      <td>2011.67</td>\n",
       "      <td>88524</td>\n",
       "    </tr>\n",
       "    <tr>\n",
       "      <th>6</th>\n",
       "      <td>25549</td>\n",
       "      <td>Low</td>\n",
       "      <td>0.08</td>\n",
       "      <td>120.97</td>\n",
       "      <td>26.30</td>\n",
       "      <td>3</td>\n",
       "      <td>Bonnie Potter</td>\n",
       "      <td>Delivery Truck</td>\n",
       "      <td>Corporate</td>\n",
       "      <td>Technology</td>\n",
       "      <td>...</td>\n",
       "      <td>West</td>\n",
       "      <td>Washington</td>\n",
       "      <td>Anacortes</td>\n",
       "      <td>98221</td>\n",
       "      <td>2013-07-01</td>\n",
       "      <td>2013-07-08</td>\n",
       "      <td>1001.4453</td>\n",
       "      <td>12</td>\n",
       "      <td>1451.37</td>\n",
       "      <td>88526</td>\n",
       "    </tr>\n",
       "    <tr>\n",
       "      <th>7</th>\n",
       "      <td>20228</td>\n",
       "      <td>Not Specified</td>\n",
       "      <td>0.02</td>\n",
       "      <td>500.98</td>\n",
       "      <td>26.00</td>\n",
       "      <td>5</td>\n",
       "      <td>Ronnie Proctor</td>\n",
       "      <td>Delivery Truck</td>\n",
       "      <td>Home Office</td>\n",
       "      <td>Furniture</td>\n",
       "      <td>...</td>\n",
       "      <td>West</td>\n",
       "      <td>California</td>\n",
       "      <td>San Gabriel</td>\n",
       "      <td>91776</td>\n",
       "      <td>2010-12-13</td>\n",
       "      <td>2010-12-15</td>\n",
       "      <td>4390.3665</td>\n",
       "      <td>12</td>\n",
       "      <td>6362.85</td>\n",
       "      <td>90193</td>\n",
       "    </tr>\n",
       "    <tr>\n",
       "      <th>8</th>\n",
       "      <td>19483</td>\n",
       "      <td>Low</td>\n",
       "      <td>0.08</td>\n",
       "      <td>6.48</td>\n",
       "      <td>6.81</td>\n",
       "      <td>5</td>\n",
       "      <td>Ronnie Proctor</td>\n",
       "      <td>Regular Air</td>\n",
       "      <td>Home Office</td>\n",
       "      <td>Office Supplies</td>\n",
       "      <td>...</td>\n",
       "      <td>West</td>\n",
       "      <td>California</td>\n",
       "      <td>San Gabriel</td>\n",
       "      <td>91776</td>\n",
       "      <td>2012-05-12</td>\n",
       "      <td>2012-05-21</td>\n",
       "      <td>-141.2600</td>\n",
       "      <td>18</td>\n",
       "      <td>113.25</td>\n",
       "      <td>90197</td>\n",
       "    </tr>\n",
       "    <tr>\n",
       "      <th>9</th>\n",
       "      <td>24782</td>\n",
       "      <td>High</td>\n",
       "      <td>0.01</td>\n",
       "      <td>90.24</td>\n",
       "      <td>0.99</td>\n",
       "      <td>6</td>\n",
       "      <td>Dwight Hwang</td>\n",
       "      <td>Regular Air</td>\n",
       "      <td>Home Office</td>\n",
       "      <td>Office Supplies</td>\n",
       "      <td>...</td>\n",
       "      <td>West</td>\n",
       "      <td>California</td>\n",
       "      <td>San Jose</td>\n",
       "      <td>95123</td>\n",
       "      <td>2011-05-26</td>\n",
       "      <td>2011-05-26</td>\n",
       "      <td>1045.4673</td>\n",
       "      <td>16</td>\n",
       "      <td>1515.17</td>\n",
       "      <td>90194</td>\n",
       "    </tr>\n",
       "  </tbody>\n",
       "</table>\n",
       "<p>10 rows × 24 columns</p>\n",
       "</div>"
      ],
      "text/plain": [
       "   Row ID Order Priority  Discount  Unit Price  Shipping Cost  Customer ID  \\\n",
       "0   18606  Not Specified      0.01        2.88           0.50            2   \n",
       "1   20847           High      0.01        2.84           0.93            3   \n",
       "2   23086  Not Specified      0.03        6.68           6.15            3   \n",
       "3   23087  Not Specified      0.01        5.68           3.60            3   \n",
       "4   23088  Not Specified      0.00      205.99           2.50            3   \n",
       "5   23597         Medium      0.09       55.48          14.30            3   \n",
       "6   25549            Low      0.08      120.97          26.30            3   \n",
       "7   20228  Not Specified      0.02      500.98          26.00            5   \n",
       "8   19483            Low      0.08        6.48           6.81            5   \n",
       "9   24782           High      0.01       90.24           0.99            6   \n",
       "\n",
       "     Customer Name       Ship Mode Customer Segment Product Category  ...  \\\n",
       "0  Janice Fletcher     Regular Air        Corporate  Office Supplies  ...   \n",
       "1    Bonnie Potter     Express Air        Corporate  Office Supplies  ...   \n",
       "2    Bonnie Potter     Express Air        Corporate  Office Supplies  ...   \n",
       "3    Bonnie Potter     Regular Air        Corporate  Office Supplies  ...   \n",
       "4    Bonnie Potter     Express Air        Corporate       Technology  ...   \n",
       "5    Bonnie Potter     Express Air        Corporate  Office Supplies  ...   \n",
       "6    Bonnie Potter  Delivery Truck        Corporate       Technology  ...   \n",
       "7   Ronnie Proctor  Delivery Truck      Home Office        Furniture  ...   \n",
       "8   Ronnie Proctor     Regular Air      Home Office  Office Supplies  ...   \n",
       "9     Dwight Hwang     Regular Air      Home Office  Office Supplies  ...   \n",
       "\n",
       "    Region State or Province         City  Postal Code Order Date  Ship Date  \\\n",
       "0  Central          Illinois      Addison        60101 2012-05-28 2012-05-30   \n",
       "1     West        Washington    Anacortes        98221 2010-07-07 2010-07-08   \n",
       "2     West        Washington    Anacortes        98221 2011-07-27 2011-07-28   \n",
       "3     West        Washington    Anacortes        98221 2011-07-27 2011-07-28   \n",
       "4     West        Washington    Anacortes        98221 2011-07-27 2011-07-27   \n",
       "5     West        Washington    Anacortes        98221 2011-11-09 2011-11-11   \n",
       "6     West        Washington    Anacortes        98221 2013-07-01 2013-07-08   \n",
       "7     West        California  San Gabriel        91776 2010-12-13 2010-12-15   \n",
       "8     West        California  San Gabriel        91776 2012-05-12 2012-05-21   \n",
       "9     West        California     San Jose        95123 2011-05-26 2011-05-26   \n",
       "\n",
       "      Profit  Quantity ordered new    Sales Order ID  \n",
       "0     1.3200                     2     5.90    88525  \n",
       "1     4.5600                     4    13.01    88522  \n",
       "2   -47.6400                     7    49.92    88523  \n",
       "3   -30.5100                     7    41.64    88523  \n",
       "4   998.2023                     8  1446.67    88523  \n",
       "5  1388.0523                    37  2011.67    88524  \n",
       "6  1001.4453                    12  1451.37    88526  \n",
       "7  4390.3665                    12  6362.85    90193  \n",
       "8  -141.2600                    18   113.25    90197  \n",
       "9  1045.4673                    16  1515.17    90194  \n",
       "\n",
       "[10 rows x 24 columns]"
      ]
     },
     "execution_count": 13,
     "metadata": {},
     "output_type": "execute_result"
    }
   ],
   "source": [
    "dfSSOrders.head(10)"
   ]
  },
  {
   "cell_type": "code",
   "execution_count": 12,
   "id": "7e9de2be",
   "metadata": {},
   "outputs": [
    {
     "data": {
      "text/plain": [
       "Row ID                           int64\n",
       "Order Priority                  object\n",
       "Discount                       float64\n",
       "Unit Price                     float64\n",
       "Shipping Cost                  float64\n",
       "Customer ID                      int64\n",
       "Customer Name                   object\n",
       "Ship Mode                       object\n",
       "Customer Segment                object\n",
       "Product Category                object\n",
       "Product Sub-Category            object\n",
       "Product Container               object\n",
       "Product Name                    object\n",
       "Product Base Margin            float64\n",
       "Region                          object\n",
       "State or Province               object\n",
       "City                            object\n",
       "Postal Code                      int64\n",
       "Order Date              datetime64[ns]\n",
       "Ship Date               datetime64[ns]\n",
       "Profit                         float64\n",
       "Quantity ordered new             int64\n",
       "Sales                          float64\n",
       "Order ID                         int64\n",
       "dtype: object"
      ]
     },
     "execution_count": 12,
     "metadata": {},
     "output_type": "execute_result"
    }
   ],
   "source": [
    "dfSSOrders.dtypes"
   ]
  },
  {
   "cell_type": "code",
   "execution_count": 11,
   "id": "dc20e023",
   "metadata": {},
   "outputs": [
    {
     "data": {
      "text/plain": [
       "(9426, 24)"
      ]
     },
     "execution_count": 11,
     "metadata": {},
     "output_type": "execute_result"
    }
   ],
   "source": [
    "dfSSOrders.shape"
   ]
  },
  {
   "cell_type": "markdown",
   "id": "ffb130a4",
   "metadata": {},
   "source": [
    "### Analysis of Returns"
   ]
  },
  {
   "cell_type": "code",
   "execution_count": 16,
   "id": "d70e64cf",
   "metadata": {},
   "outputs": [
    {
     "data": {
      "text/html": [
       "<div>\n",
       "<style scoped>\n",
       "    .dataframe tbody tr th:only-of-type {\n",
       "        vertical-align: middle;\n",
       "    }\n",
       "\n",
       "    .dataframe tbody tr th {\n",
       "        vertical-align: top;\n",
       "    }\n",
       "\n",
       "    .dataframe thead th {\n",
       "        text-align: right;\n",
       "    }\n",
       "</style>\n",
       "<table border=\"1\" class=\"dataframe\">\n",
       "  <thead>\n",
       "    <tr style=\"text-align: right;\">\n",
       "      <th></th>\n",
       "      <th>Order ID</th>\n",
       "      <th>Status</th>\n",
       "    </tr>\n",
       "  </thead>\n",
       "  <tbody>\n",
       "    <tr>\n",
       "      <th>0</th>\n",
       "      <td>65</td>\n",
       "      <td>Returned</td>\n",
       "    </tr>\n",
       "    <tr>\n",
       "      <th>1</th>\n",
       "      <td>612</td>\n",
       "      <td>Returned</td>\n",
       "    </tr>\n",
       "    <tr>\n",
       "      <th>2</th>\n",
       "      <td>614</td>\n",
       "      <td>Returned</td>\n",
       "    </tr>\n",
       "    <tr>\n",
       "      <th>3</th>\n",
       "      <td>678</td>\n",
       "      <td>Returned</td>\n",
       "    </tr>\n",
       "    <tr>\n",
       "      <th>4</th>\n",
       "      <td>710</td>\n",
       "      <td>Returned</td>\n",
       "    </tr>\n",
       "    <tr>\n",
       "      <th>5</th>\n",
       "      <td>740</td>\n",
       "      <td>Returned</td>\n",
       "    </tr>\n",
       "    <tr>\n",
       "      <th>6</th>\n",
       "      <td>775</td>\n",
       "      <td>Returned</td>\n",
       "    </tr>\n",
       "    <tr>\n",
       "      <th>7</th>\n",
       "      <td>833</td>\n",
       "      <td>Returned</td>\n",
       "    </tr>\n",
       "    <tr>\n",
       "      <th>8</th>\n",
       "      <td>902</td>\n",
       "      <td>Returned</td>\n",
       "    </tr>\n",
       "    <tr>\n",
       "      <th>9</th>\n",
       "      <td>3300</td>\n",
       "      <td>Returned</td>\n",
       "    </tr>\n",
       "  </tbody>\n",
       "</table>\n",
       "</div>"
      ],
      "text/plain": [
       "   Order ID    Status\n",
       "0        65  Returned\n",
       "1       612  Returned\n",
       "2       614  Returned\n",
       "3       678  Returned\n",
       "4       710  Returned\n",
       "5       740  Returned\n",
       "6       775  Returned\n",
       "7       833  Returned\n",
       "8       902  Returned\n",
       "9      3300  Returned"
      ]
     },
     "execution_count": 16,
     "metadata": {},
     "output_type": "execute_result"
    }
   ],
   "source": [
    "dfSSReturns.head(10)"
   ]
  },
  {
   "cell_type": "code",
   "execution_count": 17,
   "id": "19198a23",
   "metadata": {},
   "outputs": [
    {
     "data": {
      "text/plain": [
       "Order ID     int64\n",
       "Status      object\n",
       "dtype: object"
      ]
     },
     "execution_count": 17,
     "metadata": {},
     "output_type": "execute_result"
    }
   ],
   "source": [
    "dfSSReturns.dtypes"
   ]
  },
  {
   "cell_type": "code",
   "execution_count": 18,
   "id": "49eff50f",
   "metadata": {},
   "outputs": [
    {
     "data": {
      "text/plain": [
       "(1634, 2)"
      ]
     },
     "execution_count": 18,
     "metadata": {},
     "output_type": "execute_result"
    }
   ],
   "source": [
    "dfSSReturns.shape"
   ]
  },
  {
   "cell_type": "code",
   "execution_count": null,
   "id": "135a9203",
   "metadata": {},
   "outputs": [],
   "source": []
  },
  {
   "cell_type": "code",
   "execution_count": null,
   "id": "bc1eae13",
   "metadata": {},
   "outputs": [],
   "source": []
  },
  {
   "cell_type": "markdown",
   "id": "55033aed",
   "metadata": {},
   "source": [
    "### Analysis of Users"
   ]
  },
  {
   "cell_type": "code",
   "execution_count": 19,
   "id": "25b6df91",
   "metadata": {},
   "outputs": [
    {
     "data": {
      "text/html": [
       "<div>\n",
       "<style scoped>\n",
       "    .dataframe tbody tr th:only-of-type {\n",
       "        vertical-align: middle;\n",
       "    }\n",
       "\n",
       "    .dataframe tbody tr th {\n",
       "        vertical-align: top;\n",
       "    }\n",
       "\n",
       "    .dataframe thead th {\n",
       "        text-align: right;\n",
       "    }\n",
       "</style>\n",
       "<table border=\"1\" class=\"dataframe\">\n",
       "  <thead>\n",
       "    <tr style=\"text-align: right;\">\n",
       "      <th></th>\n",
       "      <th>Region</th>\n",
       "      <th>Manager</th>\n",
       "    </tr>\n",
       "  </thead>\n",
       "  <tbody>\n",
       "    <tr>\n",
       "      <th>0</th>\n",
       "      <td>Central</td>\n",
       "      <td>Chris</td>\n",
       "    </tr>\n",
       "    <tr>\n",
       "      <th>1</th>\n",
       "      <td>East</td>\n",
       "      <td>Erin</td>\n",
       "    </tr>\n",
       "    <tr>\n",
       "      <th>2</th>\n",
       "      <td>South</td>\n",
       "      <td>Sam</td>\n",
       "    </tr>\n",
       "    <tr>\n",
       "      <th>3</th>\n",
       "      <td>West</td>\n",
       "      <td>William</td>\n",
       "    </tr>\n",
       "  </tbody>\n",
       "</table>\n",
       "</div>"
      ],
      "text/plain": [
       "    Region  Manager\n",
       "0  Central    Chris\n",
       "1     East     Erin\n",
       "2    South      Sam\n",
       "3     West  William"
      ]
     },
     "execution_count": 19,
     "metadata": {},
     "output_type": "execute_result"
    }
   ],
   "source": [
    "dfSSUsers.head(10)"
   ]
  },
  {
   "cell_type": "code",
   "execution_count": 20,
   "id": "1af06904",
   "metadata": {},
   "outputs": [
    {
     "data": {
      "text/plain": [
       "Region     object\n",
       "Manager    object\n",
       "dtype: object"
      ]
     },
     "execution_count": 20,
     "metadata": {},
     "output_type": "execute_result"
    }
   ],
   "source": [
    "dfSSUsers.dtypes"
   ]
  },
  {
   "cell_type": "code",
   "execution_count": 21,
   "id": "3c364047",
   "metadata": {},
   "outputs": [
    {
     "data": {
      "text/plain": [
       "(4, 2)"
      ]
     },
     "execution_count": 21,
     "metadata": {},
     "output_type": "execute_result"
    }
   ],
   "source": [
    "dfSSUsers.shape"
   ]
  },
  {
   "cell_type": "code",
   "execution_count": null,
   "id": "f832c83f",
   "metadata": {},
   "outputs": [],
   "source": []
  },
  {
   "cell_type": "code",
   "execution_count": null,
   "id": "cc5db736",
   "metadata": {},
   "outputs": [],
   "source": []
  },
  {
   "cell_type": "code",
   "execution_count": null,
   "id": "5cee8dc3",
   "metadata": {},
   "outputs": [],
   "source": []
  },
  {
   "cell_type": "markdown",
   "id": "9752e8b7",
   "metadata": {},
   "source": [
    "Q1 . load this data in sql and in pandas with a relation in sql "
   ]
  },
  {
   "cell_type": "code",
   "execution_count": null,
   "id": "c7f09de6",
   "metadata": {},
   "outputs": [],
   "source": []
  },
  {
   "cell_type": "markdown",
   "id": "ac12ecb3",
   "metadata": {},
   "source": [
    "Q2 . while loading this data you dont have to create a table manually you can use any automated approach to create a table and load a data in bulk in table "
   ]
  },
  {
   "cell_type": "code",
   "execution_count": null,
   "id": "61b7149e",
   "metadata": {},
   "outputs": [],
   "source": []
  },
  {
   "cell_type": "markdown",
   "id": "5cda5b0e",
   "metadata": {},
   "source": [
    "Q3 . Find out how return that we ahve recived and with a product id "
   ]
  },
  {
   "cell_type": "code",
   "execution_count": null,
   "id": "c82f3ad7",
   "metadata": {},
   "outputs": [],
   "source": []
  },
  {
   "cell_type": "markdown",
   "id": "46c32565",
   "metadata": {},
   "source": [
    "Q4 . try  to join order and return data both in sql and pandas "
   ]
  },
  {
   "cell_type": "code",
   "execution_count": null,
   "id": "85ba8f1c",
   "metadata": {},
   "outputs": [],
   "source": []
  },
  {
   "cell_type": "markdown",
   "id": "6fed95b5",
   "metadata": {},
   "source": [
    "Q5 . Try to find out how many unique customer that we have "
   ]
  },
  {
   "cell_type": "code",
   "execution_count": null,
   "id": "d3028306",
   "metadata": {},
   "outputs": [],
   "source": []
  },
  {
   "cell_type": "markdown",
   "id": "9cbd4617",
   "metadata": {},
   "source": [
    "Q6 . try to find out in how many regions we are selling a product and who is a manager for a respective region "
   ]
  },
  {
   "cell_type": "code",
   "execution_count": null,
   "id": "61d10fbe",
   "metadata": {},
   "outputs": [],
   "source": []
  },
  {
   "cell_type": "markdown",
   "id": "b6f523bd",
   "metadata": {},
   "source": [
    "Q7 . find out how many different differnet shipement mode that we have and what is a percentage usablity of all the shipment mode with respect to dataset "
   ]
  },
  {
   "cell_type": "code",
   "execution_count": null,
   "id": "2509e7ba",
   "metadata": {},
   "outputs": [],
   "source": []
  },
  {
   "cell_type": "markdown",
   "id": "a1e65e7f",
   "metadata": {},
   "source": [
    "Q8 . Create a new coulmn and try to find our a diffrence between order date and shipment date"
   ]
  },
  {
   "cell_type": "code",
   "execution_count": null,
   "id": "24ddb6fa",
   "metadata": {},
   "outputs": [],
   "source": []
  },
  {
   "cell_type": "markdown",
   "id": "3c585f7f",
   "metadata": {},
   "source": [
    "Q9 . base on question number 8 find out for which order id we have shipment duration more than 10 days"
   ]
  },
  {
   "cell_type": "code",
   "execution_count": null,
   "id": "fe300a7c",
   "metadata": {},
   "outputs": [],
   "source": []
  },
  {
   "cell_type": "markdown",
   "id": "1c59d91a",
   "metadata": {},
   "source": [
    "Q10 . Try to find out a list of a returned order which sihpment duration was more then 15 days and find out that region manager as well "
   ]
  },
  {
   "cell_type": "code",
   "execution_count": null,
   "id": "5370e484",
   "metadata": {},
   "outputs": [],
   "source": []
  },
  {
   "cell_type": "markdown",
   "id": "26e08807",
   "metadata": {},
   "source": [
    "Q11 . Gorup by region and find out which region is more profitable"
   ]
  },
  {
   "cell_type": "code",
   "execution_count": null,
   "id": "d36b165b",
   "metadata": {},
   "outputs": [],
   "source": []
  },
  {
   "cell_type": "markdown",
   "id": "d20951e9",
   "metadata": {},
   "source": [
    "Q12 . Try to find out overalll in which country we are giving more didscount "
   ]
  },
  {
   "cell_type": "code",
   "execution_count": null,
   "id": "e318ee62",
   "metadata": {},
   "outputs": [],
   "source": []
  },
  {
   "cell_type": "markdown",
   "id": "3ce15443",
   "metadata": {},
   "source": [
    "Q13 . Give me a list of unique postal code "
   ]
  },
  {
   "cell_type": "code",
   "execution_count": null,
   "id": "14cdb161",
   "metadata": {},
   "outputs": [],
   "source": []
  },
  {
   "cell_type": "markdown",
   "id": "e2f855f5",
   "metadata": {},
   "source": [
    "Q14 . which customer segement is more profitalble find it out ."
   ]
  },
  {
   "cell_type": "code",
   "execution_count": null,
   "id": "39ddeaa3",
   "metadata": {},
   "outputs": [],
   "source": []
  },
  {
   "cell_type": "markdown",
   "id": "01bda66c",
   "metadata": {},
   "source": [
    "\n",
    "Q15 . try to find out the 10th most loss making product catagory ."
   ]
  },
  {
   "cell_type": "code",
   "execution_count": null,
   "id": "cab986bb",
   "metadata": {},
   "outputs": [],
   "source": []
  },
  {
   "cell_type": "markdown",
   "id": "3c9d0612",
   "metadata": {},
   "source": [
    "Q16 . Try to find out 10 top  product with highest margins "
   ]
  },
  {
   "cell_type": "code",
   "execution_count": null,
   "id": "dba4d602",
   "metadata": {},
   "outputs": [],
   "source": []
  }
 ],
 "metadata": {
  "kernelspec": {
   "display_name": "Python 3 (ipykernel)",
   "language": "python",
   "name": "python3"
  },
  "language_info": {
   "codemirror_mode": {
    "name": "ipython",
    "version": 3
   },
   "file_extension": ".py",
   "mimetype": "text/x-python",
   "name": "python",
   "nbconvert_exporter": "python",
   "pygments_lexer": "ipython3",
   "version": "3.9.12"
  }
 },
 "nbformat": 4,
 "nbformat_minor": 5
}
