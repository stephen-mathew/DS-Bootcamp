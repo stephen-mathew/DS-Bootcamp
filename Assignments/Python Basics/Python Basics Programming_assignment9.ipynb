{
 "cells": [
  {
   "cell_type": "markdown",
   "metadata": {},
   "source": [
    "### Stephen Mathew\n",
    "### Python Basics Programming Assignment 9\n",
    "### 22-June-2022"
   ]
  },
  {
   "cell_type": "markdown",
   "metadata": {},
   "source": [
    "Q1.\tWrite a Python program to check if the given number is a Disarium Number?"
   ]
  },
  {
   "cell_type": "code",
   "execution_count": 12,
   "metadata": {},
   "outputs": [
    {
     "name": "stdout",
     "output_type": "stream",
     "text": [
      "True\n",
      "False\n",
      "False\n",
      "True\n"
     ]
    }
   ],
   "source": [
    "def disarium(num):\n",
    "\tn = num\n",
    "\tdis_sum=0\n",
    "\tpos = len(str(num))\n",
    "\twhile n > 0:\n",
    "\t\tdis_sum+=(n%10)**pos\n",
    "\t\tn = n // 10\n",
    "\t\tpos-=1\n",
    "\tif dis_sum==num:\n",
    "\t\treturn True\n",
    "\telse:\n",
    "\t\treturn False\n",
    "\n",
    "print(disarium(175))\n",
    "print(disarium(176))\n",
    "print(disarium(25))\n",
    "print(disarium(89))\n",
    "\n",
    "\t"
   ]
  },
  {
   "cell_type": "markdown",
   "metadata": {},
   "source": [
    "Q2.\tWrite a Python program to print all disarium numbers between 1 to 100?"
   ]
  },
  {
   "cell_type": "code",
   "execution_count": 13,
   "metadata": {},
   "outputs": [
    {
     "name": "stdout",
     "output_type": "stream",
     "text": [
      "[1, 2, 3, 4, 5, 6, 7, 8, 9, 89]\n"
     ]
    }
   ],
   "source": [
    "print([i for i in range(1,101) if disarium(i)==True])"
   ]
  },
  {
   "cell_type": "markdown",
   "metadata": {},
   "source": [
    "Q3.\tWrite a Python program to check if the given number is Happy Number?"
   ]
  },
  {
   "cell_type": "code",
   "execution_count": 24,
   "metadata": {},
   "outputs": [
    {
     "name": "stdout",
     "output_type": "stream",
     "text": [
      "True\n",
      "False\n"
     ]
    }
   ],
   "source": [
    "def happy(num):\n",
    "\tn = num\n",
    "\tn_cur = n\n",
    "\tn_new = 0\n",
    "\tpattern = []\n",
    "\twhile n_cur != n_new:\n",
    "\t\tn_cur, n_new = n_new, 0\n",
    "\t\twhile n > 0:\n",
    "\t\t\tn_new+=(n%10)**2\n",
    "\t\t\tn//=10\n",
    "\t\t\t\n",
    "\t\tn = n_new\n",
    "\t\tif n_new == 1:\n",
    "\t\t\treturn True\n",
    "\t\telif pattern.count(n_new)==0:\n",
    "\t\t\tpattern.append(n_new)\n",
    "\t\telif pattern.count(n_new)>0:\n",
    "\t\t\treturn False\n",
    "\n",
    "\telse:\n",
    "\t\treturn False\n",
    "\n",
    "\n",
    "print(happy(19))\n",
    "print(happy(2))\n",
    "\n",
    "\n",
    "\t\t"
   ]
  },
  {
   "cell_type": "markdown",
   "metadata": {},
   "source": [
    "Q4.\tWrite a Python program to print all happy numbers between 1 and 100?"
   ]
  },
  {
   "cell_type": "code",
   "execution_count": 23,
   "metadata": {},
   "outputs": [
    {
     "name": "stdout",
     "output_type": "stream",
     "text": [
      "[1, 7, 10, 13, 19, 23, 28, 31, 32, 44, 49, 68, 70, 79, 82, 86, 91, 94, 97, 100]\n"
     ]
    }
   ],
   "source": [
    "print([i for i in range(1,101) if happy(i)==True])"
   ]
  },
  {
   "cell_type": "markdown",
   "metadata": {},
   "source": [
    "Q5.\tWrite a Python program to determine whether the given number is a Harshad Number?"
   ]
  },
  {
   "cell_type": "code",
   "execution_count": 26,
   "metadata": {},
   "outputs": [
    {
     "data": {
      "text/plain": [
       "[1,\n",
       " 2,\n",
       " 3,\n",
       " 4,\n",
       " 5,\n",
       " 6,\n",
       " 7,\n",
       " 8,\n",
       " 9,\n",
       " 10,\n",
       " 12,\n",
       " 18,\n",
       " 20,\n",
       " 21,\n",
       " 24,\n",
       " 27,\n",
       " 30,\n",
       " 36,\n",
       " 40,\n",
       " 42,\n",
       " 45,\n",
       " 48,\n",
       " 50,\n",
       " 54,\n",
       " 60,\n",
       " 63,\n",
       " 70,\n",
       " 72,\n",
       " 80,\n",
       " 81,\n",
       " 84,\n",
       " 90,\n",
       " 100,\n",
       " 102,\n",
       " 108,\n",
       " 110,\n",
       " 111,\n",
       " 112,\n",
       " 114,\n",
       " 117,\n",
       " 120,\n",
       " 126,\n",
       " 132,\n",
       " 133,\n",
       " 135,\n",
       " 140,\n",
       " 144,\n",
       " 150,\n",
       " 152,\n",
       " 153,\n",
       " 156,\n",
       " 162,\n",
       " 171,\n",
       " 180,\n",
       " 190,\n",
       " 192,\n",
       " 195,\n",
       " 198]"
      ]
     },
     "execution_count": 26,
     "metadata": {},
     "output_type": "execute_result"
    }
   ],
   "source": [
    "def harshad_10(num):\n",
    "\tn = num\n",
    "\tsum_digits=0\n",
    "\twhile n > 0:\n",
    "\t\tsum_digits+= n%10\n",
    "\t\tn //= 10\n",
    "\tif num%sum_digits==0:\n",
    "\t\treturn True \n",
    "\telse: \n",
    "\t\treturn False\n",
    "\n",
    "# harshad_10(36)\n",
    "\n",
    "[x for x in range(1,200) if harshad_10(x)==True]"
   ]
  },
  {
   "cell_type": "markdown",
   "metadata": {},
   "source": [
    "Q6.\tWrite a Python program to print all pronic numbers between 1 and 100?"
   ]
  },
  {
   "cell_type": "code",
   "execution_count": 29,
   "metadata": {},
   "outputs": [
    {
     "data": {
      "text/plain": [
       "[2, 6, 12, 20, 30, 42, 56, 72, 90]"
      ]
     },
     "execution_count": 29,
     "metadata": {},
     "output_type": "execute_result"
    }
   ],
   "source": [
    "def pronic(start, end):\n",
    "\tn = start\n",
    "\tp=0\n",
    "\tpro_list = []\n",
    "\twhile p < end:\n",
    "\t\tp=n*(n+1)\n",
    "\t\tif p<end:\n",
    "\t\t\tpro_list.append(p)\n",
    "\t\tn+=1\n",
    "\treturn pro_list\n",
    "\t\n",
    "pronic(1,100)"
   ]
  }
 ],
 "metadata": {
  "kernelspec": {
   "display_name": "Python 3.7.13 ('base')",
   "language": "python",
   "name": "python3"
  },
  "language_info": {
   "codemirror_mode": {
    "name": "ipython",
    "version": 3
   },
   "file_extension": ".py",
   "mimetype": "text/x-python",
   "name": "python",
   "nbconvert_exporter": "python",
   "pygments_lexer": "ipython3",
   "version": "3.7.13"
  },
  "orig_nbformat": 4,
  "vscode": {
   "interpreter": {
    "hash": "ad2bdc8ecc057115af97d19610ffacc2b4e99fae6737bb82f5d7fb13d2f2c186"
   }
  }
 },
 "nbformat": 4,
 "nbformat_minor": 2
}
