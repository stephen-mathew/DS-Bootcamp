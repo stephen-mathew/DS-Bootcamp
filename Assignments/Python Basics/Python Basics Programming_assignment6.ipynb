{
 "cells": [
  {
   "cell_type": "markdown",
   "metadata": {},
   "source": [
    "### Stephen Mathew\n",
    "### Python Basics Programming Assignment 6\n",
    "### 22-June-2022"
   ]
  },
  {
   "cell_type": "markdown",
   "metadata": {},
   "source": [
    "Q1.\tWrite a Python Program to Display Fibonacci Sequence Using Recursion?"
   ]
  },
  {
   "cell_type": "code",
   "execution_count": 1,
   "metadata": {},
   "outputs": [
    {
     "name": "stdout",
     "output_type": "stream",
     "text": [
      "0 1 1 2 3 5 8 13 21 34 55 89 144 "
     ]
    }
   ],
   "source": [
    "def fibo(x,y,max):\n",
    "\tprint(x, end=\" \")\n",
    "\tif y>max:\n",
    "\t\treturn\n",
    "\telse:\n",
    "\t\tfibo(y, x+y,max)\n",
    "\n",
    "fibo(0,1,200)"
   ]
  },
  {
   "cell_type": "markdown",
   "metadata": {},
   "source": [
    "Q2.\tWrite a Python Program to Find Factorial of Number Using Recursion?"
   ]
  },
  {
   "cell_type": "code",
   "execution_count": 3,
   "metadata": {},
   "outputs": [
    {
     "data": {
      "text/plain": [
       "120"
      ]
     },
     "execution_count": 3,
     "metadata": {},
     "output_type": "execute_result"
    }
   ],
   "source": [
    "def fact(x):\n",
    "\tif x>1:\n",
    "\t\treturn x*fact(x-1)\n",
    "\telse:\n",
    "\t\treturn 1\n",
    "\n",
    "fact(5)"
   ]
  },
  {
   "cell_type": "markdown",
   "metadata": {},
   "source": [
    "Q3.\tWrite a Python Program to calculate your Body Mass Index?"
   ]
  },
  {
   "cell_type": "code",
   "execution_count": 10,
   "metadata": {},
   "outputs": [
    {
     "data": {
      "text/plain": [
       "(26.82742078020452, 'Overweight')"
      ]
     },
     "execution_count": 10,
     "metadata": {},
     "output_type": "execute_result"
    }
   ],
   "source": [
    "def bmi(weight,height):\n",
    "\tbmi = weight/height**2\n",
    "\tif bmi < 18.5:\n",
    "\t\tstatus = 'Underweight'\n",
    "\telif bmi >= 18.5 and bmi <=24.9:\n",
    "\t\tstatus = 'Healthy weight'\n",
    "\telif bmi >= 25 and bmi <=29.9:\n",
    "\t\tstatus = 'Overweight'\n",
    "\telse: \n",
    "\t\tstatus = 'Obesity'\n",
    "\treturn (bmi, status)\n",
    "\n",
    "bmi(85, 1.78)"
   ]
  },
  {
   "cell_type": "markdown",
   "metadata": {},
   "source": [
    "Q4.\tWrite a Python Program to calculate the natural logarithm of any number?"
   ]
  },
  {
   "cell_type": "code",
   "execution_count": 16,
   "metadata": {},
   "outputs": [
    {
     "data": {
      "text/plain": [
       "2.302585092994046"
      ]
     },
     "execution_count": 16,
     "metadata": {},
     "output_type": "execute_result"
    }
   ],
   "source": [
    "import math \n",
    "\n",
    "math.log(10)"
   ]
  },
  {
   "cell_type": "markdown",
   "metadata": {},
   "source": [
    "Q5.\tWrite a Python Program for cube sum of first n natural numbers?"
   ]
  },
  {
   "cell_type": "code",
   "execution_count": 21,
   "metadata": {},
   "outputs": [
    {
     "name": "stdout",
     "output_type": "stream",
     "text": [
      "44100\n",
      "44100\n"
     ]
    }
   ],
   "source": [
    "from functools import reduce\n",
    "\n",
    "def cube_sum(n):\n",
    "\tcube_sum = 0\n",
    "\tfor i in range(1,n+1):\n",
    "\t\tcube_sum+=i**3\n",
    "\treturn cube_sum\n",
    "\n",
    "print(cube_sum(20))\n",
    "\n",
    "\n",
    "cube_sum_l = lambda n: [i**3 for i in range(1,n+1)]\n",
    "print(reduce(lambda x,y:x+y,cube_sum_l(20)))\n",
    "\n"
   ]
  }
 ],
 "metadata": {
  "kernelspec": {
   "display_name": "Python 3.7.13 ('base')",
   "language": "python",
   "name": "python3"
  },
  "language_info": {
   "codemirror_mode": {
    "name": "ipython",
    "version": 3
   },
   "file_extension": ".py",
   "mimetype": "text/x-python",
   "name": "python",
   "nbconvert_exporter": "python",
   "pygments_lexer": "ipython3",
   "version": "3.7.13"
  },
  "orig_nbformat": 4,
  "vscode": {
   "interpreter": {
    "hash": "ad2bdc8ecc057115af97d19610ffacc2b4e99fae6737bb82f5d7fb13d2f2c186"
   }
  }
 },
 "nbformat": 4,
 "nbformat_minor": 2
}
