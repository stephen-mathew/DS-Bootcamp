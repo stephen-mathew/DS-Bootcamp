{
 "cells": [
  {
   "cell_type": "markdown",
   "metadata": {},
   "source": [
    "### Stephen Mathew\n",
    "### Python Basics Programming Assignment 5\n",
    "### 21-Jun-2022"
   ]
  },
  {
   "cell_type": "markdown",
   "metadata": {},
   "source": [
    "Q1.\tWrite a Python Program to Find LCM?"
   ]
  },
  {
   "cell_type": "code",
   "execution_count": 10,
   "metadata": {},
   "outputs": [
    {
     "name": "stdout",
     "output_type": "stream",
     "text": [
      "20\n",
      "10\n",
      "221\n",
      "112\n",
      "36\n"
     ]
    }
   ],
   "source": [
    "def lcm(a,b):\n",
    "\tif a<b:\n",
    "\t\thigher = b\n",
    "\t\tlower = a\n",
    "\telse:\n",
    "\t\thigher = a\n",
    "\t\tlower = b\n",
    "\ti = 1 \n",
    "\twhile True:\n",
    "\t\tif (higher*i)%lower == 0:\n",
    "\t\t\treturn higher*i\n",
    "\t\ti+=1\n",
    "\n",
    "print(lcm(10,20))\n",
    "print(lcm(2,5))\n",
    "print(lcm(13,17))\n",
    "print(lcm(16,14))\n",
    "print(lcm(18,12))"
   ]
  },
  {
   "cell_type": "markdown",
   "metadata": {},
   "source": [
    "Q2.\tWrite a Python Program to Find HCF?"
   ]
  },
  {
   "cell_type": "code",
   "execution_count": 11,
   "metadata": {},
   "outputs": [
    {
     "name": "stdout",
     "output_type": "stream",
     "text": [
      "5\n",
      "1\n",
      "1\n",
      "2\n",
      "6\n"
     ]
    }
   ],
   "source": [
    "def hcf(a,b):\n",
    "\thcf = 1\n",
    "\tif a<b:\n",
    "\t\tlower = a\n",
    "\telse:\n",
    "\t\tlower = b\n",
    "\tfor i in range(2,lower):\n",
    "\t\tif a%i == 0 and b%i == 0:\n",
    "\t\t\thcf=i\n",
    "\treturn hcf\n",
    "\n",
    "print(hcf(10,20))\n",
    "print(hcf(2,5))\n",
    "print(hcf(13,17))\n",
    "print(hcf(16,14))\n",
    "print(hcf(18,12))"
   ]
  },
  {
   "cell_type": "markdown",
   "metadata": {},
   "source": [
    "Q3.\tWrite a Python Program to Convert Decimal to Binary, Octal and Hexadecimal?"
   ]
  },
  {
   "cell_type": "code",
   "execution_count": 13,
   "metadata": {},
   "outputs": [
    {
     "name": "stdout",
     "output_type": "stream",
     "text": [
      "0b1000\n",
      "0o10\n",
      "0x8\n"
     ]
    }
   ],
   "source": [
    "x = 8\n",
    "print(bin(x))\n",
    "print(oct(x))\n",
    "print(hex(x))"
   ]
  },
  {
   "cell_type": "markdown",
   "metadata": {},
   "source": [
    "Q4.\tWrite a Python Program To Find ASCII value of a character?"
   ]
  },
  {
   "cell_type": "code",
   "execution_count": 18,
   "metadata": {},
   "outputs": [
    {
     "name": "stdout",
     "output_type": "stream",
     "text": [
      "99\n",
      "67\n"
     ]
    }
   ],
   "source": [
    "print(ord('c'))\n",
    "print(ord('C'))"
   ]
  },
  {
   "cell_type": "markdown",
   "metadata": {},
   "source": [
    "Q5.\tWrite a Python Program to Make a Simple Calculator with 4 basic mathematical operations?"
   ]
  },
  {
   "cell_type": "code",
   "execution_count": 21,
   "metadata": {},
   "outputs": [
    {
     "name": "stdout",
     "output_type": "stream",
     "text": [
      "8\n"
     ]
    }
   ],
   "source": [
    "add = lambda x, y : x + y\n",
    "sub = lambda x, y : x - y\n",
    "mul = lambda x, y : x * y\n",
    "div = lambda x, y : x / y\n",
    "\n",
    "choice = int(input(\"Enter the number of the option you would like to use: \\n 1. Addition \\n 2. Subtraction \\n 3. Multiplication \\n 4.Division \\n\"))\n",
    "x = int(input(\"Enter the first number: \"))\n",
    "y = int(input(\"Enter the second number: \"))\n",
    "\n",
    "if choice==1:\n",
    "\tprint(add(x,y))\n",
    "elif choice==2:\n",
    "\tprint(sub(x,y))\n",
    "elif choice==3:\n",
    "\tprint(mul(x,y))\n",
    "elif choice==4:\n",
    "\tprint(div(x,y))\n",
    "else:\n",
    "\tprint(\"Invalid Choice\")"
   ]
  },
  {
   "cell_type": "code",
   "execution_count": null,
   "metadata": {},
   "outputs": [],
   "source": []
  }
 ],
 "metadata": {
  "kernelspec": {
   "display_name": "Python 3.7.13 ('base')",
   "language": "python",
   "name": "python3"
  },
  "language_info": {
   "codemirror_mode": {
    "name": "ipython",
    "version": 3
   },
   "file_extension": ".py",
   "mimetype": "text/x-python",
   "name": "python",
   "nbconvert_exporter": "python",
   "pygments_lexer": "ipython3",
   "version": "3.7.13"
  },
  "orig_nbformat": 4,
  "vscode": {
   "interpreter": {
    "hash": "ad2bdc8ecc057115af97d19610ffacc2b4e99fae6737bb82f5d7fb13d2f2c186"
   }
  }
 },
 "nbformat": 4,
 "nbformat_minor": 2
}
