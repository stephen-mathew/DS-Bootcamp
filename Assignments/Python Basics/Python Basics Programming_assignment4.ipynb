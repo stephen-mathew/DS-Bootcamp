{
 "cells": [
  {
   "cell_type": "markdown",
   "metadata": {},
   "source": [
    "### Stephen Mathew\n",
    "### Python Basics Programming Assignment 4\n",
    "### 21-Jun-2022"
   ]
  },
  {
   "cell_type": "markdown",
   "metadata": {},
   "source": [
    "Q1.\tWrite a Python Program to Find the Factorial of a Number?"
   ]
  },
  {
   "cell_type": "code",
   "execution_count": 2,
   "metadata": {},
   "outputs": [
    {
     "name": "stdout",
     "output_type": "stream",
     "text": [
      "3628800\n",
      "1\n",
      "2\n",
      "24\n"
     ]
    }
   ],
   "source": [
    "def factorial(x):\n",
    "\tfact = 1\n",
    "\tfor i in range(1,x+1):\n",
    "\t\tfact*=i\n",
    "\treturn fact\n",
    "\n",
    "print(factorial(10))\n",
    "print(factorial(1))\n",
    "print(factorial(2))\n",
    "print(factorial(4))"
   ]
  },
  {
   "cell_type": "markdown",
   "metadata": {},
   "source": [
    "Q2.\tWrite a Python Program to Display the multiplication Table?"
   ]
  },
  {
   "cell_type": "code",
   "execution_count": 4,
   "metadata": {},
   "outputs": [
    {
     "name": "stdout",
     "output_type": "stream",
     "text": [
      "Multiplication table of  1\n",
      "1  x  1  =  1\n",
      "1  x  2  =  2\n",
      "1  x  3  =  3\n",
      "1  x  4  =  4\n",
      "1  x  5  =  5\n",
      "Multiplication table of  2\n",
      "2  x  1  =  2\n",
      "2  x  2  =  4\n",
      "2  x  3  =  6\n",
      "2  x  4  =  8\n",
      "2  x  5  =  10\n",
      "2  x  6  =  12\n",
      "2  x  7  =  14\n",
      "2  x  8  =  16\n",
      "2  x  9  =  18\n",
      "2  x  10  =  20\n",
      "Multiplication table of  5\n",
      "5  x  1  =  5\n",
      "5  x  2  =  10\n",
      "5  x  3  =  15\n",
      "5  x  4  =  20\n",
      "5  x  5  =  25\n",
      "5  x  6  =  30\n",
      "5  x  7  =  35\n",
      "5  x  8  =  40\n",
      "5  x  9  =  45\n",
      "5  x  10  =  50\n",
      "5  x  11  =  55\n",
      "5  x  12  =  60\n",
      "5  x  13  =  65\n",
      "5  x  14  =  70\n",
      "5  x  15  =  75\n",
      "5  x  16  =  80\n",
      "5  x  17  =  85\n",
      "5  x  18  =  90\n",
      "5  x  19  =  95\n",
      "5  x  20  =  100\n"
     ]
    }
   ],
   "source": [
    "def mult_table(table_of,times):\n",
    "\tprint(\"Multiplication table of \",table_of)\n",
    "\tfor i in range(1,times+1):\n",
    "\t\tprint(table_of,\" x \", i ,\" = \",table_of*i)\n",
    "\n",
    "mult_table(1,5)\n",
    "mult_table(2,10)\n",
    "mult_table(5, 20)"
   ]
  },
  {
   "cell_type": "markdown",
   "metadata": {},
   "source": [
    "Q3.\tWrite a Python Program to Print the Fibonacci sequence?"
   ]
  },
  {
   "cell_type": "code",
   "execution_count": 6,
   "metadata": {},
   "outputs": [
    {
     "name": "stdout",
     "output_type": "stream",
     "text": [
      "0 1 1 2 3 5 8 13 21 34 "
     ]
    }
   ],
   "source": [
    "def fibo(length):\n",
    "\tx, y =0, 1\n",
    "\tfor i in range(0, length):\n",
    "\t\tprint(x, end=\" \")\n",
    "\t\tx, y = y, x+y \n",
    "\n",
    "fibo(10)\t\n"
   ]
  },
  {
   "cell_type": "markdown",
   "metadata": {},
   "source": [
    "Q4.\tWrite a Python Program to Check Armstrong Number?"
   ]
  },
  {
   "cell_type": "code",
   "execution_count": 15,
   "metadata": {},
   "outputs": [
    {
     "name": "stdout",
     "output_type": "stream",
     "text": [
      "True\n",
      "False\n"
     ]
    }
   ],
   "source": [
    "\n",
    "def armstrong(num, order):\n",
    "\tarm_num = 0\n",
    "\tfor i in str(num):\n",
    "\t\tarm_num += int(i)**order\n",
    "\t\n",
    "\tif num == arm_num:\n",
    "\t\treturn True\n",
    "\telse:\n",
    "\t\treturn False\n",
    "\n",
    "print(armstrong(153, 3))\n",
    "print(armstrong(153, 4))"
   ]
  },
  {
   "cell_type": "markdown",
   "metadata": {},
   "source": [
    "Q5.\tWrite a Python Program to Find Armstrong Number in an Interval?"
   ]
  },
  {
   "cell_type": "code",
   "execution_count": 25,
   "metadata": {},
   "outputs": [
    {
     "name": "stdout",
     "output_type": "stream",
     "text": [
      "1 153 370 371 407 "
     ]
    }
   ],
   "source": [
    "def armstrong_int(start_num, end_num, order):\n",
    "\tfor i in range(start_num, end_num+1):\n",
    "\t\tif armstrong(i,order)==True:\n",
    "\t\t\tprint(i, end=\" \")\n",
    "\n",
    "armstrong_int(1,410,3)\n",
    "\n",
    "# armstrong_int(1,155,2)"
   ]
  },
  {
   "cell_type": "markdown",
   "metadata": {},
   "source": [
    "Q6.\tWrite a Python Program to Find the Sum of Natural Numbers?"
   ]
  },
  {
   "cell_type": "code",
   "execution_count": 26,
   "metadata": {},
   "outputs": [
    {
     "data": {
      "text/plain": [
       "55"
      ]
     },
     "execution_count": 26,
     "metadata": {},
     "output_type": "execute_result"
    }
   ],
   "source": [
    "def sum_till(num):\n",
    "\tsum = 0\n",
    "\tfor i in range(1,num+1):\n",
    "\t\tsum+=i\n",
    "\treturn sum\n",
    "\n",
    "sum_till(10)"
   ]
  },
  {
   "cell_type": "code",
   "execution_count": null,
   "metadata": {},
   "outputs": [],
   "source": []
  }
 ],
 "metadata": {
  "kernelspec": {
   "display_name": "Python 3.7.13 ('base')",
   "language": "python",
   "name": "python3"
  },
  "language_info": {
   "codemirror_mode": {
    "name": "ipython",
    "version": 3
   },
   "file_extension": ".py",
   "mimetype": "text/x-python",
   "name": "python",
   "nbconvert_exporter": "python",
   "pygments_lexer": "ipython3",
   "version": "3.7.13"
  },
  "orig_nbformat": 4,
  "vscode": {
   "interpreter": {
    "hash": "ad2bdc8ecc057115af97d19610ffacc2b4e99fae6737bb82f5d7fb13d2f2c186"
   }
  }
 },
 "nbformat": 4,
 "nbformat_minor": 2
}
