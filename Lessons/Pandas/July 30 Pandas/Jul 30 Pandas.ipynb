{
 "cells": [
  {
   "cell_type": "code",
   "execution_count": 1,
   "id": "54e8a49e",
   "metadata": {},
   "outputs": [],
   "source": [
    "import pandas as pd"
   ]
  },
  {
   "cell_type": "code",
   "execution_count": 3,
   "id": "21eb6ddf",
   "metadata": {},
   "outputs": [],
   "source": [
    "df = pd.read_csv(\"AgentLogingReport.csv\")"
   ]
  },
  {
   "cell_type": "code",
   "execution_count": 5,
   "id": "e0c089e0",
   "metadata": {},
   "outputs": [
    {
     "data": {
      "text/plain": [
       "SL No           int64\n",
       "Agent          object\n",
       "Date           object\n",
       "Login Time     object\n",
       "Logout Time    object\n",
       "Duration       object\n",
       "dtype: object"
      ]
     },
     "execution_count": 5,
     "metadata": {},
     "output_type": "execute_result"
    }
   ],
   "source": [
    "df.dtypes"
   ]
  },
  {
   "cell_type": "code",
   "execution_count": 6,
   "id": "1b2f0e96",
   "metadata": {},
   "outputs": [
    {
     "data": {
      "text/html": [
       "<div>\n",
       "<style scoped>\n",
       "    .dataframe tbody tr th:only-of-type {\n",
       "        vertical-align: middle;\n",
       "    }\n",
       "\n",
       "    .dataframe tbody tr th {\n",
       "        vertical-align: top;\n",
       "    }\n",
       "\n",
       "    .dataframe thead th {\n",
       "        text-align: right;\n",
       "    }\n",
       "</style>\n",
       "<table border=\"1\" class=\"dataframe\">\n",
       "  <thead>\n",
       "    <tr style=\"text-align: right;\">\n",
       "      <th></th>\n",
       "      <th>Agent</th>\n",
       "      <th>Login Time</th>\n",
       "    </tr>\n",
       "  </thead>\n",
       "  <tbody>\n",
       "    <tr>\n",
       "      <th>0</th>\n",
       "      <td>Shivananda Sonwane</td>\n",
       "      <td>15:35:29</td>\n",
       "    </tr>\n",
       "    <tr>\n",
       "      <th>1</th>\n",
       "      <td>Khushboo Priya</td>\n",
       "      <td>15:06:59</td>\n",
       "    </tr>\n",
       "    <tr>\n",
       "      <th>2</th>\n",
       "      <td>Nandani Gupta</td>\n",
       "      <td>15:04:24</td>\n",
       "    </tr>\n",
       "    <tr>\n",
       "      <th>3</th>\n",
       "      <td>Hrisikesh Neogi</td>\n",
       "      <td>14:34:29</td>\n",
       "    </tr>\n",
       "    <tr>\n",
       "      <th>4</th>\n",
       "      <td>Mukesh</td>\n",
       "      <td>14:03:15</td>\n",
       "    </tr>\n",
       "    <tr>\n",
       "      <th>...</th>\n",
       "      <td>...</td>\n",
       "      <td>...</td>\n",
       "    </tr>\n",
       "    <tr>\n",
       "      <th>995</th>\n",
       "      <td>Manjunatha A</td>\n",
       "      <td>09:03:51</td>\n",
       "    </tr>\n",
       "    <tr>\n",
       "      <th>996</th>\n",
       "      <td>Bharath</td>\n",
       "      <td>09:00:49</td>\n",
       "    </tr>\n",
       "    <tr>\n",
       "      <th>997</th>\n",
       "      <td>Khushboo Priya</td>\n",
       "      <td>08:59:20</td>\n",
       "    </tr>\n",
       "    <tr>\n",
       "      <th>998</th>\n",
       "      <td>Nishtha Jain</td>\n",
       "      <td>08:43:55</td>\n",
       "    </tr>\n",
       "    <tr>\n",
       "      <th>999</th>\n",
       "      <td>Tarun</td>\n",
       "      <td>01:52:47</td>\n",
       "    </tr>\n",
       "  </tbody>\n",
       "</table>\n",
       "<p>1000 rows × 2 columns</p>\n",
       "</div>"
      ],
      "text/plain": [
       "                  Agent Login Time\n",
       "0    Shivananda Sonwane   15:35:29\n",
       "1        Khushboo Priya   15:06:59\n",
       "2         Nandani Gupta   15:04:24\n",
       "3       Hrisikesh Neogi   14:34:29\n",
       "4                Mukesh   14:03:15\n",
       "..                  ...        ...\n",
       "995        Manjunatha A   09:03:51\n",
       "996             Bharath   09:00:49\n",
       "997      Khushboo Priya   08:59:20\n",
       "998        Nishtha Jain   08:43:55\n",
       "999               Tarun   01:52:47\n",
       "\n",
       "[1000 rows x 2 columns]"
      ]
     },
     "execution_count": 6,
     "metadata": {},
     "output_type": "execute_result"
    }
   ],
   "source": [
    "df[['Agent','Login Time']]"
   ]
  },
  {
   "cell_type": "code",
   "execution_count": 7,
   "id": "9ac9864a",
   "metadata": {},
   "outputs": [
    {
     "data": {
      "text/plain": [
       "pandas.core.series.Series"
      ]
     },
     "execution_count": 7,
     "metadata": {},
     "output_type": "execute_result"
    }
   ],
   "source": [
    "type(df['Agent'])"
   ]
  },
  {
   "cell_type": "code",
   "execution_count": 8,
   "id": "a5535343",
   "metadata": {},
   "outputs": [
    {
     "data": {
      "text/plain": [
       "pandas.core.frame.DataFrame"
      ]
     },
     "execution_count": 8,
     "metadata": {},
     "output_type": "execute_result"
    }
   ],
   "source": [
    "type(df[['Agent']])"
   ]
  },
  {
   "cell_type": "code",
   "execution_count": 9,
   "id": "a5c691aa",
   "metadata": {},
   "outputs": [
    {
     "data": {
      "text/html": [
       "<div>\n",
       "<style scoped>\n",
       "    .dataframe tbody tr th:only-of-type {\n",
       "        vertical-align: middle;\n",
       "    }\n",
       "\n",
       "    .dataframe tbody tr th {\n",
       "        vertical-align: top;\n",
       "    }\n",
       "\n",
       "    .dataframe thead th {\n",
       "        text-align: right;\n",
       "    }\n",
       "</style>\n",
       "<table border=\"1\" class=\"dataframe\">\n",
       "  <thead>\n",
       "    <tr style=\"text-align: right;\">\n",
       "      <th></th>\n",
       "      <th>SL No</th>\n",
       "    </tr>\n",
       "  </thead>\n",
       "  <tbody>\n",
       "    <tr>\n",
       "      <th>count</th>\n",
       "      <td>1000.000000</td>\n",
       "    </tr>\n",
       "    <tr>\n",
       "      <th>mean</th>\n",
       "      <td>500.500000</td>\n",
       "    </tr>\n",
       "    <tr>\n",
       "      <th>std</th>\n",
       "      <td>288.819436</td>\n",
       "    </tr>\n",
       "    <tr>\n",
       "      <th>min</th>\n",
       "      <td>1.000000</td>\n",
       "    </tr>\n",
       "    <tr>\n",
       "      <th>25%</th>\n",
       "      <td>250.750000</td>\n",
       "    </tr>\n",
       "    <tr>\n",
       "      <th>50%</th>\n",
       "      <td>500.500000</td>\n",
       "    </tr>\n",
       "    <tr>\n",
       "      <th>75%</th>\n",
       "      <td>750.250000</td>\n",
       "    </tr>\n",
       "    <tr>\n",
       "      <th>max</th>\n",
       "      <td>1000.000000</td>\n",
       "    </tr>\n",
       "  </tbody>\n",
       "</table>\n",
       "</div>"
      ],
      "text/plain": [
       "             SL No\n",
       "count  1000.000000\n",
       "mean    500.500000\n",
       "std     288.819436\n",
       "min       1.000000\n",
       "25%     250.750000\n",
       "50%     500.500000\n",
       "75%     750.250000\n",
       "max    1000.000000"
      ]
     },
     "execution_count": 9,
     "metadata": {},
     "output_type": "execute_result"
    }
   ],
   "source": [
    "df.describe()"
   ]
  },
  {
   "cell_type": "code",
   "execution_count": 10,
   "id": "ca098996",
   "metadata": {},
   "outputs": [
    {
     "data": {
      "text/plain": [
       "SL No          False\n",
       "Agent           True\n",
       "Date            True\n",
       "Login Time      True\n",
       "Logout Time     True\n",
       "Duration        True\n",
       "dtype: bool"
      ]
     },
     "execution_count": 10,
     "metadata": {},
     "output_type": "execute_result"
    }
   ],
   "source": [
    "df.dtypes == 'object'"
   ]
  },
  {
   "cell_type": "code",
   "execution_count": 12,
   "id": "40a3af2c",
   "metadata": {},
   "outputs": [
    {
     "data": {
      "text/plain": [
       "Agent          object\n",
       "Date           object\n",
       "Login Time     object\n",
       "Logout Time    object\n",
       "Duration       object\n",
       "dtype: object"
      ]
     },
     "execution_count": 12,
     "metadata": {},
     "output_type": "execute_result"
    }
   ],
   "source": [
    "df.dtypes[df.dtypes == 'object']"
   ]
  },
  {
   "cell_type": "code",
   "execution_count": 17,
   "id": "e9b73765",
   "metadata": {},
   "outputs": [
    {
     "data": {
      "text/plain": [
       "pandas.core.series.Series"
      ]
     },
     "execution_count": 17,
     "metadata": {},
     "output_type": "execute_result"
    }
   ],
   "source": [
    "type(df.dtypes[df.dtypes == 'object'])"
   ]
  },
  {
   "cell_type": "code",
   "execution_count": 13,
   "id": "6b3b3bb3",
   "metadata": {},
   "outputs": [
    {
     "data": {
      "text/plain": [
       "Index(['Agent', 'Date', 'Login Time', 'Logout Time', 'Duration'], dtype='object')"
      ]
     },
     "execution_count": 13,
     "metadata": {},
     "output_type": "execute_result"
    }
   ],
   "source": [
    "df.dtypes[df.dtypes == 'object'].index"
   ]
  },
  {
   "cell_type": "code",
   "execution_count": 14,
   "id": "358abd5c",
   "metadata": {},
   "outputs": [
    {
     "data": {
      "text/plain": [
       "pandas.core.indexes.base.Index"
      ]
     },
     "execution_count": 14,
     "metadata": {},
     "output_type": "execute_result"
    }
   ],
   "source": [
    "type(df.dtypes[df.dtypes == 'object'].index)"
   ]
  },
  {
   "cell_type": "code",
   "execution_count": 15,
   "id": "09a264a0",
   "metadata": {},
   "outputs": [
    {
     "data": {
      "text/html": [
       "<div>\n",
       "<style scoped>\n",
       "    .dataframe tbody tr th:only-of-type {\n",
       "        vertical-align: middle;\n",
       "    }\n",
       "\n",
       "    .dataframe tbody tr th {\n",
       "        vertical-align: top;\n",
       "    }\n",
       "\n",
       "    .dataframe thead th {\n",
       "        text-align: right;\n",
       "    }\n",
       "</style>\n",
       "<table border=\"1\" class=\"dataframe\">\n",
       "  <thead>\n",
       "    <tr style=\"text-align: right;\">\n",
       "      <th></th>\n",
       "      <th>Agent</th>\n",
       "      <th>Date</th>\n",
       "      <th>Login Time</th>\n",
       "      <th>Logout Time</th>\n",
       "      <th>Duration</th>\n",
       "    </tr>\n",
       "  </thead>\n",
       "  <tbody>\n",
       "    <tr>\n",
       "      <th>0</th>\n",
       "      <td>Shivananda Sonwane</td>\n",
       "      <td>30-Jul-22</td>\n",
       "      <td>15:35:29</td>\n",
       "      <td>17:39:39</td>\n",
       "      <td>02:04:10</td>\n",
       "    </tr>\n",
       "    <tr>\n",
       "      <th>1</th>\n",
       "      <td>Khushboo Priya</td>\n",
       "      <td>30-Jul-22</td>\n",
       "      <td>15:06:59</td>\n",
       "      <td>15:07:16</td>\n",
       "      <td>00:00:17</td>\n",
       "    </tr>\n",
       "    <tr>\n",
       "      <th>2</th>\n",
       "      <td>Nandani Gupta</td>\n",
       "      <td>30-Jul-22</td>\n",
       "      <td>15:04:24</td>\n",
       "      <td>17:31:07</td>\n",
       "      <td>02:26:42</td>\n",
       "    </tr>\n",
       "    <tr>\n",
       "      <th>3</th>\n",
       "      <td>Hrisikesh Neogi</td>\n",
       "      <td>30-Jul-22</td>\n",
       "      <td>14:34:29</td>\n",
       "      <td>15:19:35</td>\n",
       "      <td>00:45:06</td>\n",
       "    </tr>\n",
       "    <tr>\n",
       "      <th>4</th>\n",
       "      <td>Mukesh</td>\n",
       "      <td>30-Jul-22</td>\n",
       "      <td>14:03:15</td>\n",
       "      <td>15:11:52</td>\n",
       "      <td>01:08:36</td>\n",
       "    </tr>\n",
       "    <tr>\n",
       "      <th>...</th>\n",
       "      <td>...</td>\n",
       "      <td>...</td>\n",
       "      <td>...</td>\n",
       "      <td>...</td>\n",
       "      <td>...</td>\n",
       "    </tr>\n",
       "    <tr>\n",
       "      <th>995</th>\n",
       "      <td>Manjunatha A</td>\n",
       "      <td>20-Jul-22</td>\n",
       "      <td>09:03:51</td>\n",
       "      <td>15:02:28</td>\n",
       "      <td>05:58:37</td>\n",
       "    </tr>\n",
       "    <tr>\n",
       "      <th>996</th>\n",
       "      <td>Bharath</td>\n",
       "      <td>20-Jul-22</td>\n",
       "      <td>09:00:49</td>\n",
       "      <td>15:01:32</td>\n",
       "      <td>06:00:43</td>\n",
       "    </tr>\n",
       "    <tr>\n",
       "      <th>997</th>\n",
       "      <td>Khushboo Priya</td>\n",
       "      <td>20-Jul-22</td>\n",
       "      <td>08:59:20</td>\n",
       "      <td>14:26:55</td>\n",
       "      <td>05:27:34</td>\n",
       "    </tr>\n",
       "    <tr>\n",
       "      <th>998</th>\n",
       "      <td>Nishtha Jain</td>\n",
       "      <td>20-Jul-22</td>\n",
       "      <td>08:43:55</td>\n",
       "      <td>14:00:33</td>\n",
       "      <td>05:16:38</td>\n",
       "    </tr>\n",
       "    <tr>\n",
       "      <th>999</th>\n",
       "      <td>Tarun</td>\n",
       "      <td>01-Jul-22</td>\n",
       "      <td>01:52:47</td>\n",
       "      <td>12:01:07</td>\n",
       "      <td>514:08:20</td>\n",
       "    </tr>\n",
       "  </tbody>\n",
       "</table>\n",
       "<p>1000 rows × 5 columns</p>\n",
       "</div>"
      ],
      "text/plain": [
       "                  Agent       Date Login Time Logout Time   Duration\n",
       "0    Shivananda Sonwane  30-Jul-22   15:35:29    17:39:39   02:04:10\n",
       "1        Khushboo Priya  30-Jul-22   15:06:59    15:07:16   00:00:17\n",
       "2         Nandani Gupta  30-Jul-22   15:04:24    17:31:07   02:26:42\n",
       "3       Hrisikesh Neogi  30-Jul-22   14:34:29    15:19:35   00:45:06\n",
       "4                Mukesh  30-Jul-22   14:03:15    15:11:52   01:08:36\n",
       "..                  ...        ...        ...         ...        ...\n",
       "995        Manjunatha A  20-Jul-22   09:03:51    15:02:28   05:58:37\n",
       "996             Bharath  20-Jul-22   09:00:49    15:01:32   06:00:43\n",
       "997      Khushboo Priya  20-Jul-22   08:59:20    14:26:55   05:27:34\n",
       "998        Nishtha Jain  20-Jul-22   08:43:55    14:00:33   05:16:38\n",
       "999               Tarun  01-Jul-22   01:52:47    12:01:07  514:08:20\n",
       "\n",
       "[1000 rows x 5 columns]"
      ]
     },
     "execution_count": 15,
     "metadata": {},
     "output_type": "execute_result"
    }
   ],
   "source": [
    "df[df.dtypes[df.dtypes == 'object'].index]"
   ]
  },
  {
   "cell_type": "code",
   "execution_count": 16,
   "id": "92807aea",
   "metadata": {},
   "outputs": [
    {
     "ename": "KeyError",
     "evalue": "\"None of [Index([object, object, object, object, object], dtype='object')] are in the [columns]\"",
     "output_type": "error",
     "traceback": [
      "\u001b[1;31m---------------------------------------------------------------------------\u001b[0m",
      "\u001b[1;31mKeyError\u001b[0m                                  Traceback (most recent call last)",
      "Input \u001b[1;32mIn [16]\u001b[0m, in \u001b[0;36m<cell line: 1>\u001b[1;34m()\u001b[0m\n\u001b[1;32m----> 1\u001b[0m \u001b[43mdf\u001b[49m\u001b[43m[\u001b[49m\u001b[43mdf\u001b[49m\u001b[38;5;241;43m.\u001b[39;49m\u001b[43mdtypes\u001b[49m\u001b[43m[\u001b[49m\u001b[43mdf\u001b[49m\u001b[38;5;241;43m.\u001b[39;49m\u001b[43mdtypes\u001b[49m\u001b[43m \u001b[49m\u001b[38;5;241;43m==\u001b[39;49m\u001b[43m \u001b[49m\u001b[38;5;124;43m'\u001b[39;49m\u001b[38;5;124;43mobject\u001b[39;49m\u001b[38;5;124;43m'\u001b[39;49m\u001b[43m]\u001b[49m\u001b[43m]\u001b[49m\n",
      "File \u001b[1;32mC:\\ProgramData\\Anaconda3\\lib\\site-packages\\pandas\\core\\frame.py:3511\u001b[0m, in \u001b[0;36mDataFrame.__getitem__\u001b[1;34m(self, key)\u001b[0m\n\u001b[0;32m   3509\u001b[0m     \u001b[38;5;28;01mif\u001b[39;00m is_iterator(key):\n\u001b[0;32m   3510\u001b[0m         key \u001b[38;5;241m=\u001b[39m \u001b[38;5;28mlist\u001b[39m(key)\n\u001b[1;32m-> 3511\u001b[0m     indexer \u001b[38;5;241m=\u001b[39m \u001b[38;5;28;43mself\u001b[39;49m\u001b[38;5;241;43m.\u001b[39;49m\u001b[43mcolumns\u001b[49m\u001b[38;5;241;43m.\u001b[39;49m\u001b[43m_get_indexer_strict\u001b[49m\u001b[43m(\u001b[49m\u001b[43mkey\u001b[49m\u001b[43m,\u001b[49m\u001b[43m \u001b[49m\u001b[38;5;124;43m\"\u001b[39;49m\u001b[38;5;124;43mcolumns\u001b[39;49m\u001b[38;5;124;43m\"\u001b[39;49m\u001b[43m)\u001b[49m[\u001b[38;5;241m1\u001b[39m]\n\u001b[0;32m   3513\u001b[0m \u001b[38;5;66;03m# take() does not accept boolean indexers\u001b[39;00m\n\u001b[0;32m   3514\u001b[0m \u001b[38;5;28;01mif\u001b[39;00m \u001b[38;5;28mgetattr\u001b[39m(indexer, \u001b[38;5;124m\"\u001b[39m\u001b[38;5;124mdtype\u001b[39m\u001b[38;5;124m\"\u001b[39m, \u001b[38;5;28;01mNone\u001b[39;00m) \u001b[38;5;241m==\u001b[39m \u001b[38;5;28mbool\u001b[39m:\n",
      "File \u001b[1;32mC:\\ProgramData\\Anaconda3\\lib\\site-packages\\pandas\\core\\indexes\\base.py:5782\u001b[0m, in \u001b[0;36mIndex._get_indexer_strict\u001b[1;34m(self, key, axis_name)\u001b[0m\n\u001b[0;32m   5779\u001b[0m \u001b[38;5;28;01melse\u001b[39;00m:\n\u001b[0;32m   5780\u001b[0m     keyarr, indexer, new_indexer \u001b[38;5;241m=\u001b[39m \u001b[38;5;28mself\u001b[39m\u001b[38;5;241m.\u001b[39m_reindex_non_unique(keyarr)\n\u001b[1;32m-> 5782\u001b[0m \u001b[38;5;28;43mself\u001b[39;49m\u001b[38;5;241;43m.\u001b[39;49m\u001b[43m_raise_if_missing\u001b[49m\u001b[43m(\u001b[49m\u001b[43mkeyarr\u001b[49m\u001b[43m,\u001b[49m\u001b[43m \u001b[49m\u001b[43mindexer\u001b[49m\u001b[43m,\u001b[49m\u001b[43m \u001b[49m\u001b[43maxis_name\u001b[49m\u001b[43m)\u001b[49m\n\u001b[0;32m   5784\u001b[0m keyarr \u001b[38;5;241m=\u001b[39m \u001b[38;5;28mself\u001b[39m\u001b[38;5;241m.\u001b[39mtake(indexer)\n\u001b[0;32m   5785\u001b[0m \u001b[38;5;28;01mif\u001b[39;00m \u001b[38;5;28misinstance\u001b[39m(key, Index):\n\u001b[0;32m   5786\u001b[0m     \u001b[38;5;66;03m# GH 42790 - Preserve name from an Index\u001b[39;00m\n",
      "File \u001b[1;32mC:\\ProgramData\\Anaconda3\\lib\\site-packages\\pandas\\core\\indexes\\base.py:5842\u001b[0m, in \u001b[0;36mIndex._raise_if_missing\u001b[1;34m(self, key, indexer, axis_name)\u001b[0m\n\u001b[0;32m   5840\u001b[0m     \u001b[38;5;28;01mif\u001b[39;00m use_interval_msg:\n\u001b[0;32m   5841\u001b[0m         key \u001b[38;5;241m=\u001b[39m \u001b[38;5;28mlist\u001b[39m(key)\n\u001b[1;32m-> 5842\u001b[0m     \u001b[38;5;28;01mraise\u001b[39;00m \u001b[38;5;167;01mKeyError\u001b[39;00m(\u001b[38;5;124mf\u001b[39m\u001b[38;5;124m\"\u001b[39m\u001b[38;5;124mNone of [\u001b[39m\u001b[38;5;132;01m{\u001b[39;00mkey\u001b[38;5;132;01m}\u001b[39;00m\u001b[38;5;124m] are in the [\u001b[39m\u001b[38;5;132;01m{\u001b[39;00maxis_name\u001b[38;5;132;01m}\u001b[39;00m\u001b[38;5;124m]\u001b[39m\u001b[38;5;124m\"\u001b[39m)\n\u001b[0;32m   5844\u001b[0m not_found \u001b[38;5;241m=\u001b[39m \u001b[38;5;28mlist\u001b[39m(ensure_index(key)[missing_mask\u001b[38;5;241m.\u001b[39mnonzero()[\u001b[38;5;241m0\u001b[39m]]\u001b[38;5;241m.\u001b[39munique())\n\u001b[0;32m   5845\u001b[0m \u001b[38;5;28;01mraise\u001b[39;00m \u001b[38;5;167;01mKeyError\u001b[39;00m(\u001b[38;5;124mf\u001b[39m\u001b[38;5;124m\"\u001b[39m\u001b[38;5;132;01m{\u001b[39;00mnot_found\u001b[38;5;132;01m}\u001b[39;00m\u001b[38;5;124m not in index\u001b[39m\u001b[38;5;124m\"\u001b[39m)\n",
      "\u001b[1;31mKeyError\u001b[0m: \"None of [Index([object, object, object, object, object], dtype='object')] are in the [columns]\""
     ]
    }
   ],
   "source": [
    "df[df.dtypes[df.dtypes == 'object']]"
   ]
  },
  {
   "cell_type": "code",
   "execution_count": 18,
   "id": "3726d8dd",
   "metadata": {},
   "outputs": [
    {
     "data": {
      "text/html": [
       "<div>\n",
       "<style scoped>\n",
       "    .dataframe tbody tr th:only-of-type {\n",
       "        vertical-align: middle;\n",
       "    }\n",
       "\n",
       "    .dataframe tbody tr th {\n",
       "        vertical-align: top;\n",
       "    }\n",
       "\n",
       "    .dataframe thead th {\n",
       "        text-align: right;\n",
       "    }\n",
       "</style>\n",
       "<table border=\"1\" class=\"dataframe\">\n",
       "  <thead>\n",
       "    <tr style=\"text-align: right;\">\n",
       "      <th></th>\n",
       "      <th>Agent</th>\n",
       "      <th>Date</th>\n",
       "      <th>Login Time</th>\n",
       "      <th>Logout Time</th>\n",
       "      <th>Duration</th>\n",
       "    </tr>\n",
       "  </thead>\n",
       "  <tbody>\n",
       "    <tr>\n",
       "      <th>count</th>\n",
       "      <td>1000</td>\n",
       "      <td>1000</td>\n",
       "      <td>1000</td>\n",
       "      <td>1000</td>\n",
       "      <td>1000</td>\n",
       "    </tr>\n",
       "    <tr>\n",
       "      <th>unique</th>\n",
       "      <td>49</td>\n",
       "      <td>12</td>\n",
       "      <td>957</td>\n",
       "      <td>983</td>\n",
       "      <td>727</td>\n",
       "    </tr>\n",
       "    <tr>\n",
       "      <th>top</th>\n",
       "      <td>Dibyanshu</td>\n",
       "      <td>22-Jul-22</td>\n",
       "      <td>15:02:35</td>\n",
       "      <td>21:02:03</td>\n",
       "      <td>00:02:00</td>\n",
       "    </tr>\n",
       "    <tr>\n",
       "      <th>freq</th>\n",
       "      <td>208</td>\n",
       "      <td>138</td>\n",
       "      <td>4</td>\n",
       "      <td>3</td>\n",
       "      <td>150</td>\n",
       "    </tr>\n",
       "  </tbody>\n",
       "</table>\n",
       "</div>"
      ],
      "text/plain": [
       "            Agent       Date Login Time Logout Time  Duration\n",
       "count        1000       1000       1000        1000      1000\n",
       "unique         49         12        957         983       727\n",
       "top     Dibyanshu  22-Jul-22   15:02:35    21:02:03  00:02:00\n",
       "freq          208        138          4           3       150"
      ]
     },
     "execution_count": 18,
     "metadata": {},
     "output_type": "execute_result"
    }
   ],
   "source": [
    "df[df.dtypes[df.dtypes == 'object'].index].describe()"
   ]
  },
  {
   "cell_type": "code",
   "execution_count": 23,
   "id": "fe763ddd",
   "metadata": {},
   "outputs": [
    {
     "data": {
      "text/html": [
       "<div>\n",
       "<style scoped>\n",
       "    .dataframe tbody tr th:only-of-type {\n",
       "        vertical-align: middle;\n",
       "    }\n",
       "\n",
       "    .dataframe tbody tr th {\n",
       "        vertical-align: top;\n",
       "    }\n",
       "\n",
       "    .dataframe thead th {\n",
       "        text-align: right;\n",
       "    }\n",
       "</style>\n",
       "<table border=\"1\" class=\"dataframe\">\n",
       "  <thead>\n",
       "    <tr style=\"text-align: right;\">\n",
       "      <th></th>\n",
       "      <th>SL No</th>\n",
       "    </tr>\n",
       "  </thead>\n",
       "  <tbody>\n",
       "    <tr>\n",
       "      <th>0</th>\n",
       "      <td>1</td>\n",
       "    </tr>\n",
       "    <tr>\n",
       "      <th>1</th>\n",
       "      <td>2</td>\n",
       "    </tr>\n",
       "    <tr>\n",
       "      <th>2</th>\n",
       "      <td>3</td>\n",
       "    </tr>\n",
       "    <tr>\n",
       "      <th>3</th>\n",
       "      <td>4</td>\n",
       "    </tr>\n",
       "    <tr>\n",
       "      <th>4</th>\n",
       "      <td>5</td>\n",
       "    </tr>\n",
       "    <tr>\n",
       "      <th>...</th>\n",
       "      <td>...</td>\n",
       "    </tr>\n",
       "    <tr>\n",
       "      <th>995</th>\n",
       "      <td>996</td>\n",
       "    </tr>\n",
       "    <tr>\n",
       "      <th>996</th>\n",
       "      <td>997</td>\n",
       "    </tr>\n",
       "    <tr>\n",
       "      <th>997</th>\n",
       "      <td>998</td>\n",
       "    </tr>\n",
       "    <tr>\n",
       "      <th>998</th>\n",
       "      <td>999</td>\n",
       "    </tr>\n",
       "    <tr>\n",
       "      <th>999</th>\n",
       "      <td>1000</td>\n",
       "    </tr>\n",
       "  </tbody>\n",
       "</table>\n",
       "<p>1000 rows × 1 columns</p>\n",
       "</div>"
      ],
      "text/plain": [
       "     SL No\n",
       "0        1\n",
       "1        2\n",
       "2        3\n",
       "3        4\n",
       "4        5\n",
       "..     ...\n",
       "995    996\n",
       "996    997\n",
       "997    998\n",
       "998    999\n",
       "999   1000\n",
       "\n",
       "[1000 rows x 1 columns]"
      ]
     },
     "execution_count": 23,
     "metadata": {},
     "output_type": "execute_result"
    }
   ],
   "source": [
    "df[df.dtypes[df.dtypes=='int64'].index]"
   ]
  },
  {
   "cell_type": "code",
   "execution_count": 25,
   "id": "3da94d4d",
   "metadata": {},
   "outputs": [
    {
     "data": {
      "text/plain": [
       "1    2\n",
       "2    3\n",
       "3    4\n",
       "Name: SL No, dtype: int64"
      ]
     },
     "execution_count": 25,
     "metadata": {},
     "output_type": "execute_result"
    }
   ],
   "source": [
    "df['SL No'][1:4]"
   ]
  },
  {
   "cell_type": "code",
   "execution_count": 26,
   "id": "ba2cdbb2",
   "metadata": {},
   "outputs": [
    {
     "data": {
      "text/plain": [
       "1      2\n",
       "3      4\n",
       "5      6\n",
       "7      8\n",
       "9     10\n",
       "11    12\n",
       "13    14\n",
       "15    16\n",
       "17    18\n",
       "19    20\n",
       "21    22\n",
       "23    24\n",
       "25    26\n",
       "27    28\n",
       "29    30\n",
       "31    32\n",
       "33    34\n",
       "35    36\n",
       "37    38\n",
       "39    40\n",
       "Name: SL No, dtype: int64"
      ]
     },
     "execution_count": 26,
     "metadata": {},
     "output_type": "execute_result"
    }
   ],
   "source": [
    "df['SL No'][1:40:2]"
   ]
  },
  {
   "cell_type": "code",
   "execution_count": 37,
   "id": "5622153f",
   "metadata": {},
   "outputs": [
    {
     "data": {
      "text/plain": [
       "1      2\n",
       "3      4\n",
       "5      6\n",
       "7      8\n",
       "9     10\n",
       "11    12\n",
       "13    14\n",
       "15    16\n",
       "17    18\n",
       "19    20\n",
       "21    22\n",
       "23    24\n",
       "25    26\n",
       "27    28\n",
       "29    30\n",
       "31    32\n",
       "33    34\n",
       "35    36\n",
       "37    38\n",
       "39    40\n",
       "Name: SL No, dtype: int64"
      ]
     },
     "execution_count": 37,
     "metadata": {},
     "output_type": "execute_result"
    }
   ],
   "source": [
    "df[1:40:2]['SL No']"
   ]
  },
  {
   "cell_type": "code",
   "execution_count": 27,
   "id": "3f49d64f",
   "metadata": {},
   "outputs": [
    {
     "data": {
      "text/plain": [
       "Index(['SL No', 'Agent', 'Date', 'Login Time', 'Logout Time', 'Duration'], dtype='object')"
      ]
     },
     "execution_count": 27,
     "metadata": {},
     "output_type": "execute_result"
    }
   ],
   "source": [
    "df.columns"
   ]
  },
  {
   "cell_type": "code",
   "execution_count": 28,
   "id": "34a894fe",
   "metadata": {},
   "outputs": [],
   "source": [
    "df['Category1']='Steve'"
   ]
  },
  {
   "cell_type": "code",
   "execution_count": 29,
   "id": "b1e9f100",
   "metadata": {},
   "outputs": [
    {
     "data": {
      "text/plain": [
       "Index(['SL No', 'Agent', 'Date', 'Login Time', 'Logout Time', 'Duration',\n",
       "       'Category1'],\n",
       "      dtype='object')"
      ]
     },
     "execution_count": 29,
     "metadata": {},
     "output_type": "execute_result"
    }
   ],
   "source": [
    "df.columns"
   ]
  },
  {
   "cell_type": "code",
   "execution_count": 30,
   "id": "0ade1800",
   "metadata": {},
   "outputs": [
    {
     "data": {
      "text/plain": [
       "0      False\n",
       "1      False\n",
       "2      False\n",
       "3      False\n",
       "4      False\n",
       "       ...  \n",
       "995    False\n",
       "996    False\n",
       "997    False\n",
       "998    False\n",
       "999    False\n",
       "Name: Agent, Length: 1000, dtype: bool"
      ]
     },
     "execution_count": 30,
     "metadata": {},
     "output_type": "execute_result"
    }
   ],
   "source": [
    "df['Agent'].isnull()"
   ]
  },
  {
   "cell_type": "code",
   "execution_count": 31,
   "id": "8be950df",
   "metadata": {},
   "outputs": [],
   "source": [
    "dfDress = pd.read_excel(\"../drive-download-20220804T135158Z-001/Dress Sales.xlsx\")"
   ]
  },
  {
   "cell_type": "code",
   "execution_count": 32,
   "id": "880c118c",
   "metadata": {},
   "outputs": [
    {
     "data": {
      "text/plain": [
       "Index([         'Dress_ID',         '29/8/2013',         '31/8/2013',\n",
       "       2013-02-09 00:00:00, 2013-04-09 00:00:00, 2013-06-09 00:00:00,\n",
       "       2013-08-09 00:00:00, 2013-10-09 00:00:00, 2013-12-09 00:00:00,\n",
       "               '14/9/2013',         '16/9/2013',         '18/9/2013',\n",
       "               '20/9/2013',         '22/9/2013',         '24/9/2013',\n",
       "               '26/9/2013',         '28/9/2013',         '30/9/2013',\n",
       "       2013-02-10 00:00:00, 2013-04-10 00:00:00, 2013-06-10 00:00:00,\n",
       "       2010-08-10 00:00:00, 2013-10-10 00:00:00, 2013-12-10 00:00:00],\n",
       "      dtype='object')"
      ]
     },
     "execution_count": 32,
     "metadata": {},
     "output_type": "execute_result"
    }
   ],
   "source": [
    "dfDress.columns"
   ]
  },
  {
   "cell_type": "code",
   "execution_count": 33,
   "id": "2424897d",
   "metadata": {},
   "outputs": [
    {
     "data": {
      "text/html": [
       "<div>\n",
       "<style scoped>\n",
       "    .dataframe tbody tr th:only-of-type {\n",
       "        vertical-align: middle;\n",
       "    }\n",
       "\n",
       "    .dataframe tbody tr th {\n",
       "        vertical-align: top;\n",
       "    }\n",
       "\n",
       "    .dataframe thead th {\n",
       "        text-align: right;\n",
       "    }\n",
       "</style>\n",
       "<table border=\"1\" class=\"dataframe\">\n",
       "  <thead>\n",
       "    <tr style=\"text-align: right;\">\n",
       "      <th></th>\n",
       "      <th>Dress_ID</th>\n",
       "      <th>29/8/2013</th>\n",
       "      <th>31/8/2013</th>\n",
       "      <th>2013-02-09 00:00:00</th>\n",
       "      <th>2013-04-09 00:00:00</th>\n",
       "      <th>2013-06-09 00:00:00</th>\n",
       "      <th>2013-08-09 00:00:00</th>\n",
       "      <th>2013-10-09 00:00:00</th>\n",
       "      <th>2013-12-09 00:00:00</th>\n",
       "      <th>14/9/2013</th>\n",
       "      <th>...</th>\n",
       "      <th>24/9/2013</th>\n",
       "      <th>26/9/2013</th>\n",
       "      <th>28/9/2013</th>\n",
       "      <th>30/9/2013</th>\n",
       "      <th>2013-02-10 00:00:00</th>\n",
       "      <th>2013-04-10 00:00:00</th>\n",
       "      <th>2013-06-10 00:00:00</th>\n",
       "      <th>2010-08-10 00:00:00</th>\n",
       "      <th>2013-10-10 00:00:00</th>\n",
       "      <th>2013-12-10 00:00:00</th>\n",
       "    </tr>\n",
       "  </thead>\n",
       "  <tbody>\n",
       "    <tr>\n",
       "      <th>0</th>\n",
       "      <td>1006032852</td>\n",
       "      <td>2114</td>\n",
       "      <td>2274</td>\n",
       "      <td>2491</td>\n",
       "      <td>2660</td>\n",
       "      <td>2727</td>\n",
       "      <td>2887</td>\n",
       "      <td>2930</td>\n",
       "      <td>3119</td>\n",
       "      <td>3204</td>\n",
       "      <td>...</td>\n",
       "      <td>3554</td>\n",
       "      <td>3624.0</td>\n",
       "      <td>3706</td>\n",
       "      <td>3746.0</td>\n",
       "      <td>3795.0</td>\n",
       "      <td>3832.0</td>\n",
       "      <td>3897</td>\n",
       "      <td>3923.0</td>\n",
       "      <td>3985.0</td>\n",
       "      <td>4048</td>\n",
       "    </tr>\n",
       "    <tr>\n",
       "      <th>1</th>\n",
       "      <td>1212192089</td>\n",
       "      <td>151</td>\n",
       "      <td>275</td>\n",
       "      <td>570</td>\n",
       "      <td>750</td>\n",
       "      <td>813</td>\n",
       "      <td>1066</td>\n",
       "      <td>1164</td>\n",
       "      <td>1558</td>\n",
       "      <td>1756</td>\n",
       "      <td>...</td>\n",
       "      <td>2710</td>\n",
       "      <td>2942.0</td>\n",
       "      <td>3258</td>\n",
       "      <td>3354.0</td>\n",
       "      <td>3475.0</td>\n",
       "      <td>3654.0</td>\n",
       "      <td>3911</td>\n",
       "      <td>4024.0</td>\n",
       "      <td>4125.0</td>\n",
       "      <td>4277</td>\n",
       "    </tr>\n",
       "  </tbody>\n",
       "</table>\n",
       "<p>2 rows × 24 columns</p>\n",
       "</div>"
      ],
      "text/plain": [
       "     Dress_ID  29/8/2013  31/8/2013  2013-02-09 00:00:00  2013-04-09 00:00:00  \\\n",
       "0  1006032852       2114       2274                 2491                 2660   \n",
       "1  1212192089        151        275                  570                  750   \n",
       "\n",
       "   2013-06-09 00:00:00  2013-08-09 00:00:00  2013-10-09 00:00:00  \\\n",
       "0                 2727                 2887                 2930   \n",
       "1                  813                 1066                 1164   \n",
       "\n",
       "  2013-12-09 00:00:00 14/9/2013  ... 24/9/2013 26/9/2013 28/9/2013 30/9/2013  \\\n",
       "0                3119      3204  ...      3554    3624.0      3706    3746.0   \n",
       "1                1558      1756  ...      2710    2942.0      3258    3354.0   \n",
       "\n",
       "   2013-02-10 00:00:00  2013-04-10 00:00:00  2013-06-10 00:00:00  \\\n",
       "0               3795.0               3832.0                 3897   \n",
       "1               3475.0               3654.0                 3911   \n",
       "\n",
       "   2010-08-10 00:00:00  2013-10-10 00:00:00  2013-12-10 00:00:00  \n",
       "0               3923.0               3985.0                 4048  \n",
       "1               4024.0               4125.0                 4277  \n",
       "\n",
       "[2 rows x 24 columns]"
      ]
     },
     "execution_count": 33,
     "metadata": {},
     "output_type": "execute_result"
    }
   ],
   "source": [
    "dfDress.head(2)"
   ]
  },
  {
   "cell_type": "code",
   "execution_count": 36,
   "id": "255825cd",
   "metadata": {},
   "outputs": [
    {
     "data": {
      "text/plain": [
       "0      False\n",
       "1      False\n",
       "2      False\n",
       "3      False\n",
       "4      False\n",
       "       ...  \n",
       "495    False\n",
       "496    False\n",
       "497    False\n",
       "498    False\n",
       "499    False\n",
       "Name: 30/9/2013, Length: 500, dtype: bool"
      ]
     },
     "execution_count": 36,
     "metadata": {},
     "output_type": "execute_result"
    }
   ],
   "source": [
    "dfDress['30/9/2013'].isnull()"
   ]
  },
  {
   "cell_type": "code",
   "execution_count": 39,
   "id": "42d5d118",
   "metadata": {},
   "outputs": [
    {
     "data": {
      "text/plain": [
       "SL No           int64\n",
       "Agent          object\n",
       "Date           object\n",
       "Login Time     object\n",
       "Logout Time    object\n",
       "Duration       object\n",
       "Category1      object\n",
       "dtype: object"
      ]
     },
     "execution_count": 39,
     "metadata": {},
     "output_type": "execute_result"
    }
   ],
   "source": [
    "df.dtypes"
   ]
  },
  {
   "cell_type": "code",
   "execution_count": 41,
   "id": "2fea016f",
   "metadata": {},
   "outputs": [],
   "source": [
    "date = pd.to_datetime(df['Date'])"
   ]
  },
  {
   "cell_type": "code",
   "execution_count": 44,
   "id": "d2c67e8b",
   "metadata": {},
   "outputs": [
    {
     "data": {
      "text/plain": [
       "pandas._libs.tslibs.timestamps.Timestamp"
      ]
     },
     "execution_count": 44,
     "metadata": {},
     "output_type": "execute_result"
    }
   ],
   "source": [
    "type(date[0])"
   ]
  },
  {
   "cell_type": "code",
   "execution_count": 45,
   "id": "64e7fbca",
   "metadata": {},
   "outputs": [],
   "source": [
    "df['converted_Date'] = date"
   ]
  },
  {
   "cell_type": "code",
   "execution_count": 46,
   "id": "c21b7658",
   "metadata": {},
   "outputs": [
    {
     "data": {
      "text/plain": [
       "Index(['SL No', 'Agent', 'Date', 'Login Time', 'Logout Time', 'Duration',\n",
       "       'Category1', 'converted_Date'],\n",
       "      dtype='object')"
      ]
     },
     "execution_count": 46,
     "metadata": {},
     "output_type": "execute_result"
    }
   ],
   "source": [
    "df.columns"
   ]
  },
  {
   "cell_type": "code",
   "execution_count": 52,
   "id": "6b365731",
   "metadata": {},
   "outputs": [],
   "source": [
    "df['converted_year']=df['converted_Date'].dt.year"
   ]
  },
  {
   "cell_type": "code",
   "execution_count": 53,
   "id": "b668771f",
   "metadata": {},
   "outputs": [],
   "source": [
    "df['converted_day']=df['converted_Date'].dt.day"
   ]
  },
  {
   "cell_type": "code",
   "execution_count": 55,
   "id": "0ed3040a",
   "metadata": {},
   "outputs": [],
   "source": [
    "df['converted_month']=df['converted_Date'].dt.month"
   ]
  },
  {
   "cell_type": "code",
   "execution_count": 54,
   "id": "49a7b025",
   "metadata": {},
   "outputs": [
    {
     "data": {
      "text/plain": [
       "0      30\n",
       "1      30\n",
       "2      30\n",
       "3      30\n",
       "4      30\n",
       "       ..\n",
       "995    20\n",
       "996    20\n",
       "997    20\n",
       "998    20\n",
       "999     1\n",
       "Name: converted_day, Length: 1000, dtype: int64"
      ]
     },
     "execution_count": 54,
     "metadata": {},
     "output_type": "execute_result"
    }
   ],
   "source": [
    "df['converted_day']"
   ]
  },
  {
   "cell_type": "code",
   "execution_count": 51,
   "id": "5f98ed86",
   "metadata": {},
   "outputs": [
    {
     "data": {
      "text/plain": [
       "2022    1000\n",
       "Name: converted_day, dtype: int64"
      ]
     },
     "execution_count": 51,
     "metadata": {},
     "output_type": "execute_result"
    }
   ],
   "source": [
    "df['converted_day'].value_counts()"
   ]
  },
  {
   "cell_type": "code",
   "execution_count": 56,
   "id": "56876922",
   "metadata": {},
   "outputs": [
    {
     "data": {
      "text/plain": [
       "Index(['SL No', 'Agent', 'Date', 'Login Time', 'Logout Time', 'Duration',\n",
       "       'Category1', 'converted_Date', 'converted_day', 'converted_year',\n",
       "       'converted_month'],\n",
       "      dtype='object')"
      ]
     },
     "execution_count": 56,
     "metadata": {},
     "output_type": "execute_result"
    }
   ],
   "source": [
    "df.columns"
   ]
  },
  {
   "cell_type": "code",
   "execution_count": 59,
   "id": "0325cd4b",
   "metadata": {},
   "outputs": [
    {
     "data": {
      "text/html": [
       "<div>\n",
       "<style scoped>\n",
       "    .dataframe tbody tr th:only-of-type {\n",
       "        vertical-align: middle;\n",
       "    }\n",
       "\n",
       "    .dataframe tbody tr th {\n",
       "        vertical-align: top;\n",
       "    }\n",
       "\n",
       "    .dataframe thead th {\n",
       "        text-align: right;\n",
       "    }\n",
       "</style>\n",
       "<table border=\"1\" class=\"dataframe\">\n",
       "  <thead>\n",
       "    <tr style=\"text-align: right;\">\n",
       "      <th></th>\n",
       "      <th>Agent</th>\n",
       "      <th>Date</th>\n",
       "      <th>Login Time</th>\n",
       "      <th>Logout Time</th>\n",
       "      <th>Duration</th>\n",
       "      <th>Category1</th>\n",
       "    </tr>\n",
       "  </thead>\n",
       "  <tbody>\n",
       "    <tr>\n",
       "      <th>count</th>\n",
       "      <td>1000</td>\n",
       "      <td>1000</td>\n",
       "      <td>1000</td>\n",
       "      <td>1000</td>\n",
       "      <td>1000</td>\n",
       "      <td>1000</td>\n",
       "    </tr>\n",
       "    <tr>\n",
       "      <th>unique</th>\n",
       "      <td>49</td>\n",
       "      <td>12</td>\n",
       "      <td>957</td>\n",
       "      <td>983</td>\n",
       "      <td>727</td>\n",
       "      <td>1</td>\n",
       "    </tr>\n",
       "    <tr>\n",
       "      <th>top</th>\n",
       "      <td>Dibyanshu</td>\n",
       "      <td>22-Jul-22</td>\n",
       "      <td>15:02:35</td>\n",
       "      <td>21:02:03</td>\n",
       "      <td>00:02:00</td>\n",
       "      <td>Steve</td>\n",
       "    </tr>\n",
       "    <tr>\n",
       "      <th>freq</th>\n",
       "      <td>208</td>\n",
       "      <td>138</td>\n",
       "      <td>4</td>\n",
       "      <td>3</td>\n",
       "      <td>150</td>\n",
       "      <td>1000</td>\n",
       "    </tr>\n",
       "  </tbody>\n",
       "</table>\n",
       "</div>"
      ],
      "text/plain": [
       "            Agent       Date Login Time Logout Time  Duration Category1\n",
       "count        1000       1000       1000        1000      1000      1000\n",
       "unique         49         12        957         983       727         1\n",
       "top     Dibyanshu  22-Jul-22   15:02:35    21:02:03  00:02:00     Steve\n",
       "freq          208        138          4           3       150      1000"
      ]
     },
     "execution_count": 59,
     "metadata": {},
     "output_type": "execute_result"
    }
   ],
   "source": [
    "df[df.dtypes[df.dtypes=='object'].index].describe()"
   ]
  },
  {
   "cell_type": "code",
   "execution_count": 60,
   "id": "20e587e2",
   "metadata": {},
   "outputs": [
    {
     "data": {
      "text/plain": [
       "Agent         converted_day\n",
       "Dibyanshu     29               41\n",
       "              22               39\n",
       "              27               36\n",
       "              20               25\n",
       "              28               24\n",
       "                               ..\n",
       "Aditya_iot    20                1\n",
       "Manjunatha A  25                1\n",
       "              27                1\n",
       "              28                1\n",
       "Zeeshan       29                1\n",
       "Length: 337, dtype: int64"
      ]
     },
     "execution_count": 60,
     "metadata": {},
     "output_type": "execute_result"
    }
   ],
   "source": [
    "df[['Agent','converted_day']].value_counts()"
   ]
  },
  {
   "cell_type": "code",
   "execution_count": 63,
   "id": "cb56d143",
   "metadata": {},
   "outputs": [
    {
     "data": {
      "text/html": [
       "<div>\n",
       "<style scoped>\n",
       "    .dataframe tbody tr th:only-of-type {\n",
       "        vertical-align: middle;\n",
       "    }\n",
       "\n",
       "    .dataframe tbody tr th {\n",
       "        vertical-align: top;\n",
       "    }\n",
       "\n",
       "    .dataframe thead th {\n",
       "        text-align: right;\n",
       "    }\n",
       "</style>\n",
       "<table border=\"1\" class=\"dataframe\">\n",
       "  <thead>\n",
       "    <tr style=\"text-align: right;\">\n",
       "      <th></th>\n",
       "      <th>SL No</th>\n",
       "      <th>Agent</th>\n",
       "      <th>Date</th>\n",
       "      <th>Login Time</th>\n",
       "      <th>Logout Time</th>\n",
       "      <th>Duration</th>\n",
       "      <th>converted_Date</th>\n",
       "      <th>converted_day</th>\n",
       "      <th>converted_year</th>\n",
       "      <th>converted_month</th>\n",
       "    </tr>\n",
       "  </thead>\n",
       "  <tbody>\n",
       "    <tr>\n",
       "      <th>0</th>\n",
       "      <td>1</td>\n",
       "      <td>Shivananda Sonwane</td>\n",
       "      <td>30-Jul-22</td>\n",
       "      <td>15:35:29</td>\n",
       "      <td>17:39:39</td>\n",
       "      <td>02:04:10</td>\n",
       "      <td>2022-07-30</td>\n",
       "      <td>30</td>\n",
       "      <td>2022</td>\n",
       "      <td>7</td>\n",
       "    </tr>\n",
       "    <tr>\n",
       "      <th>1</th>\n",
       "      <td>2</td>\n",
       "      <td>Khushboo Priya</td>\n",
       "      <td>30-Jul-22</td>\n",
       "      <td>15:06:59</td>\n",
       "      <td>15:07:16</td>\n",
       "      <td>00:00:17</td>\n",
       "      <td>2022-07-30</td>\n",
       "      <td>30</td>\n",
       "      <td>2022</td>\n",
       "      <td>7</td>\n",
       "    </tr>\n",
       "    <tr>\n",
       "      <th>2</th>\n",
       "      <td>3</td>\n",
       "      <td>Nandani Gupta</td>\n",
       "      <td>30-Jul-22</td>\n",
       "      <td>15:04:24</td>\n",
       "      <td>17:31:07</td>\n",
       "      <td>02:26:42</td>\n",
       "      <td>2022-07-30</td>\n",
       "      <td>30</td>\n",
       "      <td>2022</td>\n",
       "      <td>7</td>\n",
       "    </tr>\n",
       "    <tr>\n",
       "      <th>3</th>\n",
       "      <td>4</td>\n",
       "      <td>Hrisikesh Neogi</td>\n",
       "      <td>30-Jul-22</td>\n",
       "      <td>14:34:29</td>\n",
       "      <td>15:19:35</td>\n",
       "      <td>00:45:06</td>\n",
       "      <td>2022-07-30</td>\n",
       "      <td>30</td>\n",
       "      <td>2022</td>\n",
       "      <td>7</td>\n",
       "    </tr>\n",
       "    <tr>\n",
       "      <th>4</th>\n",
       "      <td>5</td>\n",
       "      <td>Mukesh</td>\n",
       "      <td>30-Jul-22</td>\n",
       "      <td>14:03:15</td>\n",
       "      <td>15:11:52</td>\n",
       "      <td>01:08:36</td>\n",
       "      <td>2022-07-30</td>\n",
       "      <td>30</td>\n",
       "      <td>2022</td>\n",
       "      <td>7</td>\n",
       "    </tr>\n",
       "    <tr>\n",
       "      <th>...</th>\n",
       "      <td>...</td>\n",
       "      <td>...</td>\n",
       "      <td>...</td>\n",
       "      <td>...</td>\n",
       "      <td>...</td>\n",
       "      <td>...</td>\n",
       "      <td>...</td>\n",
       "      <td>...</td>\n",
       "      <td>...</td>\n",
       "      <td>...</td>\n",
       "    </tr>\n",
       "    <tr>\n",
       "      <th>995</th>\n",
       "      <td>996</td>\n",
       "      <td>Manjunatha A</td>\n",
       "      <td>20-Jul-22</td>\n",
       "      <td>09:03:51</td>\n",
       "      <td>15:02:28</td>\n",
       "      <td>05:58:37</td>\n",
       "      <td>2022-07-20</td>\n",
       "      <td>20</td>\n",
       "      <td>2022</td>\n",
       "      <td>7</td>\n",
       "    </tr>\n",
       "    <tr>\n",
       "      <th>996</th>\n",
       "      <td>997</td>\n",
       "      <td>Bharath</td>\n",
       "      <td>20-Jul-22</td>\n",
       "      <td>09:00:49</td>\n",
       "      <td>15:01:32</td>\n",
       "      <td>06:00:43</td>\n",
       "      <td>2022-07-20</td>\n",
       "      <td>20</td>\n",
       "      <td>2022</td>\n",
       "      <td>7</td>\n",
       "    </tr>\n",
       "    <tr>\n",
       "      <th>997</th>\n",
       "      <td>998</td>\n",
       "      <td>Khushboo Priya</td>\n",
       "      <td>20-Jul-22</td>\n",
       "      <td>08:59:20</td>\n",
       "      <td>14:26:55</td>\n",
       "      <td>05:27:34</td>\n",
       "      <td>2022-07-20</td>\n",
       "      <td>20</td>\n",
       "      <td>2022</td>\n",
       "      <td>7</td>\n",
       "    </tr>\n",
       "    <tr>\n",
       "      <th>998</th>\n",
       "      <td>999</td>\n",
       "      <td>Nishtha Jain</td>\n",
       "      <td>20-Jul-22</td>\n",
       "      <td>08:43:55</td>\n",
       "      <td>14:00:33</td>\n",
       "      <td>05:16:38</td>\n",
       "      <td>2022-07-20</td>\n",
       "      <td>20</td>\n",
       "      <td>2022</td>\n",
       "      <td>7</td>\n",
       "    </tr>\n",
       "    <tr>\n",
       "      <th>999</th>\n",
       "      <td>1000</td>\n",
       "      <td>Tarun</td>\n",
       "      <td>01-Jul-22</td>\n",
       "      <td>01:52:47</td>\n",
       "      <td>12:01:07</td>\n",
       "      <td>514:08:20</td>\n",
       "      <td>2022-07-01</td>\n",
       "      <td>1</td>\n",
       "      <td>2022</td>\n",
       "      <td>7</td>\n",
       "    </tr>\n",
       "  </tbody>\n",
       "</table>\n",
       "<p>1000 rows × 10 columns</p>\n",
       "</div>"
      ],
      "text/plain": [
       "     SL No               Agent       Date Login Time Logout Time   Duration  \\\n",
       "0        1  Shivananda Sonwane  30-Jul-22   15:35:29    17:39:39   02:04:10   \n",
       "1        2      Khushboo Priya  30-Jul-22   15:06:59    15:07:16   00:00:17   \n",
       "2        3       Nandani Gupta  30-Jul-22   15:04:24    17:31:07   02:26:42   \n",
       "3        4     Hrisikesh Neogi  30-Jul-22   14:34:29    15:19:35   00:45:06   \n",
       "4        5              Mukesh  30-Jul-22   14:03:15    15:11:52   01:08:36   \n",
       "..     ...                 ...        ...        ...         ...        ...   \n",
       "995    996        Manjunatha A  20-Jul-22   09:03:51    15:02:28   05:58:37   \n",
       "996    997             Bharath  20-Jul-22   09:00:49    15:01:32   06:00:43   \n",
       "997    998      Khushboo Priya  20-Jul-22   08:59:20    14:26:55   05:27:34   \n",
       "998    999        Nishtha Jain  20-Jul-22   08:43:55    14:00:33   05:16:38   \n",
       "999   1000               Tarun  01-Jul-22   01:52:47    12:01:07  514:08:20   \n",
       "\n",
       "    converted_Date  converted_day  converted_year  converted_month  \n",
       "0       2022-07-30             30            2022                7  \n",
       "1       2022-07-30             30            2022                7  \n",
       "2       2022-07-30             30            2022                7  \n",
       "3       2022-07-30             30            2022                7  \n",
       "4       2022-07-30             30            2022                7  \n",
       "..             ...            ...             ...              ...  \n",
       "995     2022-07-20             20            2022                7  \n",
       "996     2022-07-20             20            2022                7  \n",
       "997     2022-07-20             20            2022                7  \n",
       "998     2022-07-20             20            2022                7  \n",
       "999     2022-07-01              1            2022                7  \n",
       "\n",
       "[1000 rows x 10 columns]"
      ]
     },
     "execution_count": 63,
     "metadata": {},
     "output_type": "execute_result"
    }
   ],
   "source": [
    "df.drop('Category1',axis=1)"
   ]
  },
  {
   "cell_type": "code",
   "execution_count": 64,
   "id": "e81b45ae",
   "metadata": {},
   "outputs": [
    {
     "data": {
      "text/plain": [
       "Index(['SL No', 'Agent', 'Date', 'Login Time', 'Logout Time', 'Duration',\n",
       "       'Category1', 'converted_Date', 'converted_day', 'converted_year',\n",
       "       'converted_month'],\n",
       "      dtype='object')"
      ]
     },
     "execution_count": 64,
     "metadata": {},
     "output_type": "execute_result"
    }
   ],
   "source": [
    "df.columns"
   ]
  },
  {
   "cell_type": "code",
   "execution_count": 65,
   "id": "0173b6fc",
   "metadata": {},
   "outputs": [],
   "source": [
    "df = df.drop('Category1',axis=1)"
   ]
  },
  {
   "cell_type": "code",
   "execution_count": 66,
   "id": "772cd47c",
   "metadata": {},
   "outputs": [
    {
     "data": {
      "text/plain": [
       "Index(['SL No', 'Agent', 'Date', 'Login Time', 'Logout Time', 'Duration',\n",
       "       'converted_Date', 'converted_day', 'converted_year', 'converted_month'],\n",
       "      dtype='object')"
      ]
     },
     "execution_count": 66,
     "metadata": {},
     "output_type": "execute_result"
    }
   ],
   "source": [
    "df.columns"
   ]
  },
  {
   "cell_type": "code",
   "execution_count": 68,
   "id": "7534e0a4",
   "metadata": {},
   "outputs": [
    {
     "data": {
      "text/html": [
       "<div>\n",
       "<style scoped>\n",
       "    .dataframe tbody tr th:only-of-type {\n",
       "        vertical-align: middle;\n",
       "    }\n",
       "\n",
       "    .dataframe tbody tr th {\n",
       "        vertical-align: top;\n",
       "    }\n",
       "\n",
       "    .dataframe thead th {\n",
       "        text-align: right;\n",
       "    }\n",
       "</style>\n",
       "<table border=\"1\" class=\"dataframe\">\n",
       "  <thead>\n",
       "    <tr style=\"text-align: right;\">\n",
       "      <th></th>\n",
       "      <th>SL No</th>\n",
       "      <th>Agent</th>\n",
       "      <th>Date</th>\n",
       "      <th>Login Time</th>\n",
       "      <th>Logout Time</th>\n",
       "      <th>Duration</th>\n",
       "      <th>converted_Date</th>\n",
       "      <th>converted_day</th>\n",
       "      <th>converted_year</th>\n",
       "      <th>converted_month</th>\n",
       "    </tr>\n",
       "  </thead>\n",
       "  <tbody>\n",
       "    <tr>\n",
       "      <th>1</th>\n",
       "      <td>2</td>\n",
       "      <td>Khushboo Priya</td>\n",
       "      <td>30-Jul-22</td>\n",
       "      <td>15:06:59</td>\n",
       "      <td>15:07:16</td>\n",
       "      <td>00:00:17</td>\n",
       "      <td>2022-07-30</td>\n",
       "      <td>30</td>\n",
       "      <td>2022</td>\n",
       "      <td>7</td>\n",
       "    </tr>\n",
       "    <tr>\n",
       "      <th>2</th>\n",
       "      <td>3</td>\n",
       "      <td>Nandani Gupta</td>\n",
       "      <td>30-Jul-22</td>\n",
       "      <td>15:04:24</td>\n",
       "      <td>17:31:07</td>\n",
       "      <td>02:26:42</td>\n",
       "      <td>2022-07-30</td>\n",
       "      <td>30</td>\n",
       "      <td>2022</td>\n",
       "      <td>7</td>\n",
       "    </tr>\n",
       "  </tbody>\n",
       "</table>\n",
       "</div>"
      ],
      "text/plain": [
       "   SL No           Agent       Date Login Time Logout Time  Duration  \\\n",
       "1      2  Khushboo Priya  30-Jul-22   15:06:59    15:07:16  00:00:17   \n",
       "2      3   Nandani Gupta  30-Jul-22   15:04:24    17:31:07  02:26:42   \n",
       "\n",
       "  converted_Date  converted_day  converted_year  converted_month  \n",
       "1     2022-07-30             30            2022                7  \n",
       "2     2022-07-30             30            2022                7  "
      ]
     },
     "execution_count": 68,
     "metadata": {},
     "output_type": "execute_result"
    }
   ],
   "source": [
    "df[1:3]"
   ]
  },
  {
   "cell_type": "code",
   "execution_count": 80,
   "id": "4664824f",
   "metadata": {},
   "outputs": [],
   "source": [
    "df = df.drop(1)"
   ]
  },
  {
   "cell_type": "code",
   "execution_count": 81,
   "id": "4261aa86",
   "metadata": {},
   "outputs": [
    {
     "ename": "KeyError",
     "evalue": "'[1] not in index'",
     "output_type": "error",
     "traceback": [
      "\u001b[1;31m---------------------------------------------------------------------------\u001b[0m",
      "\u001b[1;31mKeyError\u001b[0m                                  Traceback (most recent call last)",
      "Input \u001b[1;32mIn [81]\u001b[0m, in \u001b[0;36m<cell line: 1>\u001b[1;34m()\u001b[0m\n\u001b[1;32m----> 1\u001b[0m \u001b[43mdf\u001b[49m\u001b[38;5;241;43m.\u001b[39;49m\u001b[43mloc\u001b[49m\u001b[43m[\u001b[49m\u001b[43m[\u001b[49m\u001b[38;5;241;43m1\u001b[39;49m\u001b[43m,\u001b[49m\u001b[38;5;241;43m2\u001b[39;49m\u001b[43m]\u001b[49m\u001b[43m]\u001b[49m\n",
      "File \u001b[1;32mC:\\ProgramData\\Anaconda3\\lib\\site-packages\\pandas\\core\\indexing.py:967\u001b[0m, in \u001b[0;36m_LocationIndexer.__getitem__\u001b[1;34m(self, key)\u001b[0m\n\u001b[0;32m    964\u001b[0m axis \u001b[38;5;241m=\u001b[39m \u001b[38;5;28mself\u001b[39m\u001b[38;5;241m.\u001b[39maxis \u001b[38;5;129;01mor\u001b[39;00m \u001b[38;5;241m0\u001b[39m\n\u001b[0;32m    966\u001b[0m maybe_callable \u001b[38;5;241m=\u001b[39m com\u001b[38;5;241m.\u001b[39mapply_if_callable(key, \u001b[38;5;28mself\u001b[39m\u001b[38;5;241m.\u001b[39mobj)\n\u001b[1;32m--> 967\u001b[0m \u001b[38;5;28;01mreturn\u001b[39;00m \u001b[38;5;28;43mself\u001b[39;49m\u001b[38;5;241;43m.\u001b[39;49m\u001b[43m_getitem_axis\u001b[49m\u001b[43m(\u001b[49m\u001b[43mmaybe_callable\u001b[49m\u001b[43m,\u001b[49m\u001b[43m \u001b[49m\u001b[43maxis\u001b[49m\u001b[38;5;241;43m=\u001b[39;49m\u001b[43maxis\u001b[49m\u001b[43m)\u001b[49m\n",
      "File \u001b[1;32mC:\\ProgramData\\Anaconda3\\lib\\site-packages\\pandas\\core\\indexing.py:1191\u001b[0m, in \u001b[0;36m_LocIndexer._getitem_axis\u001b[1;34m(self, key, axis)\u001b[0m\n\u001b[0;32m   1188\u001b[0m     \u001b[38;5;28;01mif\u001b[39;00m \u001b[38;5;28mhasattr\u001b[39m(key, \u001b[38;5;124m\"\u001b[39m\u001b[38;5;124mndim\u001b[39m\u001b[38;5;124m\"\u001b[39m) \u001b[38;5;129;01mand\u001b[39;00m key\u001b[38;5;241m.\u001b[39mndim \u001b[38;5;241m>\u001b[39m \u001b[38;5;241m1\u001b[39m:\n\u001b[0;32m   1189\u001b[0m         \u001b[38;5;28;01mraise\u001b[39;00m \u001b[38;5;167;01mValueError\u001b[39;00m(\u001b[38;5;124m\"\u001b[39m\u001b[38;5;124mCannot index with multidimensional key\u001b[39m\u001b[38;5;124m\"\u001b[39m)\n\u001b[1;32m-> 1191\u001b[0m     \u001b[38;5;28;01mreturn\u001b[39;00m \u001b[38;5;28;43mself\u001b[39;49m\u001b[38;5;241;43m.\u001b[39;49m\u001b[43m_getitem_iterable\u001b[49m\u001b[43m(\u001b[49m\u001b[43mkey\u001b[49m\u001b[43m,\u001b[49m\u001b[43m \u001b[49m\u001b[43maxis\u001b[49m\u001b[38;5;241;43m=\u001b[39;49m\u001b[43maxis\u001b[49m\u001b[43m)\u001b[49m\n\u001b[0;32m   1193\u001b[0m \u001b[38;5;66;03m# nested tuple slicing\u001b[39;00m\n\u001b[0;32m   1194\u001b[0m \u001b[38;5;28;01mif\u001b[39;00m is_nested_tuple(key, labels):\n",
      "File \u001b[1;32mC:\\ProgramData\\Anaconda3\\lib\\site-packages\\pandas\\core\\indexing.py:1132\u001b[0m, in \u001b[0;36m_LocIndexer._getitem_iterable\u001b[1;34m(self, key, axis)\u001b[0m\n\u001b[0;32m   1129\u001b[0m \u001b[38;5;28mself\u001b[39m\u001b[38;5;241m.\u001b[39m_validate_key(key, axis)\n\u001b[0;32m   1131\u001b[0m \u001b[38;5;66;03m# A collection of keys\u001b[39;00m\n\u001b[1;32m-> 1132\u001b[0m keyarr, indexer \u001b[38;5;241m=\u001b[39m \u001b[38;5;28;43mself\u001b[39;49m\u001b[38;5;241;43m.\u001b[39;49m\u001b[43m_get_listlike_indexer\u001b[49m\u001b[43m(\u001b[49m\u001b[43mkey\u001b[49m\u001b[43m,\u001b[49m\u001b[43m \u001b[49m\u001b[43maxis\u001b[49m\u001b[43m)\u001b[49m\n\u001b[0;32m   1133\u001b[0m \u001b[38;5;28;01mreturn\u001b[39;00m \u001b[38;5;28mself\u001b[39m\u001b[38;5;241m.\u001b[39mobj\u001b[38;5;241m.\u001b[39m_reindex_with_indexers(\n\u001b[0;32m   1134\u001b[0m     {axis: [keyarr, indexer]}, copy\u001b[38;5;241m=\u001b[39m\u001b[38;5;28;01mTrue\u001b[39;00m, allow_dups\u001b[38;5;241m=\u001b[39m\u001b[38;5;28;01mTrue\u001b[39;00m\n\u001b[0;32m   1135\u001b[0m )\n",
      "File \u001b[1;32mC:\\ProgramData\\Anaconda3\\lib\\site-packages\\pandas\\core\\indexing.py:1327\u001b[0m, in \u001b[0;36m_LocIndexer._get_listlike_indexer\u001b[1;34m(self, key, axis)\u001b[0m\n\u001b[0;32m   1324\u001b[0m ax \u001b[38;5;241m=\u001b[39m \u001b[38;5;28mself\u001b[39m\u001b[38;5;241m.\u001b[39mobj\u001b[38;5;241m.\u001b[39m_get_axis(axis)\n\u001b[0;32m   1325\u001b[0m axis_name \u001b[38;5;241m=\u001b[39m \u001b[38;5;28mself\u001b[39m\u001b[38;5;241m.\u001b[39mobj\u001b[38;5;241m.\u001b[39m_get_axis_name(axis)\n\u001b[1;32m-> 1327\u001b[0m keyarr, indexer \u001b[38;5;241m=\u001b[39m \u001b[43max\u001b[49m\u001b[38;5;241;43m.\u001b[39;49m\u001b[43m_get_indexer_strict\u001b[49m\u001b[43m(\u001b[49m\u001b[43mkey\u001b[49m\u001b[43m,\u001b[49m\u001b[43m \u001b[49m\u001b[43maxis_name\u001b[49m\u001b[43m)\u001b[49m\n\u001b[0;32m   1329\u001b[0m \u001b[38;5;28;01mreturn\u001b[39;00m keyarr, indexer\n",
      "File \u001b[1;32mC:\\ProgramData\\Anaconda3\\lib\\site-packages\\pandas\\core\\indexes\\base.py:5782\u001b[0m, in \u001b[0;36mIndex._get_indexer_strict\u001b[1;34m(self, key, axis_name)\u001b[0m\n\u001b[0;32m   5779\u001b[0m \u001b[38;5;28;01melse\u001b[39;00m:\n\u001b[0;32m   5780\u001b[0m     keyarr, indexer, new_indexer \u001b[38;5;241m=\u001b[39m \u001b[38;5;28mself\u001b[39m\u001b[38;5;241m.\u001b[39m_reindex_non_unique(keyarr)\n\u001b[1;32m-> 5782\u001b[0m \u001b[38;5;28;43mself\u001b[39;49m\u001b[38;5;241;43m.\u001b[39;49m\u001b[43m_raise_if_missing\u001b[49m\u001b[43m(\u001b[49m\u001b[43mkeyarr\u001b[49m\u001b[43m,\u001b[49m\u001b[43m \u001b[49m\u001b[43mindexer\u001b[49m\u001b[43m,\u001b[49m\u001b[43m \u001b[49m\u001b[43maxis_name\u001b[49m\u001b[43m)\u001b[49m\n\u001b[0;32m   5784\u001b[0m keyarr \u001b[38;5;241m=\u001b[39m \u001b[38;5;28mself\u001b[39m\u001b[38;5;241m.\u001b[39mtake(indexer)\n\u001b[0;32m   5785\u001b[0m \u001b[38;5;28;01mif\u001b[39;00m \u001b[38;5;28misinstance\u001b[39m(key, Index):\n\u001b[0;32m   5786\u001b[0m     \u001b[38;5;66;03m# GH 42790 - Preserve name from an Index\u001b[39;00m\n",
      "File \u001b[1;32mC:\\ProgramData\\Anaconda3\\lib\\site-packages\\pandas\\core\\indexes\\base.py:5845\u001b[0m, in \u001b[0;36mIndex._raise_if_missing\u001b[1;34m(self, key, indexer, axis_name)\u001b[0m\n\u001b[0;32m   5842\u001b[0m     \u001b[38;5;28;01mraise\u001b[39;00m \u001b[38;5;167;01mKeyError\u001b[39;00m(\u001b[38;5;124mf\u001b[39m\u001b[38;5;124m\"\u001b[39m\u001b[38;5;124mNone of [\u001b[39m\u001b[38;5;132;01m{\u001b[39;00mkey\u001b[38;5;132;01m}\u001b[39;00m\u001b[38;5;124m] are in the [\u001b[39m\u001b[38;5;132;01m{\u001b[39;00maxis_name\u001b[38;5;132;01m}\u001b[39;00m\u001b[38;5;124m]\u001b[39m\u001b[38;5;124m\"\u001b[39m)\n\u001b[0;32m   5844\u001b[0m not_found \u001b[38;5;241m=\u001b[39m \u001b[38;5;28mlist\u001b[39m(ensure_index(key)[missing_mask\u001b[38;5;241m.\u001b[39mnonzero()[\u001b[38;5;241m0\u001b[39m]]\u001b[38;5;241m.\u001b[39munique())\n\u001b[1;32m-> 5845\u001b[0m \u001b[38;5;28;01mraise\u001b[39;00m \u001b[38;5;167;01mKeyError\u001b[39;00m(\u001b[38;5;124mf\u001b[39m\u001b[38;5;124m\"\u001b[39m\u001b[38;5;132;01m{\u001b[39;00mnot_found\u001b[38;5;132;01m}\u001b[39;00m\u001b[38;5;124m not in index\u001b[39m\u001b[38;5;124m\"\u001b[39m)\n",
      "\u001b[1;31mKeyError\u001b[0m: '[1] not in index'"
     ]
    }
   ],
   "source": [
    "df.loc[[1,2]]"
   ]
  },
  {
   "cell_type": "code",
   "execution_count": 83,
   "id": "cb36a49b",
   "metadata": {},
   "outputs": [
    {
     "data": {
      "text/html": [
       "<div>\n",
       "<style scoped>\n",
       "    .dataframe tbody tr th:only-of-type {\n",
       "        vertical-align: middle;\n",
       "    }\n",
       "\n",
       "    .dataframe tbody tr th {\n",
       "        vertical-align: top;\n",
       "    }\n",
       "\n",
       "    .dataframe thead th {\n",
       "        text-align: right;\n",
       "    }\n",
       "</style>\n",
       "<table border=\"1\" class=\"dataframe\">\n",
       "  <thead>\n",
       "    <tr style=\"text-align: right;\">\n",
       "      <th></th>\n",
       "      <th>SL No</th>\n",
       "      <th>Agent</th>\n",
       "      <th>Date</th>\n",
       "      <th>Login Time</th>\n",
       "      <th>Logout Time</th>\n",
       "      <th>Duration</th>\n",
       "      <th>converted_Date</th>\n",
       "      <th>converted_day</th>\n",
       "      <th>converted_year</th>\n",
       "      <th>converted_month</th>\n",
       "    </tr>\n",
       "  </thead>\n",
       "  <tbody>\n",
       "    <tr>\n",
       "      <th>0</th>\n",
       "      <td>1</td>\n",
       "      <td>Shivananda Sonwane</td>\n",
       "      <td>30-Jul-22</td>\n",
       "      <td>15:35:29</td>\n",
       "      <td>17:39:39</td>\n",
       "      <td>02:04:10</td>\n",
       "      <td>2022-07-30</td>\n",
       "      <td>30</td>\n",
       "      <td>2022</td>\n",
       "      <td>7</td>\n",
       "    </tr>\n",
       "    <tr>\n",
       "      <th>2</th>\n",
       "      <td>3</td>\n",
       "      <td>Nandani Gupta</td>\n",
       "      <td>30-Jul-22</td>\n",
       "      <td>15:04:24</td>\n",
       "      <td>17:31:07</td>\n",
       "      <td>02:26:42</td>\n",
       "      <td>2022-07-30</td>\n",
       "      <td>30</td>\n",
       "      <td>2022</td>\n",
       "      <td>7</td>\n",
       "    </tr>\n",
       "    <tr>\n",
       "      <th>3</th>\n",
       "      <td>4</td>\n",
       "      <td>Hrisikesh Neogi</td>\n",
       "      <td>30-Jul-22</td>\n",
       "      <td>14:34:29</td>\n",
       "      <td>15:19:35</td>\n",
       "      <td>00:45:06</td>\n",
       "      <td>2022-07-30</td>\n",
       "      <td>30</td>\n",
       "      <td>2022</td>\n",
       "      <td>7</td>\n",
       "    </tr>\n",
       "  </tbody>\n",
       "</table>\n",
       "</div>"
      ],
      "text/plain": [
       "   SL No               Agent       Date Login Time Logout Time  Duration  \\\n",
       "0      1  Shivananda Sonwane  30-Jul-22   15:35:29    17:39:39  02:04:10   \n",
       "2      3       Nandani Gupta  30-Jul-22   15:04:24    17:31:07  02:26:42   \n",
       "3      4     Hrisikesh Neogi  30-Jul-22   14:34:29    15:19:35  00:45:06   \n",
       "\n",
       "  converted_Date  converted_day  converted_year  converted_month  \n",
       "0     2022-07-30             30            2022                7  \n",
       "2     2022-07-30             30            2022                7  \n",
       "3     2022-07-30             30            2022                7  "
      ]
     },
     "execution_count": 83,
     "metadata": {},
     "output_type": "execute_result"
    }
   ],
   "source": [
    "df[0:3]"
   ]
  },
  {
   "cell_type": "code",
   "execution_count": 84,
   "id": "a300527a",
   "metadata": {},
   "outputs": [
    {
     "data": {
      "text/html": [
       "<div>\n",
       "<style scoped>\n",
       "    .dataframe tbody tr th:only-of-type {\n",
       "        vertical-align: middle;\n",
       "    }\n",
       "\n",
       "    .dataframe tbody tr th {\n",
       "        vertical-align: top;\n",
       "    }\n",
       "\n",
       "    .dataframe thead th {\n",
       "        text-align: right;\n",
       "    }\n",
       "</style>\n",
       "<table border=\"1\" class=\"dataframe\">\n",
       "  <thead>\n",
       "    <tr style=\"text-align: right;\">\n",
       "      <th></th>\n",
       "      <th>SL No</th>\n",
       "      <th>Agent</th>\n",
       "      <th>Date</th>\n",
       "      <th>Login Time</th>\n",
       "      <th>Logout Time</th>\n",
       "      <th>Duration</th>\n",
       "      <th>converted_Date</th>\n",
       "      <th>converted_day</th>\n",
       "      <th>converted_year</th>\n",
       "      <th>converted_month</th>\n",
       "    </tr>\n",
       "  </thead>\n",
       "  <tbody>\n",
       "    <tr>\n",
       "      <th>2</th>\n",
       "      <td>3</td>\n",
       "      <td>Nandani Gupta</td>\n",
       "      <td>30-Jul-22</td>\n",
       "      <td>15:04:24</td>\n",
       "      <td>17:31:07</td>\n",
       "      <td>02:26:42</td>\n",
       "      <td>2022-07-30</td>\n",
       "      <td>30</td>\n",
       "      <td>2022</td>\n",
       "      <td>7</td>\n",
       "    </tr>\n",
       "    <tr>\n",
       "      <th>3</th>\n",
       "      <td>4</td>\n",
       "      <td>Hrisikesh Neogi</td>\n",
       "      <td>30-Jul-22</td>\n",
       "      <td>14:34:29</td>\n",
       "      <td>15:19:35</td>\n",
       "      <td>00:45:06</td>\n",
       "      <td>2022-07-30</td>\n",
       "      <td>30</td>\n",
       "      <td>2022</td>\n",
       "      <td>7</td>\n",
       "    </tr>\n",
       "    <tr>\n",
       "      <th>4</th>\n",
       "      <td>5</td>\n",
       "      <td>Mukesh</td>\n",
       "      <td>30-Jul-22</td>\n",
       "      <td>14:03:15</td>\n",
       "      <td>15:11:52</td>\n",
       "      <td>01:08:36</td>\n",
       "      <td>2022-07-30</td>\n",
       "      <td>30</td>\n",
       "      <td>2022</td>\n",
       "      <td>7</td>\n",
       "    </tr>\n",
       "    <tr>\n",
       "      <th>5</th>\n",
       "      <td>6</td>\n",
       "      <td>Sowmiya Sivakumar</td>\n",
       "      <td>30-Jul-22</td>\n",
       "      <td>14:03:11</td>\n",
       "      <td>15:05:37</td>\n",
       "      <td>01:02:26</td>\n",
       "      <td>2022-07-30</td>\n",
       "      <td>30</td>\n",
       "      <td>2022</td>\n",
       "      <td>7</td>\n",
       "    </tr>\n",
       "    <tr>\n",
       "      <th>6</th>\n",
       "      <td>7</td>\n",
       "      <td>Manjunatha A</td>\n",
       "      <td>30-Jul-22</td>\n",
       "      <td>14:00:12</td>\n",
       "      <td>15:08:29</td>\n",
       "      <td>01:08:16</td>\n",
       "      <td>2022-07-30</td>\n",
       "      <td>30</td>\n",
       "      <td>2022</td>\n",
       "      <td>7</td>\n",
       "    </tr>\n",
       "    <tr>\n",
       "      <th>7</th>\n",
       "      <td>8</td>\n",
       "      <td>Harikrishnan Shaji</td>\n",
       "      <td>30-Jul-22</td>\n",
       "      <td>13:53:05</td>\n",
       "      <td>16:06:49</td>\n",
       "      <td>02:13:43</td>\n",
       "      <td>2022-07-30</td>\n",
       "      <td>30</td>\n",
       "      <td>2022</td>\n",
       "      <td>7</td>\n",
       "    </tr>\n",
       "    <tr>\n",
       "      <th>8</th>\n",
       "      <td>9</td>\n",
       "      <td>Suraj S Bilgi</td>\n",
       "      <td>30-Jul-22</td>\n",
       "      <td>13:50:01</td>\n",
       "      <td>15:11:42</td>\n",
       "      <td>01:21:41</td>\n",
       "      <td>2022-07-30</td>\n",
       "      <td>30</td>\n",
       "      <td>2022</td>\n",
       "      <td>7</td>\n",
       "    </tr>\n",
       "    <tr>\n",
       "      <th>9</th>\n",
       "      <td>10</td>\n",
       "      <td>Shivan K</td>\n",
       "      <td>30-Jul-22</td>\n",
       "      <td>13:28:18</td>\n",
       "      <td>13:59:00</td>\n",
       "      <td>00:30:42</td>\n",
       "      <td>2022-07-30</td>\n",
       "      <td>30</td>\n",
       "      <td>2022</td>\n",
       "      <td>7</td>\n",
       "    </tr>\n",
       "  </tbody>\n",
       "</table>\n",
       "</div>"
      ],
      "text/plain": [
       "   SL No               Agent       Date Login Time Logout Time  Duration  \\\n",
       "2      3       Nandani Gupta  30-Jul-22   15:04:24    17:31:07  02:26:42   \n",
       "3      4     Hrisikesh Neogi  30-Jul-22   14:34:29    15:19:35  00:45:06   \n",
       "4      5              Mukesh  30-Jul-22   14:03:15    15:11:52  01:08:36   \n",
       "5      6   Sowmiya Sivakumar  30-Jul-22   14:03:11    15:05:37  01:02:26   \n",
       "6      7        Manjunatha A  30-Jul-22   14:00:12    15:08:29  01:08:16   \n",
       "7      8  Harikrishnan Shaji  30-Jul-22   13:53:05    16:06:49  02:13:43   \n",
       "8      9       Suraj S Bilgi  30-Jul-22   13:50:01    15:11:42  01:21:41   \n",
       "9     10            Shivan K  30-Jul-22   13:28:18    13:59:00  00:30:42   \n",
       "\n",
       "  converted_Date  converted_day  converted_year  converted_month  \n",
       "2     2022-07-30             30            2022                7  \n",
       "3     2022-07-30             30            2022                7  \n",
       "4     2022-07-30             30            2022                7  \n",
       "5     2022-07-30             30            2022                7  \n",
       "6     2022-07-30             30            2022                7  \n",
       "7     2022-07-30             30            2022                7  \n",
       "8     2022-07-30             30            2022                7  \n",
       "9     2022-07-30             30            2022                7  "
      ]
     },
     "execution_count": 84,
     "metadata": {},
     "output_type": "execute_result"
    }
   ],
   "source": [
    "df.loc[1:9]"
   ]
  },
  {
   "cell_type": "code",
   "execution_count": 85,
   "id": "3fb3eac5",
   "metadata": {},
   "outputs": [
    {
     "data": {
      "text/html": [
       "<div>\n",
       "<style scoped>\n",
       "    .dataframe tbody tr th:only-of-type {\n",
       "        vertical-align: middle;\n",
       "    }\n",
       "\n",
       "    .dataframe tbody tr th {\n",
       "        vertical-align: top;\n",
       "    }\n",
       "\n",
       "    .dataframe thead th {\n",
       "        text-align: right;\n",
       "    }\n",
       "</style>\n",
       "<table border=\"1\" class=\"dataframe\">\n",
       "  <thead>\n",
       "    <tr style=\"text-align: right;\">\n",
       "      <th></th>\n",
       "      <th>SL No</th>\n",
       "      <th>Agent</th>\n",
       "      <th>Date</th>\n",
       "    </tr>\n",
       "  </thead>\n",
       "  <tbody>\n",
       "    <tr>\n",
       "      <th>0</th>\n",
       "      <td>1</td>\n",
       "      <td>Shivananda Sonwane</td>\n",
       "      <td>30-Jul-22</td>\n",
       "    </tr>\n",
       "    <tr>\n",
       "      <th>2</th>\n",
       "      <td>3</td>\n",
       "      <td>Nandani Gupta</td>\n",
       "      <td>30-Jul-22</td>\n",
       "    </tr>\n",
       "    <tr>\n",
       "      <th>3</th>\n",
       "      <td>4</td>\n",
       "      <td>Hrisikesh Neogi</td>\n",
       "      <td>30-Jul-22</td>\n",
       "    </tr>\n",
       "    <tr>\n",
       "      <th>4</th>\n",
       "      <td>5</td>\n",
       "      <td>Mukesh</td>\n",
       "      <td>30-Jul-22</td>\n",
       "    </tr>\n",
       "  </tbody>\n",
       "</table>\n",
       "</div>"
      ],
      "text/plain": [
       "   SL No               Agent       Date\n",
       "0      1  Shivananda Sonwane  30-Jul-22\n",
       "2      3       Nandani Gupta  30-Jul-22\n",
       "3      4     Hrisikesh Neogi  30-Jul-22\n",
       "4      5              Mukesh  30-Jul-22"
      ]
     },
     "execution_count": 85,
     "metadata": {},
     "output_type": "execute_result"
    }
   ],
   "source": [
    "df[0:4][['SL No','Agent','Date']]"
   ]
  },
  {
   "cell_type": "code",
   "execution_count": 86,
   "id": "740b334a",
   "metadata": {},
   "outputs": [
    {
     "data": {
      "text/html": [
       "<div>\n",
       "<style scoped>\n",
       "    .dataframe tbody tr th:only-of-type {\n",
       "        vertical-align: middle;\n",
       "    }\n",
       "\n",
       "    .dataframe tbody tr th {\n",
       "        vertical-align: top;\n",
       "    }\n",
       "\n",
       "    .dataframe thead th {\n",
       "        text-align: right;\n",
       "    }\n",
       "</style>\n",
       "<table border=\"1\" class=\"dataframe\">\n",
       "  <thead>\n",
       "    <tr style=\"text-align: right;\">\n",
       "      <th></th>\n",
       "      <th>SL No</th>\n",
       "      <th>Agent</th>\n",
       "      <th>Date</th>\n",
       "    </tr>\n",
       "  </thead>\n",
       "  <tbody>\n",
       "    <tr>\n",
       "      <th>0</th>\n",
       "      <td>1</td>\n",
       "      <td>Shivananda Sonwane</td>\n",
       "      <td>30-Jul-22</td>\n",
       "    </tr>\n",
       "    <tr>\n",
       "      <th>2</th>\n",
       "      <td>3</td>\n",
       "      <td>Nandani Gupta</td>\n",
       "      <td>30-Jul-22</td>\n",
       "    </tr>\n",
       "    <tr>\n",
       "      <th>3</th>\n",
       "      <td>4</td>\n",
       "      <td>Hrisikesh Neogi</td>\n",
       "      <td>30-Jul-22</td>\n",
       "    </tr>\n",
       "    <tr>\n",
       "      <th>4</th>\n",
       "      <td>5</td>\n",
       "      <td>Mukesh</td>\n",
       "      <td>30-Jul-22</td>\n",
       "    </tr>\n",
       "  </tbody>\n",
       "</table>\n",
       "</div>"
      ],
      "text/plain": [
       "   SL No               Agent       Date\n",
       "0      1  Shivananda Sonwane  30-Jul-22\n",
       "2      3       Nandani Gupta  30-Jul-22\n",
       "3      4     Hrisikesh Neogi  30-Jul-22\n",
       "4      5              Mukesh  30-Jul-22"
      ]
     },
     "execution_count": 86,
     "metadata": {},
     "output_type": "execute_result"
    }
   ],
   "source": [
    "df[['SL No','Agent','Date']][0:4]"
   ]
  },
  {
   "cell_type": "code",
   "execution_count": 87,
   "id": "c380ad9f",
   "metadata": {},
   "outputs": [
    {
     "data": {
      "text/html": [
       "<div>\n",
       "<style scoped>\n",
       "    .dataframe tbody tr th:only-of-type {\n",
       "        vertical-align: middle;\n",
       "    }\n",
       "\n",
       "    .dataframe tbody tr th {\n",
       "        vertical-align: top;\n",
       "    }\n",
       "\n",
       "    .dataframe thead th {\n",
       "        text-align: right;\n",
       "    }\n",
       "</style>\n",
       "<table border=\"1\" class=\"dataframe\">\n",
       "  <thead>\n",
       "    <tr style=\"text-align: right;\">\n",
       "      <th></th>\n",
       "      <th>SL No</th>\n",
       "      <th>Agent</th>\n",
       "      <th>Date</th>\n",
       "    </tr>\n",
       "  </thead>\n",
       "  <tbody>\n",
       "    <tr>\n",
       "      <th>0</th>\n",
       "      <td>1</td>\n",
       "      <td>Shivananda Sonwane</td>\n",
       "      <td>30-Jul-22</td>\n",
       "    </tr>\n",
       "    <tr>\n",
       "      <th>2</th>\n",
       "      <td>3</td>\n",
       "      <td>Nandani Gupta</td>\n",
       "      <td>30-Jul-22</td>\n",
       "    </tr>\n",
       "    <tr>\n",
       "      <th>3</th>\n",
       "      <td>4</td>\n",
       "      <td>Hrisikesh Neogi</td>\n",
       "      <td>30-Jul-22</td>\n",
       "    </tr>\n",
       "    <tr>\n",
       "      <th>4</th>\n",
       "      <td>5</td>\n",
       "      <td>Mukesh</td>\n",
       "      <td>30-Jul-22</td>\n",
       "    </tr>\n",
       "  </tbody>\n",
       "</table>\n",
       "</div>"
      ],
      "text/plain": [
       "   SL No               Agent       Date\n",
       "0      1  Shivananda Sonwane  30-Jul-22\n",
       "2      3       Nandani Gupta  30-Jul-22\n",
       "3      4     Hrisikesh Neogi  30-Jul-22\n",
       "4      5              Mukesh  30-Jul-22"
      ]
     },
     "execution_count": 87,
     "metadata": {},
     "output_type": "execute_result"
    }
   ],
   "source": [
    "df.loc[0:4,['SL No','Agent','Date']]"
   ]
  },
  {
   "cell_type": "code",
   "execution_count": 88,
   "id": "f6d63898",
   "metadata": {},
   "outputs": [
    {
     "data": {
      "text/html": [
       "<div>\n",
       "<style scoped>\n",
       "    .dataframe tbody tr th:only-of-type {\n",
       "        vertical-align: middle;\n",
       "    }\n",
       "\n",
       "    .dataframe tbody tr th {\n",
       "        vertical-align: top;\n",
       "    }\n",
       "\n",
       "    .dataframe thead th {\n",
       "        text-align: right;\n",
       "    }\n",
       "</style>\n",
       "<table border=\"1\" class=\"dataframe\">\n",
       "  <thead>\n",
       "    <tr style=\"text-align: right;\">\n",
       "      <th></th>\n",
       "      <th>SL No</th>\n",
       "      <th>Agent</th>\n",
       "      <th>Date</th>\n",
       "    </tr>\n",
       "  </thead>\n",
       "  <tbody>\n",
       "    <tr>\n",
       "      <th>0</th>\n",
       "      <td>1</td>\n",
       "      <td>Shivananda Sonwane</td>\n",
       "      <td>30-Jul-22</td>\n",
       "    </tr>\n",
       "    <tr>\n",
       "      <th>2</th>\n",
       "      <td>3</td>\n",
       "      <td>Nandani Gupta</td>\n",
       "      <td>30-Jul-22</td>\n",
       "    </tr>\n",
       "    <tr>\n",
       "      <th>3</th>\n",
       "      <td>4</td>\n",
       "      <td>Hrisikesh Neogi</td>\n",
       "      <td>30-Jul-22</td>\n",
       "    </tr>\n",
       "    <tr>\n",
       "      <th>4</th>\n",
       "      <td>5</td>\n",
       "      <td>Mukesh</td>\n",
       "      <td>30-Jul-22</td>\n",
       "    </tr>\n",
       "  </tbody>\n",
       "</table>\n",
       "</div>"
      ],
      "text/plain": [
       "   SL No               Agent       Date\n",
       "0      1  Shivananda Sonwane  30-Jul-22\n",
       "2      3       Nandani Gupta  30-Jul-22\n",
       "3      4     Hrisikesh Neogi  30-Jul-22\n",
       "4      5              Mukesh  30-Jul-22"
      ]
     },
     "execution_count": 88,
     "metadata": {},
     "output_type": "execute_result"
    }
   ],
   "source": [
    "df.iloc[0:4,0:3]"
   ]
  },
  {
   "cell_type": "code",
   "execution_count": 89,
   "id": "03c1cb6f",
   "metadata": {},
   "outputs": [
    {
     "data": {
      "text/html": [
       "<div>\n",
       "<style scoped>\n",
       "    .dataframe tbody tr th:only-of-type {\n",
       "        vertical-align: middle;\n",
       "    }\n",
       "\n",
       "    .dataframe tbody tr th {\n",
       "        vertical-align: top;\n",
       "    }\n",
       "\n",
       "    .dataframe thead th {\n",
       "        text-align: right;\n",
       "    }\n",
       "</style>\n",
       "<table border=\"1\" class=\"dataframe\">\n",
       "  <thead>\n",
       "    <tr style=\"text-align: right;\">\n",
       "      <th></th>\n",
       "      <th>SL No</th>\n",
       "      <th>Agent</th>\n",
       "      <th>Date</th>\n",
       "      <th>Login Time</th>\n",
       "      <th>Logout Time</th>\n",
       "      <th>Duration</th>\n",
       "      <th>converted_Date</th>\n",
       "      <th>converted_day</th>\n",
       "      <th>converted_year</th>\n",
       "      <th>converted_month</th>\n",
       "    </tr>\n",
       "  </thead>\n",
       "  <tbody>\n",
       "    <tr>\n",
       "      <th>0</th>\n",
       "      <td>1</td>\n",
       "      <td>Shivananda Sonwane</td>\n",
       "      <td>30-Jul-22</td>\n",
       "      <td>15:35:29</td>\n",
       "      <td>17:39:39</td>\n",
       "      <td>02:04:10</td>\n",
       "      <td>2022-07-30</td>\n",
       "      <td>30</td>\n",
       "      <td>2022</td>\n",
       "      <td>7</td>\n",
       "    </tr>\n",
       "    <tr>\n",
       "      <th>2</th>\n",
       "      <td>3</td>\n",
       "      <td>Nandani Gupta</td>\n",
       "      <td>30-Jul-22</td>\n",
       "      <td>15:04:24</td>\n",
       "      <td>17:31:07</td>\n",
       "      <td>02:26:42</td>\n",
       "      <td>2022-07-30</td>\n",
       "      <td>30</td>\n",
       "      <td>2022</td>\n",
       "      <td>7</td>\n",
       "    </tr>\n",
       "    <tr>\n",
       "      <th>3</th>\n",
       "      <td>4</td>\n",
       "      <td>Hrisikesh Neogi</td>\n",
       "      <td>30-Jul-22</td>\n",
       "      <td>14:34:29</td>\n",
       "      <td>15:19:35</td>\n",
       "      <td>00:45:06</td>\n",
       "      <td>2022-07-30</td>\n",
       "      <td>30</td>\n",
       "      <td>2022</td>\n",
       "      <td>7</td>\n",
       "    </tr>\n",
       "    <tr>\n",
       "      <th>4</th>\n",
       "      <td>5</td>\n",
       "      <td>Mukesh</td>\n",
       "      <td>30-Jul-22</td>\n",
       "      <td>14:03:15</td>\n",
       "      <td>15:11:52</td>\n",
       "      <td>01:08:36</td>\n",
       "      <td>2022-07-30</td>\n",
       "      <td>30</td>\n",
       "      <td>2022</td>\n",
       "      <td>7</td>\n",
       "    </tr>\n",
       "  </tbody>\n",
       "</table>\n",
       "</div>"
      ],
      "text/plain": [
       "   SL No               Agent       Date Login Time Logout Time  Duration  \\\n",
       "0      1  Shivananda Sonwane  30-Jul-22   15:35:29    17:39:39  02:04:10   \n",
       "2      3       Nandani Gupta  30-Jul-22   15:04:24    17:31:07  02:26:42   \n",
       "3      4     Hrisikesh Neogi  30-Jul-22   14:34:29    15:19:35  00:45:06   \n",
       "4      5              Mukesh  30-Jul-22   14:03:15    15:11:52  01:08:36   \n",
       "\n",
       "  converted_Date  converted_day  converted_year  converted_month  \n",
       "0     2022-07-30             30            2022                7  \n",
       "2     2022-07-30             30            2022                7  \n",
       "3     2022-07-30             30            2022                7  \n",
       "4     2022-07-30             30            2022                7  "
      ]
     },
     "execution_count": 89,
     "metadata": {},
     "output_type": "execute_result"
    }
   ],
   "source": [
    "df.iloc[0:4]"
   ]
  },
  {
   "cell_type": "code",
   "execution_count": 90,
   "id": "4f348efa",
   "metadata": {},
   "outputs": [
    {
     "data": {
      "text/html": [
       "<div>\n",
       "<style scoped>\n",
       "    .dataframe tbody tr th:only-of-type {\n",
       "        vertical-align: middle;\n",
       "    }\n",
       "\n",
       "    .dataframe tbody tr th {\n",
       "        vertical-align: top;\n",
       "    }\n",
       "\n",
       "    .dataframe thead th {\n",
       "        text-align: right;\n",
       "    }\n",
       "</style>\n",
       "<table border=\"1\" class=\"dataframe\">\n",
       "  <thead>\n",
       "    <tr style=\"text-align: right;\">\n",
       "      <th></th>\n",
       "      <th>SL No</th>\n",
       "      <th>Agent</th>\n",
       "      <th>Date</th>\n",
       "      <th>Login Time</th>\n",
       "      <th>Logout Time</th>\n",
       "      <th>Duration</th>\n",
       "      <th>converted_Date</th>\n",
       "      <th>converted_day</th>\n",
       "      <th>converted_year</th>\n",
       "      <th>converted_month</th>\n",
       "    </tr>\n",
       "  </thead>\n",
       "  <tbody>\n",
       "    <tr>\n",
       "      <th>2</th>\n",
       "      <td>3</td>\n",
       "      <td>Nandani Gupta</td>\n",
       "      <td>30-Jul-22</td>\n",
       "      <td>15:04:24</td>\n",
       "      <td>17:31:07</td>\n",
       "      <td>02:26:42</td>\n",
       "      <td>2022-07-30</td>\n",
       "      <td>30</td>\n",
       "      <td>2022</td>\n",
       "      <td>7</td>\n",
       "    </tr>\n",
       "    <tr>\n",
       "      <th>3</th>\n",
       "      <td>4</td>\n",
       "      <td>Hrisikesh Neogi</td>\n",
       "      <td>30-Jul-22</td>\n",
       "      <td>14:34:29</td>\n",
       "      <td>15:19:35</td>\n",
       "      <td>00:45:06</td>\n",
       "      <td>2022-07-30</td>\n",
       "      <td>30</td>\n",
       "      <td>2022</td>\n",
       "      <td>7</td>\n",
       "    </tr>\n",
       "  </tbody>\n",
       "</table>\n",
       "</div>"
      ],
      "text/plain": [
       "   SL No            Agent       Date Login Time Logout Time  Duration  \\\n",
       "2      3    Nandani Gupta  30-Jul-22   15:04:24    17:31:07  02:26:42   \n",
       "3      4  Hrisikesh Neogi  30-Jul-22   14:34:29    15:19:35  00:45:06   \n",
       "\n",
       "  converted_Date  converted_day  converted_year  converted_month  \n",
       "2     2022-07-30             30            2022                7  \n",
       "3     2022-07-30             30            2022                7  "
      ]
     },
     "execution_count": 90,
     "metadata": {},
     "output_type": "execute_result"
    }
   ],
   "source": [
    "df.iloc[[1,2]]"
   ]
  },
  {
   "cell_type": "code",
   "execution_count": 91,
   "id": "5340b7ed",
   "metadata": {},
   "outputs": [
    {
     "ename": "KeyError",
     "evalue": "'[1] not in index'",
     "output_type": "error",
     "traceback": [
      "\u001b[1;31m---------------------------------------------------------------------------\u001b[0m",
      "\u001b[1;31mKeyError\u001b[0m                                  Traceback (most recent call last)",
      "Input \u001b[1;32mIn [91]\u001b[0m, in \u001b[0;36m<cell line: 1>\u001b[1;34m()\u001b[0m\n\u001b[1;32m----> 1\u001b[0m \u001b[43mdf\u001b[49m\u001b[38;5;241;43m.\u001b[39;49m\u001b[43mloc\u001b[49m\u001b[43m[\u001b[49m\u001b[43m[\u001b[49m\u001b[38;5;241;43m1\u001b[39;49m\u001b[43m,\u001b[49m\u001b[38;5;241;43m2\u001b[39;49m\u001b[43m]\u001b[49m\u001b[43m]\u001b[49m\n",
      "File \u001b[1;32mC:\\ProgramData\\Anaconda3\\lib\\site-packages\\pandas\\core\\indexing.py:967\u001b[0m, in \u001b[0;36m_LocationIndexer.__getitem__\u001b[1;34m(self, key)\u001b[0m\n\u001b[0;32m    964\u001b[0m axis \u001b[38;5;241m=\u001b[39m \u001b[38;5;28mself\u001b[39m\u001b[38;5;241m.\u001b[39maxis \u001b[38;5;129;01mor\u001b[39;00m \u001b[38;5;241m0\u001b[39m\n\u001b[0;32m    966\u001b[0m maybe_callable \u001b[38;5;241m=\u001b[39m com\u001b[38;5;241m.\u001b[39mapply_if_callable(key, \u001b[38;5;28mself\u001b[39m\u001b[38;5;241m.\u001b[39mobj)\n\u001b[1;32m--> 967\u001b[0m \u001b[38;5;28;01mreturn\u001b[39;00m \u001b[38;5;28;43mself\u001b[39;49m\u001b[38;5;241;43m.\u001b[39;49m\u001b[43m_getitem_axis\u001b[49m\u001b[43m(\u001b[49m\u001b[43mmaybe_callable\u001b[49m\u001b[43m,\u001b[49m\u001b[43m \u001b[49m\u001b[43maxis\u001b[49m\u001b[38;5;241;43m=\u001b[39;49m\u001b[43maxis\u001b[49m\u001b[43m)\u001b[49m\n",
      "File \u001b[1;32mC:\\ProgramData\\Anaconda3\\lib\\site-packages\\pandas\\core\\indexing.py:1191\u001b[0m, in \u001b[0;36m_LocIndexer._getitem_axis\u001b[1;34m(self, key, axis)\u001b[0m\n\u001b[0;32m   1188\u001b[0m     \u001b[38;5;28;01mif\u001b[39;00m \u001b[38;5;28mhasattr\u001b[39m(key, \u001b[38;5;124m\"\u001b[39m\u001b[38;5;124mndim\u001b[39m\u001b[38;5;124m\"\u001b[39m) \u001b[38;5;129;01mand\u001b[39;00m key\u001b[38;5;241m.\u001b[39mndim \u001b[38;5;241m>\u001b[39m \u001b[38;5;241m1\u001b[39m:\n\u001b[0;32m   1189\u001b[0m         \u001b[38;5;28;01mraise\u001b[39;00m \u001b[38;5;167;01mValueError\u001b[39;00m(\u001b[38;5;124m\"\u001b[39m\u001b[38;5;124mCannot index with multidimensional key\u001b[39m\u001b[38;5;124m\"\u001b[39m)\n\u001b[1;32m-> 1191\u001b[0m     \u001b[38;5;28;01mreturn\u001b[39;00m \u001b[38;5;28;43mself\u001b[39;49m\u001b[38;5;241;43m.\u001b[39;49m\u001b[43m_getitem_iterable\u001b[49m\u001b[43m(\u001b[49m\u001b[43mkey\u001b[49m\u001b[43m,\u001b[49m\u001b[43m \u001b[49m\u001b[43maxis\u001b[49m\u001b[38;5;241;43m=\u001b[39;49m\u001b[43maxis\u001b[49m\u001b[43m)\u001b[49m\n\u001b[0;32m   1193\u001b[0m \u001b[38;5;66;03m# nested tuple slicing\u001b[39;00m\n\u001b[0;32m   1194\u001b[0m \u001b[38;5;28;01mif\u001b[39;00m is_nested_tuple(key, labels):\n",
      "File \u001b[1;32mC:\\ProgramData\\Anaconda3\\lib\\site-packages\\pandas\\core\\indexing.py:1132\u001b[0m, in \u001b[0;36m_LocIndexer._getitem_iterable\u001b[1;34m(self, key, axis)\u001b[0m\n\u001b[0;32m   1129\u001b[0m \u001b[38;5;28mself\u001b[39m\u001b[38;5;241m.\u001b[39m_validate_key(key, axis)\n\u001b[0;32m   1131\u001b[0m \u001b[38;5;66;03m# A collection of keys\u001b[39;00m\n\u001b[1;32m-> 1132\u001b[0m keyarr, indexer \u001b[38;5;241m=\u001b[39m \u001b[38;5;28;43mself\u001b[39;49m\u001b[38;5;241;43m.\u001b[39;49m\u001b[43m_get_listlike_indexer\u001b[49m\u001b[43m(\u001b[49m\u001b[43mkey\u001b[49m\u001b[43m,\u001b[49m\u001b[43m \u001b[49m\u001b[43maxis\u001b[49m\u001b[43m)\u001b[49m\n\u001b[0;32m   1133\u001b[0m \u001b[38;5;28;01mreturn\u001b[39;00m \u001b[38;5;28mself\u001b[39m\u001b[38;5;241m.\u001b[39mobj\u001b[38;5;241m.\u001b[39m_reindex_with_indexers(\n\u001b[0;32m   1134\u001b[0m     {axis: [keyarr, indexer]}, copy\u001b[38;5;241m=\u001b[39m\u001b[38;5;28;01mTrue\u001b[39;00m, allow_dups\u001b[38;5;241m=\u001b[39m\u001b[38;5;28;01mTrue\u001b[39;00m\n\u001b[0;32m   1135\u001b[0m )\n",
      "File \u001b[1;32mC:\\ProgramData\\Anaconda3\\lib\\site-packages\\pandas\\core\\indexing.py:1327\u001b[0m, in \u001b[0;36m_LocIndexer._get_listlike_indexer\u001b[1;34m(self, key, axis)\u001b[0m\n\u001b[0;32m   1324\u001b[0m ax \u001b[38;5;241m=\u001b[39m \u001b[38;5;28mself\u001b[39m\u001b[38;5;241m.\u001b[39mobj\u001b[38;5;241m.\u001b[39m_get_axis(axis)\n\u001b[0;32m   1325\u001b[0m axis_name \u001b[38;5;241m=\u001b[39m \u001b[38;5;28mself\u001b[39m\u001b[38;5;241m.\u001b[39mobj\u001b[38;5;241m.\u001b[39m_get_axis_name(axis)\n\u001b[1;32m-> 1327\u001b[0m keyarr, indexer \u001b[38;5;241m=\u001b[39m \u001b[43max\u001b[49m\u001b[38;5;241;43m.\u001b[39;49m\u001b[43m_get_indexer_strict\u001b[49m\u001b[43m(\u001b[49m\u001b[43mkey\u001b[49m\u001b[43m,\u001b[49m\u001b[43m \u001b[49m\u001b[43maxis_name\u001b[49m\u001b[43m)\u001b[49m\n\u001b[0;32m   1329\u001b[0m \u001b[38;5;28;01mreturn\u001b[39;00m keyarr, indexer\n",
      "File \u001b[1;32mC:\\ProgramData\\Anaconda3\\lib\\site-packages\\pandas\\core\\indexes\\base.py:5782\u001b[0m, in \u001b[0;36mIndex._get_indexer_strict\u001b[1;34m(self, key, axis_name)\u001b[0m\n\u001b[0;32m   5779\u001b[0m \u001b[38;5;28;01melse\u001b[39;00m:\n\u001b[0;32m   5780\u001b[0m     keyarr, indexer, new_indexer \u001b[38;5;241m=\u001b[39m \u001b[38;5;28mself\u001b[39m\u001b[38;5;241m.\u001b[39m_reindex_non_unique(keyarr)\n\u001b[1;32m-> 5782\u001b[0m \u001b[38;5;28;43mself\u001b[39;49m\u001b[38;5;241;43m.\u001b[39;49m\u001b[43m_raise_if_missing\u001b[49m\u001b[43m(\u001b[49m\u001b[43mkeyarr\u001b[49m\u001b[43m,\u001b[49m\u001b[43m \u001b[49m\u001b[43mindexer\u001b[49m\u001b[43m,\u001b[49m\u001b[43m \u001b[49m\u001b[43maxis_name\u001b[49m\u001b[43m)\u001b[49m\n\u001b[0;32m   5784\u001b[0m keyarr \u001b[38;5;241m=\u001b[39m \u001b[38;5;28mself\u001b[39m\u001b[38;5;241m.\u001b[39mtake(indexer)\n\u001b[0;32m   5785\u001b[0m \u001b[38;5;28;01mif\u001b[39;00m \u001b[38;5;28misinstance\u001b[39m(key, Index):\n\u001b[0;32m   5786\u001b[0m     \u001b[38;5;66;03m# GH 42790 - Preserve name from an Index\u001b[39;00m\n",
      "File \u001b[1;32mC:\\ProgramData\\Anaconda3\\lib\\site-packages\\pandas\\core\\indexes\\base.py:5845\u001b[0m, in \u001b[0;36mIndex._raise_if_missing\u001b[1;34m(self, key, indexer, axis_name)\u001b[0m\n\u001b[0;32m   5842\u001b[0m     \u001b[38;5;28;01mraise\u001b[39;00m \u001b[38;5;167;01mKeyError\u001b[39;00m(\u001b[38;5;124mf\u001b[39m\u001b[38;5;124m\"\u001b[39m\u001b[38;5;124mNone of [\u001b[39m\u001b[38;5;132;01m{\u001b[39;00mkey\u001b[38;5;132;01m}\u001b[39;00m\u001b[38;5;124m] are in the [\u001b[39m\u001b[38;5;132;01m{\u001b[39;00maxis_name\u001b[38;5;132;01m}\u001b[39;00m\u001b[38;5;124m]\u001b[39m\u001b[38;5;124m\"\u001b[39m)\n\u001b[0;32m   5844\u001b[0m not_found \u001b[38;5;241m=\u001b[39m \u001b[38;5;28mlist\u001b[39m(ensure_index(key)[missing_mask\u001b[38;5;241m.\u001b[39mnonzero()[\u001b[38;5;241m0\u001b[39m]]\u001b[38;5;241m.\u001b[39munique())\n\u001b[1;32m-> 5845\u001b[0m \u001b[38;5;28;01mraise\u001b[39;00m \u001b[38;5;167;01mKeyError\u001b[39;00m(\u001b[38;5;124mf\u001b[39m\u001b[38;5;124m\"\u001b[39m\u001b[38;5;132;01m{\u001b[39;00mnot_found\u001b[38;5;132;01m}\u001b[39;00m\u001b[38;5;124m not in index\u001b[39m\u001b[38;5;124m\"\u001b[39m)\n",
      "\u001b[1;31mKeyError\u001b[0m: '[1] not in index'"
     ]
    }
   ],
   "source": [
    "df.loc[[1,2]]"
   ]
  },
  {
   "cell_type": "code",
   "execution_count": 101,
   "id": "6627b16e",
   "metadata": {},
   "outputs": [
    {
     "data": {
      "text/html": [
       "<div>\n",
       "<style scoped>\n",
       "    .dataframe tbody tr th:only-of-type {\n",
       "        vertical-align: middle;\n",
       "    }\n",
       "\n",
       "    .dataframe tbody tr th {\n",
       "        vertical-align: top;\n",
       "    }\n",
       "\n",
       "    .dataframe thead th {\n",
       "        text-align: right;\n",
       "    }\n",
       "</style>\n",
       "<table border=\"1\" class=\"dataframe\">\n",
       "  <thead>\n",
       "    <tr style=\"text-align: right;\">\n",
       "      <th></th>\n",
       "      <th>SL No</th>\n",
       "      <th>converted_day</th>\n",
       "      <th>converted_year</th>\n",
       "      <th>converted_month</th>\n",
       "    </tr>\n",
       "  </thead>\n",
       "  <tbody>\n",
       "    <tr>\n",
       "      <th>0</th>\n",
       "      <td>1</td>\n",
       "      <td>30</td>\n",
       "      <td>2022</td>\n",
       "      <td>7</td>\n",
       "    </tr>\n",
       "    <tr>\n",
       "      <th>2</th>\n",
       "      <td>3</td>\n",
       "      <td>30</td>\n",
       "      <td>2022</td>\n",
       "      <td>7</td>\n",
       "    </tr>\n",
       "    <tr>\n",
       "      <th>3</th>\n",
       "      <td>4</td>\n",
       "      <td>30</td>\n",
       "      <td>2022</td>\n",
       "      <td>7</td>\n",
       "    </tr>\n",
       "  </tbody>\n",
       "</table>\n",
       "</div>"
      ],
      "text/plain": [
       "   SL No  converted_day  converted_year  converted_month\n",
       "0      1             30            2022                7\n",
       "2      3             30            2022                7\n",
       "3      4             30            2022                7"
      ]
     },
     "execution_count": 101,
     "metadata": {},
     "output_type": "execute_result"
    }
   ],
   "source": [
    "df.loc[0:3,df.dtypes[df.dtypes=='int64'].index]"
   ]
  },
  {
   "cell_type": "code",
   "execution_count": 96,
   "id": "654d7de5",
   "metadata": {},
   "outputs": [
    {
     "data": {
      "text/plain": [
       "pandas.core.series.Series"
      ]
     },
     "execution_count": 96,
     "metadata": {},
     "output_type": "execute_result"
    }
   ],
   "source": [
    "type(df.dtypes[df.dtypes=='int64'])"
   ]
  },
  {
   "cell_type": "code",
   "execution_count": 102,
   "id": "9f4368e9",
   "metadata": {},
   "outputs": [],
   "source": [
    "df2 = df[df.dtypes[df.dtypes=='int64'].index]"
   ]
  },
  {
   "cell_type": "code",
   "execution_count": 117,
   "id": "dc8235f4",
   "metadata": {},
   "outputs": [],
   "source": [
    "df3 = df2[df2<20]"
   ]
  },
  {
   "cell_type": "code",
   "execution_count": 109,
   "id": "7c5a56a8",
   "metadata": {},
   "outputs": [
    {
     "data": {
      "text/html": [
       "<div>\n",
       "<style scoped>\n",
       "    .dataframe tbody tr th:only-of-type {\n",
       "        vertical-align: middle;\n",
       "    }\n",
       "\n",
       "    .dataframe tbody tr th {\n",
       "        vertical-align: top;\n",
       "    }\n",
       "\n",
       "    .dataframe thead th {\n",
       "        text-align: right;\n",
       "    }\n",
       "</style>\n",
       "<table border=\"1\" class=\"dataframe\">\n",
       "  <thead>\n",
       "    <tr style=\"text-align: right;\">\n",
       "      <th></th>\n",
       "      <th>SL No</th>\n",
       "      <th>converted_day</th>\n",
       "      <th>converted_year</th>\n",
       "      <th>converted_month</th>\n",
       "    </tr>\n",
       "  </thead>\n",
       "  <tbody>\n",
       "    <tr>\n",
       "      <th>0</th>\n",
       "      <td>1.0</td>\n",
       "      <td>NaN</td>\n",
       "      <td>NaN</td>\n",
       "      <td>7</td>\n",
       "    </tr>\n",
       "    <tr>\n",
       "      <th>2</th>\n",
       "      <td>3.0</td>\n",
       "      <td>NaN</td>\n",
       "      <td>NaN</td>\n",
       "      <td>7</td>\n",
       "    </tr>\n",
       "    <tr>\n",
       "      <th>3</th>\n",
       "      <td>4.0</td>\n",
       "      <td>NaN</td>\n",
       "      <td>NaN</td>\n",
       "      <td>7</td>\n",
       "    </tr>\n",
       "    <tr>\n",
       "      <th>4</th>\n",
       "      <td>5.0</td>\n",
       "      <td>NaN</td>\n",
       "      <td>NaN</td>\n",
       "      <td>7</td>\n",
       "    </tr>\n",
       "    <tr>\n",
       "      <th>5</th>\n",
       "      <td>6.0</td>\n",
       "      <td>NaN</td>\n",
       "      <td>NaN</td>\n",
       "      <td>7</td>\n",
       "    </tr>\n",
       "    <tr>\n",
       "      <th>...</th>\n",
       "      <td>...</td>\n",
       "      <td>...</td>\n",
       "      <td>...</td>\n",
       "      <td>...</td>\n",
       "    </tr>\n",
       "    <tr>\n",
       "      <th>995</th>\n",
       "      <td>NaN</td>\n",
       "      <td>NaN</td>\n",
       "      <td>NaN</td>\n",
       "      <td>7</td>\n",
       "    </tr>\n",
       "    <tr>\n",
       "      <th>996</th>\n",
       "      <td>NaN</td>\n",
       "      <td>NaN</td>\n",
       "      <td>NaN</td>\n",
       "      <td>7</td>\n",
       "    </tr>\n",
       "    <tr>\n",
       "      <th>997</th>\n",
       "      <td>NaN</td>\n",
       "      <td>NaN</td>\n",
       "      <td>NaN</td>\n",
       "      <td>7</td>\n",
       "    </tr>\n",
       "    <tr>\n",
       "      <th>998</th>\n",
       "      <td>NaN</td>\n",
       "      <td>NaN</td>\n",
       "      <td>NaN</td>\n",
       "      <td>7</td>\n",
       "    </tr>\n",
       "    <tr>\n",
       "      <th>999</th>\n",
       "      <td>NaN</td>\n",
       "      <td>1.0</td>\n",
       "      <td>NaN</td>\n",
       "      <td>7</td>\n",
       "    </tr>\n",
       "  </tbody>\n",
       "</table>\n",
       "<p>999 rows × 4 columns</p>\n",
       "</div>"
      ],
      "text/plain": [
       "     SL No  converted_day  converted_year  converted_month\n",
       "0      1.0            NaN             NaN                7\n",
       "2      3.0            NaN             NaN                7\n",
       "3      4.0            NaN             NaN                7\n",
       "4      5.0            NaN             NaN                7\n",
       "5      6.0            NaN             NaN                7\n",
       "..     ...            ...             ...              ...\n",
       "995    NaN            NaN             NaN                7\n",
       "996    NaN            NaN             NaN                7\n",
       "997    NaN            NaN             NaN                7\n",
       "998    NaN            NaN             NaN                7\n",
       "999    NaN            1.0             NaN                7\n",
       "\n",
       "[999 rows x 4 columns]"
      ]
     },
     "execution_count": 109,
     "metadata": {},
     "output_type": "execute_result"
    }
   ],
   "source": [
    "df3"
   ]
  },
  {
   "cell_type": "code",
   "execution_count": 110,
   "id": "50fd2cbf",
   "metadata": {},
   "outputs": [
    {
     "data": {
      "text/html": [
       "<div>\n",
       "<style scoped>\n",
       "    .dataframe tbody tr th:only-of-type {\n",
       "        vertical-align: middle;\n",
       "    }\n",
       "\n",
       "    .dataframe tbody tr th {\n",
       "        vertical-align: top;\n",
       "    }\n",
       "\n",
       "    .dataframe thead th {\n",
       "        text-align: right;\n",
       "    }\n",
       "</style>\n",
       "<table border=\"1\" class=\"dataframe\">\n",
       "  <thead>\n",
       "    <tr style=\"text-align: right;\">\n",
       "      <th></th>\n",
       "      <th>SL No</th>\n",
       "      <th>converted_day</th>\n",
       "      <th>converted_year</th>\n",
       "      <th>converted_month</th>\n",
       "    </tr>\n",
       "  </thead>\n",
       "  <tbody>\n",
       "  </tbody>\n",
       "</table>\n",
       "</div>"
      ],
      "text/plain": [
       "Empty DataFrame\n",
       "Columns: [SL No, converted_day, converted_year, converted_month]\n",
       "Index: []"
      ]
     },
     "execution_count": 110,
     "metadata": {},
     "output_type": "execute_result"
    }
   ],
   "source": [
    "df3.dropna()"
   ]
  },
  {
   "cell_type": "code",
   "execution_count": 115,
   "id": "5ebef991",
   "metadata": {},
   "outputs": [
    {
     "data": {
      "text/html": [
       "<div>\n",
       "<style scoped>\n",
       "    .dataframe tbody tr th:only-of-type {\n",
       "        vertical-align: middle;\n",
       "    }\n",
       "\n",
       "    .dataframe tbody tr th {\n",
       "        vertical-align: top;\n",
       "    }\n",
       "\n",
       "    .dataframe thead th {\n",
       "        text-align: right;\n",
       "    }\n",
       "</style>\n",
       "<table border=\"1\" class=\"dataframe\">\n",
       "  <thead>\n",
       "    <tr style=\"text-align: right;\">\n",
       "      <th></th>\n",
       "      <th>SL No</th>\n",
       "      <th>converted_day</th>\n",
       "      <th>converted_year</th>\n",
       "      <th>converted_month</th>\n",
       "    </tr>\n",
       "  </thead>\n",
       "  <tbody>\n",
       "  </tbody>\n",
       "</table>\n",
       "</div>"
      ],
      "text/plain": [
       "Empty DataFrame\n",
       "Columns: [SL No, converted_day, converted_year, converted_month]\n",
       "Index: []"
      ]
     },
     "execution_count": 115,
     "metadata": {},
     "output_type": "execute_result"
    }
   ],
   "source": [
    "df3.dropna(thresh=4)"
   ]
  },
  {
   "cell_type": "code",
   "execution_count": 116,
   "id": "bc5ed276",
   "metadata": {},
   "outputs": [
    {
     "data": {
      "text/html": [
       "<div>\n",
       "<style scoped>\n",
       "    .dataframe tbody tr th:only-of-type {\n",
       "        vertical-align: middle;\n",
       "    }\n",
       "\n",
       "    .dataframe tbody tr th {\n",
       "        vertical-align: top;\n",
       "    }\n",
       "\n",
       "    .dataframe thead th {\n",
       "        text-align: right;\n",
       "    }\n",
       "</style>\n",
       "<table border=\"1\" class=\"dataframe\">\n",
       "  <thead>\n",
       "    <tr style=\"text-align: right;\">\n",
       "      <th></th>\n",
       "      <th>SL No</th>\n",
       "      <th>converted_day</th>\n",
       "      <th>converted_year</th>\n",
       "      <th>converted_month</th>\n",
       "    </tr>\n",
       "  </thead>\n",
       "  <tbody>\n",
       "    <tr>\n",
       "      <th>0</th>\n",
       "      <td>1.0</td>\n",
       "      <td>0.0</td>\n",
       "      <td>0.0</td>\n",
       "      <td>7</td>\n",
       "    </tr>\n",
       "    <tr>\n",
       "      <th>2</th>\n",
       "      <td>3.0</td>\n",
       "      <td>0.0</td>\n",
       "      <td>0.0</td>\n",
       "      <td>7</td>\n",
       "    </tr>\n",
       "    <tr>\n",
       "      <th>3</th>\n",
       "      <td>4.0</td>\n",
       "      <td>0.0</td>\n",
       "      <td>0.0</td>\n",
       "      <td>7</td>\n",
       "    </tr>\n",
       "    <tr>\n",
       "      <th>4</th>\n",
       "      <td>5.0</td>\n",
       "      <td>0.0</td>\n",
       "      <td>0.0</td>\n",
       "      <td>7</td>\n",
       "    </tr>\n",
       "    <tr>\n",
       "      <th>5</th>\n",
       "      <td>6.0</td>\n",
       "      <td>0.0</td>\n",
       "      <td>0.0</td>\n",
       "      <td>7</td>\n",
       "    </tr>\n",
       "    <tr>\n",
       "      <th>...</th>\n",
       "      <td>...</td>\n",
       "      <td>...</td>\n",
       "      <td>...</td>\n",
       "      <td>...</td>\n",
       "    </tr>\n",
       "    <tr>\n",
       "      <th>995</th>\n",
       "      <td>0.0</td>\n",
       "      <td>0.0</td>\n",
       "      <td>0.0</td>\n",
       "      <td>7</td>\n",
       "    </tr>\n",
       "    <tr>\n",
       "      <th>996</th>\n",
       "      <td>0.0</td>\n",
       "      <td>0.0</td>\n",
       "      <td>0.0</td>\n",
       "      <td>7</td>\n",
       "    </tr>\n",
       "    <tr>\n",
       "      <th>997</th>\n",
       "      <td>0.0</td>\n",
       "      <td>0.0</td>\n",
       "      <td>0.0</td>\n",
       "      <td>7</td>\n",
       "    </tr>\n",
       "    <tr>\n",
       "      <th>998</th>\n",
       "      <td>0.0</td>\n",
       "      <td>0.0</td>\n",
       "      <td>0.0</td>\n",
       "      <td>7</td>\n",
       "    </tr>\n",
       "    <tr>\n",
       "      <th>999</th>\n",
       "      <td>0.0</td>\n",
       "      <td>1.0</td>\n",
       "      <td>0.0</td>\n",
       "      <td>7</td>\n",
       "    </tr>\n",
       "  </tbody>\n",
       "</table>\n",
       "<p>999 rows × 4 columns</p>\n",
       "</div>"
      ],
      "text/plain": [
       "     SL No  converted_day  converted_year  converted_month\n",
       "0      1.0            0.0             0.0                7\n",
       "2      3.0            0.0             0.0                7\n",
       "3      4.0            0.0             0.0                7\n",
       "4      5.0            0.0             0.0                7\n",
       "5      6.0            0.0             0.0                7\n",
       "..     ...            ...             ...              ...\n",
       "995    0.0            0.0             0.0                7\n",
       "996    0.0            0.0             0.0                7\n",
       "997    0.0            0.0             0.0                7\n",
       "998    0.0            0.0             0.0                7\n",
       "999    0.0            1.0             0.0                7\n",
       "\n",
       "[999 rows x 4 columns]"
      ]
     },
     "execution_count": 116,
     "metadata": {},
     "output_type": "execute_result"
    }
   ],
   "source": [
    "df3.fillna(value=0)"
   ]
  },
  {
   "cell_type": "code",
   "execution_count": 118,
   "id": "2c297864",
   "metadata": {},
   "outputs": [
    {
     "data": {
      "text/html": [
       "<div>\n",
       "<style scoped>\n",
       "    .dataframe tbody tr th:only-of-type {\n",
       "        vertical-align: middle;\n",
       "    }\n",
       "\n",
       "    .dataframe tbody tr th {\n",
       "        vertical-align: top;\n",
       "    }\n",
       "\n",
       "    .dataframe thead th {\n",
       "        text-align: right;\n",
       "    }\n",
       "</style>\n",
       "<table border=\"1\" class=\"dataframe\">\n",
       "  <thead>\n",
       "    <tr style=\"text-align: right;\">\n",
       "      <th></th>\n",
       "      <th>SL No</th>\n",
       "      <th>converted_day</th>\n",
       "      <th>converted_year</th>\n",
       "      <th>converted_month</th>\n",
       "    </tr>\n",
       "  </thead>\n",
       "  <tbody>\n",
       "    <tr>\n",
       "      <th>0</th>\n",
       "      <td>1.0</td>\n",
       "      <td>7.0</td>\n",
       "      <td>7.0</td>\n",
       "      <td>7</td>\n",
       "    </tr>\n",
       "    <tr>\n",
       "      <th>2</th>\n",
       "      <td>3.0</td>\n",
       "      <td>7.0</td>\n",
       "      <td>7.0</td>\n",
       "      <td>7</td>\n",
       "    </tr>\n",
       "    <tr>\n",
       "      <th>3</th>\n",
       "      <td>4.0</td>\n",
       "      <td>7.0</td>\n",
       "      <td>7.0</td>\n",
       "      <td>7</td>\n",
       "    </tr>\n",
       "    <tr>\n",
       "      <th>4</th>\n",
       "      <td>5.0</td>\n",
       "      <td>7.0</td>\n",
       "      <td>7.0</td>\n",
       "      <td>7</td>\n",
       "    </tr>\n",
       "    <tr>\n",
       "      <th>5</th>\n",
       "      <td>6.0</td>\n",
       "      <td>7.0</td>\n",
       "      <td>7.0</td>\n",
       "      <td>7</td>\n",
       "    </tr>\n",
       "    <tr>\n",
       "      <th>...</th>\n",
       "      <td>...</td>\n",
       "      <td>...</td>\n",
       "      <td>...</td>\n",
       "      <td>...</td>\n",
       "    </tr>\n",
       "    <tr>\n",
       "      <th>995</th>\n",
       "      <td>7.0</td>\n",
       "      <td>7.0</td>\n",
       "      <td>7.0</td>\n",
       "      <td>7</td>\n",
       "    </tr>\n",
       "    <tr>\n",
       "      <th>996</th>\n",
       "      <td>7.0</td>\n",
       "      <td>7.0</td>\n",
       "      <td>7.0</td>\n",
       "      <td>7</td>\n",
       "    </tr>\n",
       "    <tr>\n",
       "      <th>997</th>\n",
       "      <td>7.0</td>\n",
       "      <td>7.0</td>\n",
       "      <td>7.0</td>\n",
       "      <td>7</td>\n",
       "    </tr>\n",
       "    <tr>\n",
       "      <th>998</th>\n",
       "      <td>7.0</td>\n",
       "      <td>7.0</td>\n",
       "      <td>7.0</td>\n",
       "      <td>7</td>\n",
       "    </tr>\n",
       "    <tr>\n",
       "      <th>999</th>\n",
       "      <td>7.0</td>\n",
       "      <td>1.0</td>\n",
       "      <td>7.0</td>\n",
       "      <td>7</td>\n",
       "    </tr>\n",
       "  </tbody>\n",
       "</table>\n",
       "<p>999 rows × 4 columns</p>\n",
       "</div>"
      ],
      "text/plain": [
       "     SL No  converted_day  converted_year  converted_month\n",
       "0      1.0            7.0             7.0                7\n",
       "2      3.0            7.0             7.0                7\n",
       "3      4.0            7.0             7.0                7\n",
       "4      5.0            7.0             7.0                7\n",
       "5      6.0            7.0             7.0                7\n",
       "..     ...            ...             ...              ...\n",
       "995    7.0            7.0             7.0                7\n",
       "996    7.0            7.0             7.0                7\n",
       "997    7.0            7.0             7.0                7\n",
       "998    7.0            7.0             7.0                7\n",
       "999    7.0            1.0             7.0                7\n",
       "\n",
       "[999 rows x 4 columns]"
      ]
     },
     "execution_count": 118,
     "metadata": {},
     "output_type": "execute_result"
    }
   ],
   "source": [
    "df3.fillna(value=df3['converted_month'].mean())"
   ]
  },
  {
   "cell_type": "code",
   "execution_count": 121,
   "id": "404f3992",
   "metadata": {},
   "outputs": [
    {
     "data": {
      "text/plain": [
       "Date\n",
       "01-Jul-22    7.0\n",
       "20-Jul-22    7.0\n",
       "21-Jul-22    7.0\n",
       "22-Jul-22    7.0\n",
       "23-Jul-22    7.0\n",
       "24-Jul-22    7.0\n",
       "25-Jul-22    7.0\n",
       "26-Jul-22    7.0\n",
       "27-Jul-22    7.0\n",
       "28-Jul-22    7.0\n",
       "29-Jul-22    7.0\n",
       "30-Jul-22    7.0\n",
       "Name: converted_month, dtype: float64"
      ]
     },
     "execution_count": 121,
     "metadata": {},
     "output_type": "execute_result"
    }
   ],
   "source": [
    "df.groupby('Date')['converted_month'].mean()"
   ]
  },
  {
   "cell_type": "code",
   "execution_count": 122,
   "id": "ecab646f",
   "metadata": {},
   "outputs": [
    {
     "data": {
      "text/plain": [
       "SL No                       int64\n",
       "Agent                      object\n",
       "Date                       object\n",
       "Login Time                 object\n",
       "Logout Time                object\n",
       "Duration                   object\n",
       "converted_Date     datetime64[ns]\n",
       "converted_day               int64\n",
       "converted_year              int64\n",
       "converted_month             int64\n",
       "dtype: object"
      ]
     },
     "execution_count": 122,
     "metadata": {},
     "output_type": "execute_result"
    }
   ],
   "source": [
    "df.dtypes"
   ]
  },
  {
   "cell_type": "code",
   "execution_count": 123,
   "id": "2931a08f",
   "metadata": {},
   "outputs": [
    {
     "data": {
      "text/plain": [
       "0       02:04:10\n",
       "2       02:26:42\n",
       "3       00:45:06\n",
       "4       01:08:36\n",
       "5       01:02:26\n",
       "         ...    \n",
       "995     05:58:37\n",
       "996     06:00:43\n",
       "997     05:27:34\n",
       "998     05:16:38\n",
       "999    514:08:20\n",
       "Name: Duration, Length: 999, dtype: object"
      ]
     },
     "execution_count": 123,
     "metadata": {},
     "output_type": "execute_result"
    }
   ],
   "source": [
    "# df['sales']=df['sales'].str.replace(\",\",\"\").astype(int)"
   ]
  },
  {
   "cell_type": "code",
   "execution_count": null,
   "id": "9dc275c6",
   "metadata": {},
   "outputs": [],
   "source": []
  }
 ],
 "metadata": {
  "kernelspec": {
   "display_name": "Python 3 (ipykernel)",
   "language": "python",
   "name": "python3"
  },
  "language_info": {
   "codemirror_mode": {
    "name": "ipython",
    "version": 3
   },
   "file_extension": ".py",
   "mimetype": "text/x-python",
   "name": "python",
   "nbconvert_exporter": "python",
   "pygments_lexer": "ipython3",
   "version": "3.9.12"
  }
 },
 "nbformat": 4,
 "nbformat_minor": 5
}
