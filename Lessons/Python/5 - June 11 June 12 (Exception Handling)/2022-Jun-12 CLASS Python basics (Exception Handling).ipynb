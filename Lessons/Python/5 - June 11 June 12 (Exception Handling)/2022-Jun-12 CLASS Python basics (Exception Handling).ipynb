{
 "cells": [
  {
   "cell_type": "markdown",
   "metadata": {},
   "source": [
    "# June 12 Class\n",
    "## Exception Handling"
   ]
  },
  {
   "cell_type": "code",
   "execution_count": 1,
   "metadata": {},
   "outputs": [
    {
     "ename": "TypeError",
     "evalue": "unsupported operand type(s) for +: 'int' and 'str'",
     "output_type": "error",
     "traceback": [
      "\u001b[1;31m---------------------------------------------------------------------------\u001b[0m",
      "\u001b[1;31mTypeError\u001b[0m                                 Traceback (most recent call last)",
      "\u001b[1;32m<ipython-input-1-60a9c28b09c4>\u001b[0m in \u001b[0;36m<module>\u001b[1;34m\u001b[0m\n\u001b[0;32m      1\u001b[0m \u001b[0ma\u001b[0m\u001b[1;33m=\u001b[0m\u001b[1;36m10\u001b[0m\u001b[1;33m\u001b[0m\u001b[1;33m\u001b[0m\u001b[0m\n\u001b[0;32m      2\u001b[0m \u001b[0mb\u001b[0m\u001b[1;33m=\u001b[0m\u001b[1;34m\"s\"\u001b[0m\u001b[1;33m\u001b[0m\u001b[1;33m\u001b[0m\u001b[0m\n\u001b[1;32m----> 3\u001b[1;33m \u001b[0mc\u001b[0m\u001b[1;33m=\u001b[0m\u001b[0ma\u001b[0m\u001b[1;33m+\u001b[0m\u001b[0mb\u001b[0m\u001b[1;33m\u001b[0m\u001b[1;33m\u001b[0m\u001b[0m\n\u001b[0m",
      "\u001b[1;31mTypeError\u001b[0m: unsupported operand type(s) for +: 'int' and 'str'"
     ]
    }
   ],
   "source": [
    "a=10\n",
    "b=\"s\"\n",
    "c=a+b"
   ]
  },
  {
   "cell_type": "code",
   "execution_count": 4,
   "metadata": {},
   "outputs": [
    {
     "ename": "ZeroDivisionError",
     "evalue": "division by zero",
     "output_type": "error",
     "traceback": [
      "\u001b[1;31m---------------------------------------------------------------------------\u001b[0m",
      "\u001b[1;31mZeroDivisionError\u001b[0m                         Traceback (most recent call last)",
      "\u001b[1;32m<ipython-input-4-ab1ae2bd5fe1>\u001b[0m in \u001b[0;36m<module>\u001b[1;34m\u001b[0m\n\u001b[0;32m      1\u001b[0m \u001b[0ma\u001b[0m\u001b[1;33m=\u001b[0m\u001b[0mint\u001b[0m\u001b[1;33m(\u001b[0m\u001b[0minput\u001b[0m\u001b[1;33m(\u001b[0m\u001b[1;34m\"Enter a number: \"\u001b[0m\u001b[1;33m)\u001b[0m\u001b[1;33m)\u001b[0m\u001b[1;33m\u001b[0m\u001b[1;33m\u001b[0m\u001b[0m\n\u001b[0;32m      2\u001b[0m \u001b[0mb\u001b[0m\u001b[1;33m=\u001b[0m\u001b[0mint\u001b[0m\u001b[1;33m(\u001b[0m\u001b[0minput\u001b[0m\u001b[1;33m(\u001b[0m\u001b[1;34m\"Enter a number: \"\u001b[0m\u001b[1;33m)\u001b[0m\u001b[1;33m)\u001b[0m\u001b[1;33m\u001b[0m\u001b[1;33m\u001b[0m\u001b[0m\n\u001b[1;32m----> 3\u001b[1;33m \u001b[0mc\u001b[0m\u001b[1;33m=\u001b[0m\u001b[0ma\u001b[0m\u001b[1;33m/\u001b[0m\u001b[0mb\u001b[0m\u001b[1;33m\u001b[0m\u001b[1;33m\u001b[0m\u001b[0m\n\u001b[0m\u001b[0;32m      4\u001b[0m \u001b[0mprint\u001b[0m\u001b[1;33m(\u001b[0m\u001b[0mc\u001b[0m\u001b[1;33m)\u001b[0m\u001b[1;33m\u001b[0m\u001b[1;33m\u001b[0m\u001b[0m\n\u001b[0;32m      5\u001b[0m \u001b[0md\u001b[0m\u001b[1;33m=\u001b[0m\u001b[0ma\u001b[0m\u001b[1;33m*\u001b[0m\u001b[0mb\u001b[0m\u001b[1;33m\u001b[0m\u001b[1;33m\u001b[0m\u001b[0m\n",
      "\u001b[1;31mZeroDivisionError\u001b[0m: division by zero"
     ]
    }
   ],
   "source": [
    "a=int(input(\"Enter a number: \"))\n",
    "b=int(input(\"Enter a number: \"))\n",
    "c=a/b \n",
    "print(c)\n",
    "d=a*b\n",
    "print(d)\n"
   ]
  },
  {
   "cell_type": "code",
   "execution_count": 5,
   "metadata": {},
   "outputs": [
    {
     "name": "stdout",
     "output_type": "stream",
     "text": [
      "b should not be a zero\n",
      "0\n"
     ]
    }
   ],
   "source": [
    "a=int(input(\"Enter a number: \"))\n",
    "b=int(input(\"Enter a number: \"))\n",
    "try: \n",
    "\tc=a/b \n",
    "\tprint(c)\n",
    "except: \n",
    "\tprint(\"b should not be a zero\")\n",
    "d=a*b\n",
    "print(d)\n"
   ]
  },
  {
   "cell_type": "code",
   "execution_count": 6,
   "metadata": {},
   "outputs": [
    {
     "name": "stdout",
     "output_type": "stream",
     "text": [
      "b should not be a zero\n",
      "0\n"
     ]
    }
   ],
   "source": [
    "a=int(input(\"Enter a number: \"))\n",
    "b=int(input(\"Enter a number: \"))\n",
    "try: \n",
    "\tc=a/b \n",
    "\tprint(c)\n",
    "except ZeroDivisionError: \n",
    "\tprint(\"b should not be a zero\")\n",
    "d=a*b\n",
    "print(d)\n"
   ]
  },
  {
   "cell_type": "code",
   "execution_count": 9,
   "metadata": {},
   "outputs": [
    {
     "name": "stdout",
     "output_type": "stream",
     "text": [
      "3.3333333333333335\n"
     ]
    }
   ],
   "source": [
    "flg=True\n",
    "while(flg):\n",
    "\ttry:\n",
    "\t\ta=int(input(\"Enter a number: \"))\n",
    "\t\tb=int(input(\"Enter a number: \"))\n",
    "\texcept:\n",
    "\t\tprint(\"Enter a number\")\n",
    "\t\tcontinue\n",
    "\ttry: \n",
    "\t\tc=a/b \n",
    "\t\tprint(c)\n",
    "\texcept:\n",
    "\t\tprint(\"b should not be zero\")\n",
    "\t\tcontinue\n",
    "\tflg=False"
   ]
  },
  {
   "cell_type": "code",
   "execution_count": 10,
   "metadata": {},
   "outputs": [
    {
     "name": "stdout",
     "output_type": "stream",
     "text": [
      "Enter a number\n",
      "b should not be zero\n",
      "10.0\n"
     ]
    }
   ],
   "source": [
    "flg=True\n",
    "while(flg):\n",
    "\ttry:\n",
    "\t\ta=int(input(\"Enter a number: \"))\n",
    "\t\tb=int(input(\"Enter a number: \"))\n",
    "\t\tc=a/b \n",
    "\t\tprint(c)\n",
    "\texcept ValueError:\n",
    "\t\tprint(\"Enter a number\")\n",
    "\t\tcontinue\n",
    "\texcept ZeroDivisionError:\n",
    "\t\tprint(\"b should not be zero\")\n",
    "\t\tcontinue\n",
    "\tflg=False"
   ]
  },
  {
   "cell_type": "code",
   "execution_count": 12,
   "metadata": {},
   "outputs": [
    {
     "name": "stdout",
     "output_type": "stream",
     "text": [
      "5.0\n"
     ]
    }
   ],
   "source": [
    "flg=True\n",
    "while flg:\n",
    "\ttry:\n",
    "\t\ta=int(input(\"Enter a number: \"))\n",
    "\t\tb=int(input(\"Enter a number: \"))\n",
    "\t\tc=a/b \n",
    "\t\tprint(c)\n",
    "\texcept (ValueError, ZeroDivisionError):\n",
    "\t\tprint(\"Enter a number or b should not be zero\")\n",
    "\t\tcontinue\n",
    "\tflg=False"
   ]
  },
  {
   "cell_type": "code",
   "execution_count": 13,
   "metadata": {},
   "outputs": [
    {
     "name": "stdout",
     "output_type": "stream",
     "text": [
      "invalid literal for int() with base 10: 'a'\n",
      "division by zero\n",
      "51.0\n"
     ]
    }
   ],
   "source": [
    "flg=True\n",
    "while(flg):\n",
    "\ttry:\n",
    "\t\ta=int(input(\"Enter a number: \"))\n",
    "\t\tb=int(input(\"Enter a number: \"))\n",
    "\t\tc=a/b \n",
    "\t\tprint(c)\n",
    "\texcept ValueError as e: \n",
    "\t\tprint(e)\n",
    "\t\tcontinue\n",
    "\texcept ZeroDivisionError as e:\n",
    "\t\tprint(e)\n",
    "\t\tcontinue\n",
    "\tflg=False "
   ]
  },
  {
   "cell_type": "code",
   "execution_count": 15,
   "metadata": {},
   "outputs": [
    {
     "name": "stdout",
     "output_type": "stream",
     "text": [
      "(<class 'ValueError'>, ValueError(\"invalid literal for int() with base 10: 'a'\"), <traceback object at 0x0000018337AEF648>)\n",
      "(<class 'ZeroDivisionError'>, ZeroDivisionError('division by zero'), <traceback object at 0x0000018337AA8AC8>)\n",
      "5.0\n"
     ]
    }
   ],
   "source": [
    "import sys\n",
    "\n",
    "flg=True\n",
    "while(flg):\n",
    "\ttry:\n",
    "\t\ta=int(input(\"Enter a number: \"))\n",
    "\t\tb=int(input(\"Enter a number: \"))\n",
    "\t\tc=a/b \n",
    "\t\tprint(c)\n",
    "\texcept: \n",
    "\t\tprint(sys.exc_info())\n",
    "\t\tcontinue\n",
    "\tflg=False "
   ]
  },
  {
   "cell_type": "code",
   "execution_count": 16,
   "metadata": {},
   "outputs": [],
   "source": [
    "a, b, c = 1, 2, 3"
   ]
  },
  {
   "cell_type": "code",
   "execution_count": 17,
   "metadata": {},
   "outputs": [
    {
     "data": {
      "text/plain": [
       "1"
      ]
     },
     "execution_count": 17,
     "metadata": {},
     "output_type": "execute_result"
    }
   ],
   "source": [
    "a"
   ]
  },
  {
   "cell_type": "code",
   "execution_count": 19,
   "metadata": {},
   "outputs": [
    {
     "name": "stdout",
     "output_type": "stream",
     "text": [
      "exception class <class 'ValueError'>\n",
      "exception message invalid literal for int() with base 10: 'a'\n",
      "line number 7\n",
      "exception class <class 'ZeroDivisionError'>\n",
      "exception message division by zero\n",
      "line number 8\n",
      "5.0\n"
     ]
    }
   ],
   "source": [
    "import sys\n",
    "\n",
    "flg=True\n",
    "while(flg):\n",
    "\ttry:\n",
    "\t\ta=int(input(\"Enter a number: \"))\n",
    "\t\tb=int(input(\"Enter a number: \"))\n",
    "\t\tc=a/b \n",
    "\t\tprint(c)\n",
    "\texcept: \n",
    "\t\ta, b , c = sys.exc_info()\n",
    "\t\tprint(\"exception class\",a)\n",
    "\t\tprint(\"exception message\",b)\n",
    "\t\tprint(\"line number\",c.tb_lineno)\n",
    "\t\tcontinue\n",
    "\tflg=False "
   ]
  },
  {
   "cell_type": "code",
   "execution_count": 20,
   "metadata": {},
   "outputs": [
    {
     "name": "stdout",
     "output_type": "stream",
     "text": [
      "Traceback (most recent call last):\n",
      "  File \"<ipython-input-20-e674f2a495f2>\", line 9, in <module>\n",
      "    b=int(input(\"Enter a number: \"))\n",
      "ValueError: invalid literal for int() with base 10: 'a'\n",
      "\n",
      "Traceback (most recent call last):\n",
      "  File \"<ipython-input-20-e674f2a495f2>\", line 10, in <module>\n",
      "    c=a/b\n",
      "ZeroDivisionError: division by zero\n",
      "\n",
      "5.0\n"
     ]
    }
   ],
   "source": [
    "import traceback\n",
    "\n",
    "import sys\n",
    "\n",
    "flg=True\n",
    "while(flg):\n",
    "\ttry:\n",
    "\t\ta=int(input(\"Enter a number: \"))\n",
    "\t\tb=int(input(\"Enter a number: \"))\n",
    "\t\tc=a/b \n",
    "\t\tprint(c)\n",
    "\texcept: \n",
    "\t\tprint(traceback.format_exc())\n",
    "\t\tcontinue\n",
    "\tflg=False "
   ]
  },
  {
   "cell_type": "code",
   "execution_count": 25,
   "metadata": {},
   "outputs": [
    {
     "name": "stdout",
     "output_type": "stream",
     "text": [
      "a and b should be positive\n",
      "10.0\n"
     ]
    }
   ],
   "source": [
    "\n",
    "\n",
    "while True:\n",
    "\ttry:\n",
    "\t\ta=int(input(\"Enter a number: \"))\n",
    "\t\tb=int(input(\"Enter a number: \"))\n",
    "\t\tif a<0 or b<0:\n",
    "\t\t\traise Exception(\"a and b should be positive\")\n",
    "\t\tc=a/b\n",
    "\t\tprint(c)\n",
    "\t\tbreak\n",
    "\texcept ValueError as e:\n",
    "\t\tprint(\"please enter int only\")\n",
    "\texcept ZeroDivisionError as e:\n",
    "\t\tprint(\"please enter non zero denominator\")\n",
    "\texcept Exception as e:\n",
    "\t\tprint(e)"
   ]
  },
  {
   "cell_type": "code",
   "execution_count": 26,
   "metadata": {},
   "outputs": [
    {
     "name": "stdout",
     "output_type": "stream",
     "text": [
      "a and b should be positive\n",
      "10.0\n"
     ]
    }
   ],
   "source": [
    "class SteveNegNumException(Exception):\n",
    "\tpass\n",
    "\n",
    "while True:\n",
    "\ttry:\n",
    "\t\ta=int(input(\"Enter a number: \"))\n",
    "\t\tb=int(input(\"Enter a number: \"))\n",
    "\t\tif a<0 or b<0:\n",
    "\t\t\traise SteveNegNumException(\"a and b should be positive\")\n",
    "\t\tc=a/b\n",
    "\t\tprint(c)\n",
    "\t\tbreak\n",
    "\texcept ValueError as e:\n",
    "\t\tprint(\"please enter int only\")\n",
    "\texcept ZeroDivisionError as e:\n",
    "\t\tprint(\"please enter non zero denominator\")\n",
    "\texcept SteveNegNumException as e:\n",
    "\t\tprint(e)"
   ]
  },
  {
   "cell_type": "code",
   "execution_count": 27,
   "metadata": {},
   "outputs": [
    {
     "name": "stdout",
     "output_type": "stream",
     "text": [
      "Do not use zero in the denominator\n",
      "program completed\n"
     ]
    }
   ],
   "source": [
    "try:\n",
    "\ta=int(input(\"Enter a number: \"))\n",
    "\tb=int(input(\"Enter a number: \"))\n",
    "\tc=a/b\n",
    "\tprint(c)\n",
    "except:\n",
    "\tprint(\"Do not use zero in the denominator\")\n",
    "\n",
    "print(\"program completed\")\n"
   ]
  },
  {
   "cell_type": "code",
   "execution_count": 28,
   "metadata": {},
   "outputs": [
    {
     "name": "stdout",
     "output_type": "stream",
     "text": [
      "1.1111111111111112\n",
      "program completed\n"
     ]
    }
   ],
   "source": [
    "try:\n",
    "\ta=int(input(\"Enter a number: \"))\n",
    "\tb=int(input(\"Enter a number: \"))\n",
    "\tc=a/b\n",
    "\tprint(c)\n",
    "except:\n",
    "\tprint(\"Do not use zero in the denominator\")\n",
    "finally:\n",
    "\tprint(\"program completed\")\n"
   ]
  },
  {
   "cell_type": "code",
   "execution_count": 30,
   "metadata": {},
   "outputs": [
    {
     "name": "stdout",
     "output_type": "stream",
     "text": [
      "10.0\n",
      "program completed\n"
     ]
    }
   ],
   "source": [
    "try:\n",
    "\ta=int(input(\"Enter a number: \"))\n",
    "\tb=int(input(\"Enter a number: \"))\n",
    "\tc=a/b\n",
    "\tprint(c)\n",
    "except:\n",
    "\tprint(\"Do not use zero in the denominator\")\n",
    "else:\n",
    "\tprint(\"program completed\")\n"
   ]
  },
  {
   "cell_type": "code",
   "execution_count": null,
   "metadata": {},
   "outputs": [],
   "source": []
  }
 ],
 "metadata": {
  "interpreter": {
   "hash": "ad2bdc8ecc057115af97d19610ffacc2b4e99fae6737bb82f5d7fb13d2f2c186"
  },
  "kernelspec": {
   "display_name": "Python 3.7.13 ('base')",
   "language": "python",
   "name": "python3"
  },
  "language_info": {
   "codemirror_mode": {
    "name": "ipython",
    "version": 3
   },
   "file_extension": ".py",
   "mimetype": "text/x-python",
   "name": "python",
   "nbconvert_exporter": "python",
   "pygments_lexer": "ipython3",
   "version": "3.7.13"
  },
  "orig_nbformat": 4
 },
 "nbformat": 4,
 "nbformat_minor": 2
}
