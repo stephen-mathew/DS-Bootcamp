{
 "cells": [
  {
   "cell_type": "code",
   "execution_count": null,
   "id": "981dfe69",
   "metadata": {},
   "outputs": [],
   "source": [
    "l = [1,3,4,5,5]"
   ]
  },
  {
   "cell_type": "code",
   "execution_count": null,
   "id": "82d83cb6",
   "metadata": {},
   "outputs": [],
   "source": [
    "for i in l :\n",
    "    print(i)"
   ]
  },
  {
   "cell_type": "code",
   "execution_count": null,
   "id": "3aeafa76",
   "metadata": {},
   "outputs": [],
   "source": [
    "next(l)"
   ]
  },
  {
   "cell_type": "code",
   "execution_count": null,
   "id": "2ee84111",
   "metadata": {},
   "outputs": [],
   "source": [
    "b = iter(l)"
   ]
  },
  {
   "cell_type": "code",
   "execution_count": null,
   "id": "43bd0d17",
   "metadata": {},
   "outputs": [],
   "source": [
    "next(b)"
   ]
  },
  {
   "cell_type": "code",
   "execution_count": null,
   "id": "5ffb373b",
   "metadata": {},
   "outputs": [],
   "source": [
    "next(b)"
   ]
  },
  {
   "cell_type": "code",
   "execution_count": null,
   "id": "10db965d",
   "metadata": {},
   "outputs": [],
   "source": [
    "next(b)"
   ]
  },
  {
   "cell_type": "code",
   "execution_count": null,
   "id": "bca3f476",
   "metadata": {},
   "outputs": [],
   "source": [
    "next(b)"
   ]
  },
  {
   "cell_type": "code",
   "execution_count": null,
   "id": "1eeb80c3",
   "metadata": {},
   "outputs": [],
   "source": [
    "next(b)"
   ]
  },
  {
   "cell_type": "code",
   "execution_count": null,
   "id": "b5120c2d",
   "metadata": {},
   "outputs": [],
   "source": [
    "next(b)"
   ]
  },
  {
   "cell_type": "code",
   "execution_count": null,
   "id": "48d201d1",
   "metadata": {},
   "outputs": [],
   "source": [
    "next(45)"
   ]
  },
  {
   "cell_type": "code",
   "execution_count": null,
   "id": "4d57025d",
   "metadata": {},
   "outputs": [],
   "source": [
    "iter(45)"
   ]
  },
  {
   "cell_type": "code",
   "execution_count": null,
   "id": "d2b89699",
   "metadata": {},
   "outputs": [],
   "source": [
    "for i in 45456:\n",
    "    print(i)"
   ]
  },
  {
   "cell_type": "code",
   "execution_count": null,
   "id": "fe15fd84",
   "metadata": {},
   "outputs": [],
   "source": [
    "l"
   ]
  },
  {
   "cell_type": "code",
   "execution_count": null,
   "id": "1468f47d",
   "metadata": {},
   "outputs": [],
   "source": [
    "for i in l :\n",
    "    print(i)"
   ]
  },
  {
   "cell_type": "code",
   "execution_count": null,
   "id": "472ef530",
   "metadata": {},
   "outputs": [],
   "source": [
    "s = \"sudh\""
   ]
  },
  {
   "cell_type": "code",
   "execution_count": null,
   "id": "16b1c9ce",
   "metadata": {},
   "outputs": [],
   "source": [
    "next(s)"
   ]
  },
  {
   "cell_type": "code",
   "execution_count": null,
   "id": "400ffde5",
   "metadata": {},
   "outputs": [],
   "source": [
    "s = iter(s)"
   ]
  },
  {
   "cell_type": "code",
   "execution_count": null,
   "id": "a44603f5",
   "metadata": {},
   "outputs": [],
   "source": [
    "next(s)"
   ]
  },
  {
   "cell_type": "code",
   "execution_count": null,
   "id": "a2432019",
   "metadata": {},
   "outputs": [],
   "source": [
    "next(s)"
   ]
  },
  {
   "cell_type": "code",
   "execution_count": null,
   "id": "6c628979",
   "metadata": {},
   "outputs": [],
   "source": [
    "next(s)"
   ]
  },
  {
   "cell_type": "code",
   "execution_count": null,
   "id": "84a07c9c",
   "metadata": {},
   "outputs": [],
   "source": [
    "next(s)"
   ]
  },
  {
   "cell_type": "code",
   "execution_count": null,
   "id": "d5a211a6",
   "metadata": {},
   "outputs": [],
   "source": [
    "next(s)"
   ]
  },
  {
   "cell_type": "code",
   "execution_count": null,
   "id": "4db5844f",
   "metadata": {},
   "outputs": [],
   "source": [
    "s = \"sudh\"\n",
    "for i in s :\n",
    "    print(i)"
   ]
  },
  {
   "cell_type": "code",
   "execution_count": null,
   "id": "afce41d2",
   "metadata": {},
   "outputs": [],
   "source": [
    "t = (5,6,7,8,8)"
   ]
  },
  {
   "cell_type": "code",
   "execution_count": null,
   "id": "541f58c4",
   "metadata": {},
   "outputs": [],
   "source": [
    "next(t)"
   ]
  },
  {
   "cell_type": "code",
   "execution_count": null,
   "id": "86aeab4f",
   "metadata": {},
   "outputs": [],
   "source": [
    "t = iter(t)"
   ]
  },
  {
   "cell_type": "code",
   "execution_count": null,
   "id": "a9869ba1",
   "metadata": {},
   "outputs": [],
   "source": [
    "next(t)"
   ]
  },
  {
   "cell_type": "code",
   "execution_count": null,
   "id": "1d87844c",
   "metadata": {},
   "outputs": [],
   "source": [
    "next(t)"
   ]
  },
  {
   "cell_type": "code",
   "execution_count": null,
   "id": "d903ec42",
   "metadata": {},
   "outputs": [],
   "source": [
    "next(t)"
   ]
  },
  {
   "cell_type": "code",
   "execution_count": null,
   "id": "b452d9b2",
   "metadata": {},
   "outputs": [],
   "source": [
    "next(t)"
   ]
  },
  {
   "cell_type": "code",
   "execution_count": null,
   "id": "35d29704",
   "metadata": {},
   "outputs": [],
   "source": [
    "next(t)"
   ]
  },
  {
   "cell_type": "code",
   "execution_count": null,
   "id": "50b94b1a",
   "metadata": {},
   "outputs": [],
   "source": [
    "next(t)"
   ]
  },
  {
   "cell_type": "code",
   "execution_count": null,
   "id": "3af9c50a",
   "metadata": {},
   "outputs": [],
   "source": [
    "list(range(1,10))"
   ]
  },
  {
   "cell_type": "code",
   "execution_count": null,
   "id": "e106880a",
   "metadata": {},
   "outputs": [],
   "source": [
    "1,4,9,16"
   ]
  },
  {
   "cell_type": "code",
   "execution_count": null,
   "id": "87ecfd76",
   "metadata": {},
   "outputs": [],
   "source": [
    "def square_fun(n) :\n",
    "    x = [i*i for i in range(n)]\n",
    "    return x "
   ]
  },
  {
   "cell_type": "code",
   "execution_count": null,
   "id": "269e4579",
   "metadata": {},
   "outputs": [],
   "source": [
    "square_fun(4)"
   ]
  },
  {
   "cell_type": "code",
   "execution_count": null,
   "id": "f08aa292",
   "metadata": {},
   "outputs": [],
   "source": [
    "list(range(4))"
   ]
  },
  {
   "cell_type": "code",
   "execution_count": null,
   "id": "6f7027ce",
   "metadata": {},
   "outputs": [],
   "source": [
    "def square_fun1(n) :\n",
    "    x = [i*i for i in range(n)]\n",
    "    yield x "
   ]
  },
  {
   "cell_type": "code",
   "execution_count": null,
   "id": "221b1edd",
   "metadata": {},
   "outputs": [],
   "source": [
    "square_fun1(4)"
   ]
  },
  {
   "cell_type": "code",
   "execution_count": null,
   "id": "2a978a13",
   "metadata": {},
   "outputs": [],
   "source": [
    "range(5)"
   ]
  },
  {
   "cell_type": "code",
   "execution_count": null,
   "id": "610bc1da",
   "metadata": {},
   "outputs": [],
   "source": [
    "for i in square_fun1(4):\n",
    "    print(i)\n",
    "    "
   ]
  },
  {
   "cell_type": "code",
   "execution_count": null,
   "id": "24618b9f",
   "metadata": {},
   "outputs": [],
   "source": [
    "for i in range(4):\n",
    "    print(i)"
   ]
  },
  {
   "cell_type": "code",
   "execution_count": null,
   "id": "61a1700b",
   "metadata": {},
   "outputs": [],
   "source": [
    "next(square_fun1(4))"
   ]
  },
  {
   "cell_type": "code",
   "execution_count": null,
   "id": "6643ca7c",
   "metadata": {},
   "outputs": [],
   "source": [
    "next(range(4))"
   ]
  },
  {
   "cell_type": "code",
   "execution_count": null,
   "id": "1dd87ba1",
   "metadata": {},
   "outputs": [],
   "source": [
    "r = iter(range(4))"
   ]
  },
  {
   "cell_type": "code",
   "execution_count": null,
   "id": "e53cb6eb",
   "metadata": {},
   "outputs": [],
   "source": [
    "next(r)"
   ]
  },
  {
   "cell_type": "code",
   "execution_count": null,
   "id": "3b3cac3d",
   "metadata": {},
   "outputs": [],
   "source": [
    "next(r)"
   ]
  },
  {
   "cell_type": "code",
   "execution_count": null,
   "id": "c4804760",
   "metadata": {},
   "outputs": [],
   "source": [
    "next(r)"
   ]
  },
  {
   "cell_type": "code",
   "execution_count": null,
   "id": "e5a3e8c8",
   "metadata": {},
   "outputs": [],
   "source": [
    "next(r)"
   ]
  },
  {
   "cell_type": "code",
   "execution_count": null,
   "id": "1485311e",
   "metadata": {},
   "outputs": [],
   "source": [
    "next(r)"
   ]
  },
  {
   "cell_type": "code",
   "execution_count": null,
   "id": "7e09c0dc",
   "metadata": {},
   "outputs": [],
   "source": [
    "def genfib(n) : \n",
    "    a = 1 \n",
    "    b = 1 \n",
    "    l = []\n",
    "    for i in range(n):\n",
    "        l.append(a)\n",
    "        a,b = b , a+b\n",
    "    return l "
   ]
  },
  {
   "cell_type": "code",
   "execution_count": null,
   "id": "ccdb2c40",
   "metadata": {},
   "outputs": [],
   "source": [
    "genfib(100000000000000)"
   ]
  },
  {
   "cell_type": "code",
   "execution_count": null,
   "id": "e16c3dc2",
   "metadata": {},
   "outputs": [],
   "source": [
    "def genfib1(n) : \n",
    "    a = 1 \n",
    "    b = 1 \n",
    "    for i in range(n):\n",
    "        yield a\n",
    "        a,b = b , a+b"
   ]
  },
  {
   "cell_type": "code",
   "execution_count": null,
   "id": "f27f7cf5",
   "metadata": {},
   "outputs": [],
   "source": [
    "genfib1(10)"
   ]
  },
  {
   "cell_type": "code",
   "execution_count": null,
   "id": "d94a62ae",
   "metadata": {},
   "outputs": [],
   "source": [
    "for i in genfib1(1000000000000000000):\n",
    "    print(i)"
   ]
  },
  {
   "cell_type": "code",
   "execution_count": null,
   "id": "f9635949",
   "metadata": {},
   "outputs": [],
   "source": [
    "#file operation \n"
   ]
  },
  {
   "cell_type": "code",
   "execution_count": null,
   "id": "59070fda",
   "metadata": {},
   "outputs": [],
   "source": [
    "f = open(\"sudh1.txt\", 'w')"
   ]
  },
  {
   "cell_type": "code",
   "execution_count": null,
   "id": "68b82172",
   "metadata": {},
   "outputs": [],
   "source": [
    "ls"
   ]
  },
  {
   "cell_type": "code",
   "execution_count": null,
   "id": "05344a59",
   "metadata": {},
   "outputs": [],
   "source": [
    "f.write(\"this is my very first file operation\")"
   ]
  },
  {
   "cell_type": "code",
   "execution_count": null,
   "id": "0e15632f",
   "metadata": {},
   "outputs": [],
   "source": [
    "f.close()"
   ]
  },
  {
   "cell_type": "code",
   "execution_count": null,
   "id": "98108713",
   "metadata": {},
   "outputs": [],
   "source": [
    "ls"
   ]
  },
  {
   "cell_type": "code",
   "execution_count": null,
   "id": "bcf2db15",
   "metadata": {},
   "outputs": [],
   "source": [
    "ls"
   ]
  },
  {
   "cell_type": "code",
   "execution_count": null,
   "id": "5d8c4c99",
   "metadata": {},
   "outputs": [],
   "source": [
    "f1 = open(\"test1.txt\" , \"w\")"
   ]
  },
  {
   "cell_type": "code",
   "execution_count": null,
   "id": "3d67e88f",
   "metadata": {},
   "outputs": [],
   "source": [
    "f1.write(\"this is a file operatio  i am trying to do in my fsds class \")"
   ]
  },
  {
   "cell_type": "code",
   "execution_count": null,
   "id": "f87d945f",
   "metadata": {},
   "outputs": [],
   "source": [
    "f1.close()"
   ]
  },
  {
   "cell_type": "code",
   "execution_count": null,
   "id": "eeb5918d",
   "metadata": {},
   "outputs": [],
   "source": [
    "l = [1,2,3,4,6,5,6,7,67,6]"
   ]
  },
  {
   "cell_type": "code",
   "execution_count": null,
   "id": "82a4aa36",
   "metadata": {},
   "outputs": [],
   "source": [
    "f2  = open(\"test2.txt\" , 'w')"
   ]
  },
  {
   "cell_type": "code",
   "execution_count": null,
   "id": "3939fd91",
   "metadata": {},
   "outputs": [],
   "source": [
    "f2.write(str(l))"
   ]
  },
  {
   "cell_type": "code",
   "execution_count": null,
   "id": "8992192a",
   "metadata": {},
   "outputs": [],
   "source": [
    "f2.close()"
   ]
  },
  {
   "cell_type": "code",
   "execution_count": null,
   "id": "90adf3ce",
   "metadata": {},
   "outputs": [],
   "source": [
    "f3 = open(\"test.sudh\" , 'w')\n",
    "f3.write(\"fsdfasf adsfas fdas afas fasd \")\n",
    "f3.close()"
   ]
  },
  {
   "cell_type": "code",
   "execution_count": null,
   "id": "4e10fb2c",
   "metadata": {},
   "outputs": [],
   "source": [
    "%%writefile test5.txt\n",
    "this is my python program to write into a file in different way \n",
    "this is my python program to write into a file in different way \n",
    "this is my python program to write into a file in different way \n",
    "this is my python program to write into a file in different way \n",
    "this is my python program to write into a file in different way \n",
    "this is my python program to write into a file in different way \n",
    "this is my python program to write into a file in different way \n",
    "this is my python program to write into a file in different way "
   ]
  },
  {
   "cell_type": "code",
   "execution_count": null,
   "id": "13dac11d",
   "metadata": {},
   "outputs": [],
   "source": [
    "f = open('test5.txt')"
   ]
  },
  {
   "cell_type": "code",
   "execution_count": null,
   "id": "04ad7711",
   "metadata": {},
   "outputs": [],
   "source": [
    "f.read()"
   ]
  },
  {
   "cell_type": "code",
   "execution_count": null,
   "id": "1ed0864f",
   "metadata": {},
   "outputs": [],
   "source": [
    "f.read()"
   ]
  },
  {
   "cell_type": "code",
   "execution_count": null,
   "id": "1c7fc9c3",
   "metadata": {},
   "outputs": [],
   "source": [
    "f.read()"
   ]
  },
  {
   "cell_type": "code",
   "execution_count": null,
   "id": "55bb6c4b",
   "metadata": {},
   "outputs": [],
   "source": [
    "f.seek(0)"
   ]
  },
  {
   "cell_type": "code",
   "execution_count": null,
   "id": "36051718",
   "metadata": {},
   "outputs": [],
   "source": [
    "f.read()"
   ]
  },
  {
   "cell_type": "code",
   "execution_count": null,
   "id": "58b474f9",
   "metadata": {},
   "outputs": [],
   "source": [
    "f.read()"
   ]
  },
  {
   "cell_type": "code",
   "execution_count": null,
   "id": "9cac0dc2",
   "metadata": {},
   "outputs": [],
   "source": [
    "f.seek(0)"
   ]
  },
  {
   "cell_type": "code",
   "execution_count": null,
   "id": "2c14992d",
   "metadata": {},
   "outputs": [],
   "source": [
    "f.read()"
   ]
  },
  {
   "cell_type": "code",
   "execution_count": null,
   "id": "8b12f6ae",
   "metadata": {},
   "outputs": [],
   "source": [
    "f.seek(4)"
   ]
  },
  {
   "cell_type": "code",
   "execution_count": null,
   "id": "a6ea38ea",
   "metadata": {},
   "outputs": [],
   "source": [
    " f.read()"
   ]
  },
  {
   "cell_type": "code",
   "execution_count": null,
   "id": "c006131e",
   "metadata": {},
   "outputs": [],
   "source": [
    "f.seek(50)"
   ]
  },
  {
   "cell_type": "code",
   "execution_count": null,
   "id": "dcee796c",
   "metadata": {},
   "outputs": [],
   "source": [
    "f.read()"
   ]
  },
  {
   "cell_type": "code",
   "execution_count": null,
   "id": "62667830",
   "metadata": {},
   "outputs": [],
   "source": [
    "f1 = open('test5.txt')"
   ]
  },
  {
   "cell_type": "code",
   "execution_count": null,
   "id": "214531de",
   "metadata": {},
   "outputs": [],
   "source": [
    "f1.tell()"
   ]
  },
  {
   "cell_type": "code",
   "execution_count": null,
   "id": "151e74c2",
   "metadata": {},
   "outputs": [],
   "source": [
    "f1.read()"
   ]
  },
  {
   "cell_type": "code",
   "execution_count": null,
   "id": "2cb66130",
   "metadata": {},
   "outputs": [],
   "source": [
    "f1.tell()"
   ]
  },
  {
   "cell_type": "code",
   "execution_count": null,
   "id": "39fa8609",
   "metadata": {},
   "outputs": [],
   "source": [
    "f1.seek(5)"
   ]
  },
  {
   "cell_type": "code",
   "execution_count": null,
   "id": "ceea7387",
   "metadata": {},
   "outputs": [],
   "source": [
    "f1.tell()"
   ]
  },
  {
   "cell_type": "code",
   "execution_count": null,
   "id": "acc44c48",
   "metadata": {},
   "outputs": [],
   "source": [
    "f.read()"
   ]
  },
  {
   "cell_type": "code",
   "execution_count": null,
   "id": "5b37d30e",
   "metadata": {},
   "outputs": [],
   "source": [
    "f.seek(0)"
   ]
  },
  {
   "cell_type": "code",
   "execution_count": null,
   "id": "4d148947",
   "metadata": {},
   "outputs": [],
   "source": [
    "f1.tell()"
   ]
  },
  {
   "cell_type": "code",
   "execution_count": null,
   "id": "34c967c0",
   "metadata": {},
   "outputs": [],
   "source": [
    "f1.read(15)"
   ]
  },
  {
   "cell_type": "code",
   "execution_count": null,
   "id": "b948dc09",
   "metadata": {},
   "outputs": [],
   "source": [
    "f2 = open('test5.txt')"
   ]
  },
  {
   "cell_type": "code",
   "execution_count": null,
   "id": "28f52db1",
   "metadata": {},
   "outputs": [],
   "source": [
    "f2.read()"
   ]
  },
  {
   "cell_type": "code",
   "execution_count": null,
   "id": "2f040cd8",
   "metadata": {},
   "outputs": [],
   "source": [
    "f2.seek(0)"
   ]
  },
  {
   "cell_type": "code",
   "execution_count": null,
   "id": "bc230485",
   "metadata": {},
   "outputs": [],
   "source": [
    "f2.readline()"
   ]
  },
  {
   "cell_type": "code",
   "execution_count": null,
   "id": "36a30018",
   "metadata": {},
   "outputs": [],
   "source": [
    "f2.readlines()"
   ]
  },
  {
   "cell_type": "code",
   "execution_count": null,
   "id": "5b709a26",
   "metadata": {},
   "outputs": [],
   "source": [
    "f2"
   ]
  },
  {
   "cell_type": "code",
   "execution_count": null,
   "id": "34fb8dce",
   "metadata": {},
   "outputs": [],
   "source": [
    "f2.fileno()"
   ]
  },
  {
   "cell_type": "code",
   "execution_count": null,
   "id": "81bcaad3",
   "metadata": {},
   "outputs": [],
   "source": [
    "f= open(\"test.txt\" , 'w')"
   ]
  },
  {
   "cell_type": "code",
   "execution_count": null,
   "id": "30d717d0",
   "metadata": {},
   "outputs": [],
   "source": [
    "f.write(\"\"\"this is my python program to write into a file in different way \\n',\"\"\")"
   ]
  },
  {
   "cell_type": "code",
   "execution_count": null,
   "id": "0c692fef",
   "metadata": {},
   "outputs": [],
   "source": [
    "f.close()"
   ]
  },
  {
   "cell_type": "code",
   "execution_count": null,
   "id": "45bc2f7e",
   "metadata": {},
   "outputs": [],
   "source": [
    "f.write(\"fdasfkasjkfl asklfkl kfa kkdfka fl af \")"
   ]
  },
  {
   "cell_type": "code",
   "execution_count": null,
   "id": "fe93adf6",
   "metadata": {},
   "outputs": [],
   "source": [
    "f.close()"
   ]
  },
  {
   "cell_type": "code",
   "execution_count": null,
   "id": "307523bb",
   "metadata": {},
   "outputs": [],
   "source": [
    "f = open('d:/test.txt' , 'w')"
   ]
  },
  {
   "cell_type": "code",
   "execution_count": null,
   "id": "2ce7dd80",
   "metadata": {},
   "outputs": [],
   "source": [
    "f.write(\"this is my new dataset \")"
   ]
  },
  {
   "cell_type": "code",
   "execution_count": null,
   "id": "7f33ac4e",
   "metadata": {},
   "outputs": [],
   "source": [
    "f.close()a"
   ]
  },
  {
   "cell_type": "code",
   "execution_count": null,
   "id": "369789eb",
   "metadata": {},
   "outputs": [],
   "source": [
    "f.name"
   ]
  },
  {
   "cell_type": "code",
   "execution_count": null,
   "id": "069b3034",
   "metadata": {},
   "outputs": [],
   "source": [
    "f.closed"
   ]
  },
  {
   "cell_type": "code",
   "execution_count": null,
   "id": "822c5e5e",
   "metadata": {},
   "outputs": [],
   "source": [
    "f.mode"
   ]
  },
  {
   "cell_type": "code",
   "execution_count": null,
   "id": "0d4090d6",
   "metadata": {},
   "outputs": [],
   "source": [
    "f.seek(15)"
   ]
  },
  {
   "cell_type": "code",
   "execution_count": null,
   "id": "e19786fd",
   "metadata": {},
   "outputs": [],
   "source": [
    "f.read()"
   ]
  },
  {
   "cell_type": "code",
   "execution_count": null,
   "id": "28954218",
   "metadata": {},
   "outputs": [],
   "source": [
    "#map , reduce , filter "
   ]
  },
  {
   "cell_type": "code",
   "execution_count": null,
   "id": "2a311a4c",
   "metadata": {},
   "outputs": [],
   "source": [
    "l = [2,3,4,5,5,6]\n",
    "l1  = []\n",
    "for i in l :\n",
    "    l1.append(i**2)"
   ]
  },
  {
   "cell_type": "code",
   "execution_count": null,
   "id": "cbf826fe",
   "metadata": {},
   "outputs": [],
   "source": [
    "l1"
   ]
  },
  {
   "cell_type": "code",
   "execution_count": null,
   "id": "f7021d7c",
   "metadata": {},
   "outputs": [],
   "source": [
    "def sq(n) : \n",
    "    return n**2"
   ]
  },
  {
   "cell_type": "code",
   "execution_count": null,
   "id": "131c89c9",
   "metadata": {},
   "outputs": [],
   "source": []
  },
  {
   "cell_type": "code",
   "execution_count": null,
   "id": "23f96925",
   "metadata": {},
   "outputs": [],
   "source": []
  },
  {
   "cell_type": "code",
   "execution_count": null,
   "id": "e5cb8679",
   "metadata": {},
   "outputs": [],
   "source": [
    "list(map(sq ,l ))"
   ]
  },
  {
   "cell_type": "code",
   "execution_count": null,
   "id": "0aa928d2",
   "metadata": {},
   "outputs": [],
   "source": [
    "list(map(lambda x : x**2 ,l ))"
   ]
  },
  {
   "cell_type": "code",
   "execution_count": null,
   "id": "9acec974",
   "metadata": {},
   "outputs": [],
   "source": [
    "l"
   ]
  },
  {
   "cell_type": "code",
   "execution_count": null,
   "id": "5432a7b8",
   "metadata": {},
   "outputs": [],
   "source": [
    "list(map(lambda x : str(x) , l))"
   ]
  },
  {
   "cell_type": "code",
   "execution_count": null,
   "id": "8b689614",
   "metadata": {},
   "outputs": [],
   "source": [
    "def str_c(n) :\n",
    "    return str(n)"
   ]
  },
  {
   "cell_type": "code",
   "execution_count": null,
   "id": "a6d9994a",
   "metadata": {},
   "outputs": [],
   "source": [
    "list(map(str_c , l))"
   ]
  },
  {
   "cell_type": "code",
   "execution_count": null,
   "id": "3b36a494",
   "metadata": {},
   "outputs": [],
   "source": [
    "list(map(str , l))"
   ]
  },
  {
   "cell_type": "code",
   "execution_count": null,
   "id": "5d69a016",
   "metadata": {},
   "outputs": [],
   "source": [
    "from functools import reduce"
   ]
  },
  {
   "cell_type": "code",
   "execution_count": null,
   "id": "13992bfa",
   "metadata": {},
   "outputs": [],
   "source": [
    "l = [3]"
   ]
  },
  {
   "cell_type": "code",
   "execution_count": null,
   "id": "cd1a28b9",
   "metadata": {},
   "outputs": [],
   "source": [
    "sum(l)"
   ]
  },
  {
   "cell_type": "code",
   "execution_count": null,
   "id": "b46469c7",
   "metadata": {},
   "outputs": [],
   "source": [
    "reduce(lambda a , b   : a*b , l)"
   ]
  },
  {
   "cell_type": "code",
   "execution_count": null,
   "id": "b89aac8e",
   "metadata": {},
   "outputs": [],
   "source": [
    "l = [1,2,3,4,45,5]"
   ]
  },
  {
   "cell_type": "code",
   "execution_count": null,
   "id": "5a11f662",
   "metadata": {},
   "outputs": [],
   "source": [
    "list(filter(lambda x : x%2==0 , l))"
   ]
  },
  {
   "cell_type": "code",
   "execution_count": null,
   "id": "6c4c5333",
   "metadata": {},
   "outputs": [],
   "source": [
    "def check_even(n) : \n",
    "    if n%2 == 0 :\n",
    "            return True "
   ]
  },
  {
   "cell_type": "code",
   "execution_count": null,
   "id": "f54b05d0",
   "metadata": {},
   "outputs": [],
   "source": [
    "list(filter(check_even , l))"
   ]
  },
  {
   "cell_type": "code",
   "execution_count": null,
   "id": "ea82c6f9",
   "metadata": {},
   "outputs": [],
   "source": []
  }
 ],
 "metadata": {
  "kernelspec": {
   "display_name": "Python 3 (ipykernel)",
   "language": "python",
   "name": "python3"
  },
  "language_info": {
   "codemirror_mode": {
    "name": "ipython",
    "version": 3
   },
   "file_extension": ".py",
   "mimetype": "text/x-python",
   "name": "python",
   "nbconvert_exporter": "python",
   "pygments_lexer": "ipython3",
   "version": "3.9.7"
  }
 },
 "nbformat": 4,
 "nbformat_minor": 5
}
