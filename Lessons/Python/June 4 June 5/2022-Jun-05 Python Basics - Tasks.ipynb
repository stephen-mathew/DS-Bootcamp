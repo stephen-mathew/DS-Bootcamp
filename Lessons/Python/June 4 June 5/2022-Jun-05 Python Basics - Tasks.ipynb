{
 "cells": [
  {
   "cell_type": "markdown",
   "metadata": {},
   "source": [
    "### Stephen Mathew\n",
    "### Task - 05-Jun-2022\n",
    "### Date - 06-Jun-2022"
   ]
  },
  {
   "cell_type": "markdown",
   "metadata": {},
   "source": [
    "Q1. print a prime number in between 1 to 1000"
   ]
  },
  {
   "cell_type": "code",
   "execution_count": 4,
   "metadata": {},
   "outputs": [
    {
     "name": "stdout",
     "output_type": "stream",
     "text": [
      "[2, 3, 5, 7, 11, 13, 17, 19, 23, 29, 31, 37, 41, 43, 47, 53, 59, 61, 67, 71, 73, 79, 83, 89, 97, 101, 103, 107, 109, 113, 127, 131, 137, 139, 149, 151, 157, 163, 167, 173, 179, 181, 191, 193, 197, 199, 211, 223, 227, 229, 233, 239, 241, 251, 257, 263, 269, 271, 277, 281, 283, 293, 307, 311, 313, 317, 331, 337, 347, 349, 353, 359, 367, 373, 379, 383, 389, 397, 401, 409, 419, 421, 431, 433, 439, 443, 449, 457, 461, 463, 467, 479, 487, 491, 499, 503, 509, 521, 523, 541, 547, 557, 563, 569, 571, 577, 587, 593, 599, 601, 607, 613, 617, 619, 631, 641, 643, 647, 653, 659, 661, 673, 677, 683, 691, 701, 709, 719, 727, 733, 739, 743, 751, 757, 761, 769, 773, 787, 797, 809, 811, 821, 823, 827, 829, 839, 853, 857, 859, 863, 877, 881, 883, 887, 907, 911, 919, 929, 937, 941, 947, 953, 967, 971, 977, 983, 991, 997]\n"
     ]
    }
   ],
   "source": [
    "\n",
    "prime = [2]\n",
    "for i in range(3,1000,2):\n",
    "\tfor j in prime:\n",
    "\t\tif i%j==0:\n",
    "\t\t\tbreak\n",
    "\telse:\n",
    "\t\tprime.append(i)\n",
    "\n",
    "print(prime)"
   ]
  },
  {
   "cell_type": "markdown",
   "metadata": {},
   "source": [
    "Q2. write a function which  is equivalent  to print function in python"
   ]
  },
  {
   "cell_type": "code",
   "execution_count": null,
   "metadata": {},
   "outputs": [],
   "source": []
  },
  {
   "cell_type": "markdown",
   "metadata": {},
   "source": [
    "Q3. write a function which is a replica of list append , extend and pop function "
   ]
  },
  {
   "cell_type": "code",
   "execution_count": 39,
   "metadata": {},
   "outputs": [
    {
     "name": "stdout",
     "output_type": "stream",
     "text": [
      "['steve', 'matt', 'person', 'abc', 'def']\n"
     ]
    }
   ],
   "source": [
    "def extend_userdef(l1, l2):\t\n",
    "\tfor i in l2:\n",
    "\t\tl1+=[i]\n",
    "\treturn l1\n",
    "\n",
    "def append_userdef(l1, l2):\n",
    "\treturn l1+[l2] \n",
    "\n",
    "l1=['steve','matt','person']\n",
    "l2=['abc','def']\n",
    "# l2='abc'\n",
    "\n",
    "# l1.append(l2)\n",
    "# l1=append_userdef(l1,l2)\n",
    "l1.extend(l2)\n",
    "# l1=extend_userdef(l1,l2)\n",
    "print(l1)\n"
   ]
  },
  {
   "cell_type": "markdown",
   "metadata": {},
   "source": [
    "Q4. write a lambda function which can return a concatenation of all the string that we will pass"
   ]
  },
  {
   "cell_type": "code",
   "execution_count": 7,
   "metadata": {},
   "outputs": [
    {
     "data": {
      "text/plain": [
       "'steve matt'"
      ]
     },
     "execution_count": 7,
     "metadata": {},
     "output_type": "execute_result"
    }
   ],
   "source": [
    "con= lambda *s: ' '.join(s)\n",
    "\n",
    "con(\"steve\",\"matt\")"
   ]
  },
  {
   "cell_type": "markdown",
   "metadata": {},
   "source": [
    "Q5. write a lambda function which can return list of square of all the data between 1-100 "
   ]
  },
  {
   "cell_type": "code",
   "execution_count": 9,
   "metadata": {},
   "outputs": [
    {
     "data": {
      "text/plain": [
       "[1,\n",
       " 4,\n",
       " 9,\n",
       " 16,\n",
       " 25,\n",
       " 36,\n",
       " 49,\n",
       " 64,\n",
       " 81,\n",
       " 100,\n",
       " 121,\n",
       " 144,\n",
       " 169,\n",
       " 196,\n",
       " 225,\n",
       " 256,\n",
       " 289,\n",
       " 324,\n",
       " 361,\n",
       " 400,\n",
       " 441,\n",
       " 484,\n",
       " 529,\n",
       " 576,\n",
       " 625,\n",
       " 676,\n",
       " 729,\n",
       " 784,\n",
       " 841,\n",
       " 900,\n",
       " 961,\n",
       " 1024,\n",
       " 1089,\n",
       " 1156,\n",
       " 1225,\n",
       " 1296,\n",
       " 1369,\n",
       " 1444,\n",
       " 1521,\n",
       " 1600,\n",
       " 1681,\n",
       " 1764,\n",
       " 1849,\n",
       " 1936,\n",
       " 2025,\n",
       " 2116,\n",
       " 2209,\n",
       " 2304,\n",
       " 2401,\n",
       " 2500,\n",
       " 2601,\n",
       " 2704,\n",
       " 2809,\n",
       " 2916,\n",
       " 3025,\n",
       " 3136,\n",
       " 3249,\n",
       " 3364,\n",
       " 3481,\n",
       " 3600,\n",
       " 3721,\n",
       " 3844,\n",
       " 3969,\n",
       " 4096,\n",
       " 4225,\n",
       " 4356,\n",
       " 4489,\n",
       " 4624,\n",
       " 4761,\n",
       " 4900,\n",
       " 5041,\n",
       " 5184,\n",
       " 5329,\n",
       " 5476,\n",
       " 5625,\n",
       " 5776,\n",
       " 5929,\n",
       " 6084,\n",
       " 6241,\n",
       " 6400,\n",
       " 6561,\n",
       " 6724,\n",
       " 6889,\n",
       " 7056,\n",
       " 7225,\n",
       " 7396,\n",
       " 7569,\n",
       " 7744,\n",
       " 7921,\n",
       " 8100,\n",
       " 8281,\n",
       " 8464,\n",
       " 8649,\n",
       " 8836,\n",
       " 9025,\n",
       " 9216,\n",
       " 9409,\n",
       " 9604,\n",
       " 9801]"
      ]
     },
     "execution_count": 9,
     "metadata": {},
     "output_type": "execute_result"
    }
   ],
   "source": [
    "square = lambda x : [i**2 for i in range(1,x)]\n",
    "\n",
    "square(100)"
   ]
  },
  {
   "cell_type": "markdown",
   "metadata": {},
   "source": [
    "Q6. write a 10 Different different example of lambda function with a choice of your tasks "
   ]
  },
  {
   "cell_type": "code",
   "execution_count": 12,
   "metadata": {},
   "outputs": [
    {
     "name": "stdout",
     "output_type": "stream",
     "text": [
      "stephen\n",
      "stephen 02\n",
      "stephen 03\n",
      "lambda stephen 02\n",
      "lambda stephen 03\n",
      "stephen\n",
      "[10, 8, 6, 4, 2]\n",
      "[100, 81, 64, 49, 36, 25, 16, 9, 4]\n",
      "3628800\n",
      "[['matt', 'steve']]\n"
     ]
    }
   ],
   "source": [
    "# 1. adding numbers\n",
    "addition = lambda *x : sum(x)\n",
    "\n",
    "addition(10,20,30)\n",
    "\n",
    "# 2. printing a string \n",
    "print_string = lambda s: print(s)\n",
    "\n",
    "print_string(\"stephen\")\n",
    "\n",
    "# 3. Lambdas and regular functions\n",
    "def reg_fun01(funct, *args):\n",
    "\tfunct(*args)\n",
    "\n",
    "def reg_fun02(arg):\n",
    "\treturn print(arg)\n",
    "\n",
    "def reg_fun03(arg):\n",
    "\tprint(arg)\n",
    "\n",
    "reg_fun01(reg_fun02, \"stephen 02\")\n",
    "reg_fun01(reg_fun03, \"stephen 03\")\n",
    "\n",
    "reg_fun01(lambda: reg_fun02('lambda stephen 02'))\n",
    "reg_fun01(lambda: reg_fun03('lambda stephen 03'))\n",
    "\n",
    "# 4. IIFE for addition\n",
    "(lambda *x: sum(x))(10,20,30)\n",
    "\n",
    "#. 5. IIFE for string printing \n",
    "(lambda s: print(s))(\"stephen\")\n",
    "\n",
    "#. 6. Lambda with filter \n",
    "full_list = list(range(10,1,-1))\n",
    "filtered_list = filter(lambda x: x%2==0, full_list)\n",
    "\n",
    "print(list(filtered_list))\n",
    "\n",
    "# 7. Lambda with map\n",
    "full_list = list(range(10,1,-1))\n",
    "mapped_list = map(lambda x: x**2, full_list)\n",
    "print(list(mapped_list))\n",
    "\n",
    "# 8. Lambda with reduce\n",
    "from functools import reduce\n",
    "full_list = list(range(10,1,-1))\n",
    "product = reduce(lambda x,y: x*y, full_list)\n",
    "print(product)\n",
    "\n",
    "# 9. Concatenation of strings\n",
    "reverse = lambda *s: [i[::-1] for i in s]\n",
    "print(reverse([\"steve\",\"matt\"]))\n",
    "\n",
    "\n"
   ]
  },
  {
   "cell_type": "code",
   "execution_count": 13,
   "metadata": {},
   "outputs": [
    {
     "data": {
      "text/plain": [
       "'evets'"
      ]
     },
     "execution_count": 13,
     "metadata": {},
     "output_type": "execute_result"
    }
   ],
   "source": [
    "\"steve\"[::-1]"
   ]
  },
  {
   "cell_type": "markdown",
   "metadata": {},
   "source": [
    "Q7. write a funtion whihc can perform a read operation from .txt file "
   ]
  },
  {
   "cell_type": "code",
   "execution_count": 10,
   "metadata": {},
   "outputs": [
    {
     "name": "stdout",
     "output_type": "stream",
     "text": [
      "['This is a sample text file\\n', 'This is the second line of the text file']\n"
     ]
    }
   ],
   "source": [
    "with open('sample.txt') as f:\n",
    "\tprint(f.readlines())"
   ]
  },
  {
   "cell_type": "markdown",
   "metadata": {},
   "source": []
  }
 ],
 "metadata": {
  "interpreter": {
   "hash": "ad2bdc8ecc057115af97d19610ffacc2b4e99fae6737bb82f5d7fb13d2f2c186"
  },
  "kernelspec": {
   "display_name": "Python 3.7.13 ('base')",
   "language": "python",
   "name": "python3"
  },
  "language_info": {
   "codemirror_mode": {
    "name": "ipython",
    "version": 3
   },
   "file_extension": ".py",
   "mimetype": "text/x-python",
   "name": "python",
   "nbconvert_exporter": "python",
   "pygments_lexer": "ipython3",
   "version": "3.7.13"
  },
  "orig_nbformat": 4
 },
 "nbformat": 4,
 "nbformat_minor": 2
}
