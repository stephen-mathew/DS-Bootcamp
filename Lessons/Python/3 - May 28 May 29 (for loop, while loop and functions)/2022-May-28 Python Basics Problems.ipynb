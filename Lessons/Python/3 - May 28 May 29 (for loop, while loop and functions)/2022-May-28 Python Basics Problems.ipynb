{
 "cells": [
  {
   "cell_type": "markdown",
   "metadata": {},
   "source": [
    "**Name** - Stephen Mathew\n",
    "**Date** - 2020-05-30\n",
    "**Description** - Python Basics Problems"
   ]
  },
  {
   "cell_type": "markdown",
   "metadata": {},
   "source": [
    "Q1. Produce the output."
   ]
  },
  {
   "cell_type": "code",
   "execution_count": 1,
   "metadata": {},
   "outputs": [
    {
     "name": "stdout",
     "output_type": "stream",
     "text": [
      "ineuron \n",
      "ineuron ineuron \n",
      "ineuron ineuron ineuron \n",
      "ineuron ineuron ineuron ineuron \n"
     ]
    }
   ],
   "source": [
    "s = \"ineuron\"\n",
    "\n",
    "for i in range(4):\n",
    "\tprint((s+\" \")*(i+1))"
   ]
  },
  {
   "cell_type": "markdown",
   "metadata": {},
   "source": [
    "Q2. Produce the output."
   ]
  },
  {
   "cell_type": "code",
   "execution_count": 9,
   "metadata": {},
   "outputs": [
    {
     "name": "stdout",
     "output_type": "stream",
     "text": [
      "\t\tineuron\t\t\n",
      "\tineuron\t\tineuron\t\t\n",
      "ineuron\t\tineuron\t\tineuron\t\t\n",
      "\tineuron\t\tineuron\t\t\n",
      "\t\tineuron\t\t\n"
     ]
    }
   ],
   "source": [
    "s = \"ineuron\"\n",
    "\n",
    "for i in range(3):\n",
    "\tprint(\"\\t\"*(2-i),end=\"\")\n",
    "\tprint((s+\"\\t\\t\")*(i+1))\n",
    "for i in range(1,-1,-1):\n",
    "\tprint(\"\\t\"*(2-i),end=\"\")\n",
    "\tprint((s+\"\\t\\t\")*(i+1))"
   ]
  },
  {
   "cell_type": "markdown",
   "metadata": {},
   "source": [
    "Q3. Extract all lists"
   ]
  },
  {
   "cell_type": "code",
   "execution_count": 10,
   "metadata": {},
   "outputs": [
    {
     "name": "stdout",
     "output_type": "stream",
     "text": [
      "[1, 2, 3, 4]\n",
      "['ineuron', 'data science']\n"
     ]
    }
   ],
   "source": [
    "l=[[1,2,3,4],(2,3,4,5,6),(3,4,5,6,7),set([23,4,5,45,4,4,5,45,45,4,5]),{\"k1\":\"sudh\",\"k2\":\"ineuron\",\"k3\":\"kumar\",3:6,7:8},[\"ineuron\",\"data science\"]]\n",
    "\n",
    "for i in l:\n",
    "\tif type(i)==list:\n",
    "\t\tprint(i)"
   ]
  },
  {
   "cell_type": "markdown",
   "metadata": {},
   "source": [
    "Q4. Extract all dictionaries"
   ]
  },
  {
   "cell_type": "code",
   "execution_count": 11,
   "metadata": {},
   "outputs": [
    {
     "name": "stdout",
     "output_type": "stream",
     "text": [
      "{'k1': 'sudh', 'k2': 'ineuron', 'k3': 'kumar', 3: 6, 7: 8}\n"
     ]
    }
   ],
   "source": [
    "l=[[1,2,3,4],(2,3,4,5,6),(3,4,5,6,7),set([23,4,5,45,4,4,5,45,45,4,5]),{\"k1\":\"sudh\",\"k2\":\"ineuron\",\"k3\":\"kumar\",3:6,7:8},[\"ineuron\",\"data science\"]]\n",
    "\n",
    "for i in l:\n",
    "\tif type(i)==dict:\n",
    "\t\tprint(i)"
   ]
  },
  {
   "cell_type": "markdown",
   "metadata": {},
   "source": [
    "Q5. Extract all tuples"
   ]
  },
  {
   "cell_type": "code",
   "execution_count": 12,
   "metadata": {},
   "outputs": [
    {
     "name": "stdout",
     "output_type": "stream",
     "text": [
      "(2, 3, 4, 5, 6)\n",
      "(3, 4, 5, 6, 7)\n"
     ]
    }
   ],
   "source": [
    "l=[[1,2,3,4],(2,3,4,5,6),(3,4,5,6,7),set([23,4,5,45,4,4,5,45,45,4,5]),{\"k1\":\"sudh\",\"k2\":\"ineuron\",\"k3\":\"kumar\",3:6,7:8},[\"ineuron\",\"data science\"]]\n",
    "\n",
    "for i in l:\n",
    "\tif type(i)==tuple:\n",
    "\t\tprint(i)"
   ]
  },
  {
   "cell_type": "markdown",
   "metadata": {},
   "source": [
    "Q6. Extract all numeric data, even from dictionaries"
   ]
  },
  {
   "cell_type": "code",
   "execution_count": 16,
   "metadata": {},
   "outputs": [
    {
     "name": "stdout",
     "output_type": "stream",
     "text": [
      "1\n",
      "2\n",
      "3\n",
      "4\n",
      "2\n",
      "3\n",
      "4\n",
      "5\n",
      "6\n",
      "3\n",
      "4\n",
      "5\n",
      "6\n",
      "7\n",
      "45\n",
      "4\n",
      "5\n",
      "23\n",
      "3\n",
      "6\n",
      "7\n",
      "8\n"
     ]
    }
   ],
   "source": [
    "l=[[1,2,3,4],(2,3,4,5,6),(3,4,5,6,7),set([23,4,5,45,4,4,5,45,45,4,5]),{\"k1\":\"sudh\",\"k2\":\"ineuron\",\"k3\":\"kumar\",3:6,7:8},[\"ineuron\",\"data science\"]]\n",
    "\n",
    "for i in l:\n",
    "\tif type(i)==list or type(i)==tuple:\n",
    "\t\tfor j in i:\n",
    "\t\t\tif(type(j)==int):\n",
    "\t\t\t\tprint(j)\n",
    "\tif type(i)==dict:\n",
    "\t\tfor j,k in i.items():\n",
    "\t\t\tif type(j)==int:\n",
    "\t\t\t\tprint(j)\n",
    "\t\t\tif type(k)==int:\n",
    "\t\t\t\tprint(k)\n",
    "\tif type(i)==set:\n",
    "\t\tfor j in i:\n",
    "\t\t\tif type(j)==int:\n",
    "\t\t\t\tprint(j)\n",
    "\tif type(i) not in [list,tuple,dict,set]:\n",
    "\t\tif type(j)==int:\n",
    "\t\t\tprint(j)"
   ]
  },
  {
   "cell_type": "markdown",
   "metadata": {},
   "source": [
    "Q6. Sum up all the numeric data"
   ]
  },
  {
   "cell_type": "code",
   "execution_count": 17,
   "metadata": {},
   "outputs": [
    {
     "name": "stdout",
     "output_type": "stream",
     "text": [
      "156\n"
     ]
    }
   ],
   "source": [
    "l=[[1,2,3,4],(2,3,4,5,6),(3,4,5,6,7),set([23,4,5,45,4,4,5,45,45,4,5]),{\"k1\":\"sudh\",\"k2\":\"ineuron\",\"k3\":\"kumar\",3:6,7:8},[\"ineuron\",\"data science\"]]\n",
    "sum=0\n",
    "for i in l:\n",
    "\tif type(i)==list or type(i)==tuple:\n",
    "\t\tfor j in i:\n",
    "\t\t\tif(type(j)==int):\n",
    "\t\t\t\tsum+=j\n",
    "\tif type(i)==dict:\n",
    "\t\tfor j,k in i.items():\n",
    "\t\t\tif type(j)==int:\n",
    "\t\t\t\tsum+=j\n",
    "\t\t\tif type(k)==int:\n",
    "\t\t\t\tsum+=k\n",
    "\tif type(i)==set:\n",
    "\t\tfor j in i:\n",
    "\t\t\tif type(j)==int:\n",
    "\t\t\t\tsum+=j\n",
    "\tif type(i) not in [list,tuple,dict,set]:\n",
    "\t\tif type(j)==int:\n",
    "\t\t\tsum+=j\n",
    "print(sum)"
   ]
  },
  {
   "cell_type": "markdown",
   "metadata": {},
   "source": [
    "Q8. Filter out all the odd values out all numeric data which is a part of a list "
   ]
  },
  {
   "cell_type": "code",
   "execution_count": 18,
   "metadata": {},
   "outputs": [
    {
     "name": "stdout",
     "output_type": "stream",
     "text": [
      "[1, 3, 3, 5, 3, 5, 7, 45, 5, 23, 3, 6, 7, 8]\n"
     ]
    }
   ],
   "source": [
    "l=[[1,2,3,4],(2,3,4,5,6),(3,4,5,6,7),set([23,4,5,45,4,4,5,45,45,4,5]),{\"k1\":\"sudh\",\"k2\":\"ineuron\",\"k3\":\"kumar\",3:6,7:8},[\"ineuron\",\"data science\"]]\n",
    "sum=0\n",
    "l1=[]\n",
    "for i in l:\n",
    "\tif type(i)==list or type(i)==tuple:\n",
    "\t\tfor j in i:\n",
    "\t\t\tif(type(j)==int) and j%2==1:\n",
    "\t\t\t\tl1.append(j)\n",
    "\tif type(i)==dict:\n",
    "\t\tfor j,k in i.items():\n",
    "\t\t\tif type(j)==int and j%2==1:\n",
    "\t\t\t\tl1.append(j)\n",
    "\t\t\tif type(k)==int and j%2==1:\n",
    "\t\t\t\tl1.append(k)\n",
    "\tif type(i)==set:\n",
    "\t\tfor j in i:\n",
    "\t\t\tif type(j)==int and j%2==1:\n",
    "\t\t\t\tl1.append(j)\n",
    "\tif type(i) not in [list,tuple,dict,set]:\n",
    "\t\tif type(j)==int and j%2==1:\n",
    "\t\t\tl1.append(j)\n",
    "print(l1)"
   ]
  },
  {
   "cell_type": "markdown",
   "metadata": {},
   "source": [
    "Q9. Extract \"ineuron\" out of this data"
   ]
  },
  {
   "cell_type": "code",
   "execution_count": 19,
   "metadata": {},
   "outputs": [
    {
     "name": "stdout",
     "output_type": "stream",
     "text": [
      "ineuron\n",
      "ineuron\n"
     ]
    }
   ],
   "source": [
    "l=[[1,2,3,4],(2,3,4,5,6),(3,4,5,6,7),set([23,4,5,45,4,4,5,45,45,4,5]),{\"k1\":\"sudh\",\"k2\":\"ineuron\",\"k3\":\"kumar\",3:6,7:8},[\"ineuron\",\"data science\"]]\n",
    "\n",
    "for i in l:\n",
    "\tif type(i)==list or type(i)==tuple or type(i)==set:\n",
    "\t\tfor j in i:\n",
    "\t\t\tif j==\"ineuron\":\n",
    "\t\t\t\tprint(j)\n",
    "\tif type(i)==dict:\n",
    "\t\tfor j,k in i.items():\n",
    "\t\t\tif j==\"ineuron\":\n",
    "\t\t\t\tprint(j)\n",
    "\t\t\tif k==\"ineuron\":\n",
    "\t\t\t\tprint(k)\n",
    "\tif type(i) not in [list,tuple,dict,set]:\n",
    "\t\tif j==\"ineuron\":\n",
    "\t\t\tprint(j)\n"
   ]
  },
  {
   "cell_type": "markdown",
   "metadata": {},
   "source": [
    "Q10. find out a number of occurances of all the data "
   ]
  },
  {
   "cell_type": "code",
   "execution_count": 30,
   "metadata": {},
   "outputs": [
    {
     "name": "stdout",
     "output_type": "stream",
     "text": [
      "1 1\n",
      "2 2\n",
      "3 4\n",
      "4 4\n",
      "2 2\n",
      "3 4\n",
      "4 4\n",
      "5 3\n",
      "6 3\n",
      "3 4\n",
      "4 4\n",
      "5 3\n",
      "6 3\n",
      "7 2\n",
      "45 1\n",
      "4 4\n",
      "5 3\n",
      "23 1\n",
      "k1 1\n",
      "sudh 1\n",
      "k2 1\n",
      "ineuron 2\n",
      "k3 1\n",
      "kumar 1\n",
      "3 4\n",
      "6 3\n",
      "7 2\n",
      "8 1\n",
      "ineuron 2\n",
      "data science 1\n"
     ]
    }
   ],
   "source": [
    "l=[[1,2,3,4],(2,3,4,5,6),(3,4,5,6,7),set([23,4,5,45,4,4,5,45,45,4,5]),{\"k1\":\"sudh\",\"k2\":\"ineuron\",\"k3\":\"kumar\",3:6,7:8},[\"ineuron\",\"data science\"]]\n",
    "l2=[]\n",
    "for i in l:\n",
    "\tif type(i) in [list,tuple,set]:\n",
    "\t\tfor j in i:\n",
    "\t\t\tl2.append(j)\n",
    "\tif type(i)==dict:\n",
    "\t\tfor j,k in i.items():\n",
    "\t\t\tl2.append(j)\n",
    "\t\t\tl2.append(k)\n",
    "\tif type(i) not in [list,tuple,dict,set]:\n",
    "\t\tl2.append(i)\n",
    "for i in l2:\n",
    "\tif i in set(l2):\n",
    "\t\tprint(i,l2.count(i))\n",
    "\n",
    "\t\n"
   ]
  },
  {
   "cell_type": "markdown",
   "metadata": {},
   "source": [
    "Q11. find out number of keys in dict element"
   ]
  },
  {
   "cell_type": "code",
   "execution_count": 21,
   "metadata": {},
   "outputs": [
    {
     "name": "stdout",
     "output_type": "stream",
     "text": [
      "5\n"
     ]
    }
   ],
   "source": [
    "l=[[1,2,3,4],(2,3,4,5,6),(3,4,5,6,7),set([23,4,5,45,4,4,5,45,45,4,5]),{\"k1\":\"sudh\",\"k2\":\"ineuron\",\"k3\":\"kumar\",3:6,7:8},[\"ineuron\",\"data science\"]]\n",
    "key_count=0\n",
    "for i in l:\n",
    "\tif type(i)==dict:\n",
    "\t\tkey_count+=len(i)\n",
    "print(key_count)"
   ]
  },
  {
   "cell_type": "markdown",
   "metadata": {},
   "source": [
    "Q12.  filter out all the string data "
   ]
  },
  {
   "cell_type": "code",
   "execution_count": 23,
   "metadata": {},
   "outputs": [
    {
     "name": "stdout",
     "output_type": "stream",
     "text": [
      "k1\n",
      "sudh\n",
      "k2\n",
      "ineuron\n",
      "k3\n",
      "kumar\n",
      "ineuron\n",
      "data science\n"
     ]
    }
   ],
   "source": [
    "l=[[1,2,3,4],(2,3,4,5,6),(3,4,5,6,7),set([23,4,5,45,4,4,5,45,45,4,5]),{\"k1\":\"sudh\",\"k2\":\"ineuron\",\"k3\":\"kumar\",3:6,7:8},[\"ineuron\",\"data science\"]]\n",
    "\n",
    "for i in l:\n",
    "\tif type(i) in [list,tuple,set]:\n",
    "\t\tfor j in i:\n",
    "\t\t\tif type(j)==str:\n",
    "\t\t\t\tprint(j)\n",
    "\tif type(i)==dict:\n",
    "\t\tfor j,k in i.items():\n",
    "\t\t\tif type(j)==str:\n",
    "\t\t\t\tprint(j)\n",
    "\t\t\tif type(k)==str:\n",
    "\t\t\t\tprint(k)\n",
    "\tif type(i) not in [list,tuple,dict,set]:\n",
    "\t\tif type(j)==str:\n",
    "\t\t\tprint(j)\n",
    "\t\n"
   ]
  },
  {
   "cell_type": "markdown",
   "metadata": {},
   "source": [
    "Q13. Find  out alphanum in data"
   ]
  },
  {
   "cell_type": "code",
   "execution_count": 26,
   "metadata": {},
   "outputs": [
    {
     "name": "stdout",
     "output_type": "stream",
     "text": [
      "k1\n",
      "sudh\n",
      "k2\n",
      "ineuron\n",
      "k3\n",
      "kumar\n",
      "ineuron\n"
     ]
    }
   ],
   "source": [
    "l=[[1,2,3,4],(2,3,4,5,6),(3,4,5,6,7),set([23,4,5,45,4,4,5,45,45,4,5]),{\"k1\":\"sudh\",\"k2\":\"ineuron\",\"k3\":\"kumar\",3:6,7:8},[\"ineuron\",\"data science\"]]\n",
    "\n",
    "for i in l:\n",
    "\tif type(i) in [list,tuple,set]:\n",
    "\t\tfor j in i:\n",
    "\t\t\tif type(j)==str and j.isalnum():\n",
    "\t\t\t\tprint(j)\n",
    "\tif type(i)==dict:\n",
    "\t\tfor j,k in i.items():\n",
    "\t\t\tif type(j)==str and j.isalnum():\n",
    "\t\t\t\tprint(j)\n",
    "\t\t\tif type(k)==str and k.isalnum():\n",
    "\t\t\t\tprint(k)\n",
    "\tif type(i) not in [list,tuple,dict,set]:\n",
    "\t\tif type(j)==str and j.isalnum():\n",
    "\t\t\tprint(j)\n",
    "\t\n",
    "\n"
   ]
  },
  {
   "cell_type": "markdown",
   "metadata": {},
   "source": [
    "Q14. find out multiplication of all numeric value in  the individual collection inside dataset"
   ]
  },
  {
   "cell_type": "code",
   "execution_count": 32,
   "metadata": {},
   "outputs": [
    {
     "name": "stdout",
     "output_type": "stream",
     "text": [
      "908605071360000\n"
     ]
    }
   ],
   "source": [
    "l=[[1,2,3,4],(2,3,4,5,6),(3,4,5,6,7),set([23,4,5,45,4,4,5,45,45,4,5]),{\"k1\":\"sudh\",\"k2\":\"ineuron\",\"k3\":\"kumar\",3:6,7:8},[\"ineuron\",\"data science\"]]\n",
    "product=1\n",
    "for i in l:\n",
    "\tif type(i)==list or type(i)==tuple:\n",
    "\t\tfor j in i:\n",
    "\t\t\tif(type(j)==int):\n",
    "\t\t\t\tproduct*=j\n",
    "\tif type(i)==dict:\n",
    "\t\tfor j,k in i.items():\n",
    "\t\t\tif type(j)==int:\n",
    "\t\t\t\tproduct*=j\n",
    "\t\t\tif type(k)==int:\n",
    "\t\t\t\tproduct*=k\n",
    "\tif type(i)==set:\n",
    "\t\tfor j in i:\n",
    "\t\t\tif type(j)==int:\n",
    "\t\t\t\tproduct*=j\n",
    "\tif type(i) not in [list,tuple,dict,set]:\n",
    "\t\tif type(j)==int:\n",
    "\t\t\tproduct*=j\n",
    "print(product)"
   ]
  },
  {
   "cell_type": "markdown",
   "metadata": {},
   "source": [
    "Q15. Unwrap all the collection inside collection and create a flat list "
   ]
  },
  {
   "cell_type": "code",
   "execution_count": 27,
   "metadata": {},
   "outputs": [
    {
     "name": "stdout",
     "output_type": "stream",
     "text": [
      "[1, 2, 3, 4, 2, 3, 4, 5, 6, 3, 4, 5, 6, 7, 45, 4, 5, 23, 'k1', 'sudh', 'k2', 'ineuron', 'k3', 'kumar', 3, 6, 7, 8, 'ineuron', 'data science']\n"
     ]
    }
   ],
   "source": [
    "l=[[1,2,3,4],(2,3,4,5,6),(3,4,5,6,7),set([23,4,5,45,4,4,5,45,45,4,5]),{\"k1\":\"sudh\",\"k2\":\"ineuron\",\"k3\":\"kumar\",3:6,7:8},[\"ineuron\",\"data science\"]]\n",
    "l2=[]\n",
    "for i in l:\n",
    "\tif type(i) in [list,tuple,set]:\n",
    "\t\tfor j in i:\n",
    "\t\t\tl2.append(j)\n",
    "\tif type(i)==dict:\n",
    "\t\tfor j,k in i.items():\n",
    "\t\t\tl2.append(j)\n",
    "\t\t\tl2.append(k)\n",
    "\tif type(i) not in [list,tuple,dict,set]:\n",
    "\t\tl2.append(i)\n",
    "print(l2)\n",
    "\t\n"
   ]
  },
  {
   "cell_type": "code",
   "execution_count": null,
   "metadata": {},
   "outputs": [],
   "source": []
  }
 ],
 "metadata": {
  "interpreter": {
   "hash": "ad2bdc8ecc057115af97d19610ffacc2b4e99fae6737bb82f5d7fb13d2f2c186"
  },
  "kernelspec": {
   "display_name": "Python 3.7.4 ('base')",
   "language": "python",
   "name": "python3"
  },
  "language_info": {
   "codemirror_mode": {
    "name": "ipython",
    "version": 3
   },
   "file_extension": ".py",
   "mimetype": "text/x-python",
   "name": "python",
   "nbconvert_exporter": "python",
   "pygments_lexer": "ipython3",
   "version": "3.7.4"
  },
  "orig_nbformat": 4
 },
 "nbformat": 4,
 "nbformat_minor": 2
}
