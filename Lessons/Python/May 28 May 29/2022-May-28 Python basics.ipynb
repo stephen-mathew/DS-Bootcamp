{
 "cells": [
  {
   "cell_type": "markdown",
   "metadata": {},
   "source": [
    "# 2022-May-28\n",
    "\n",
    "## Python basics - Loops"
   ]
  },
  {
   "cell_type": "code",
   "execution_count": 2,
   "metadata": {},
   "outputs": [],
   "source": [
    "\n",
    "l = [1,2,3,4,\"sudh\", \"kumar\",45.56,True]"
   ]
  },
  {
   "cell_type": "code",
   "execution_count": 4,
   "metadata": {},
   "outputs": [
    {
     "name": "stdout",
     "output_type": "stream",
     "text": [
      "1\n",
      "2\n",
      "3\n",
      "4\n",
      "sudh\n",
      "kumar\n",
      "45.56\n",
      "True\n"
     ]
    }
   ],
   "source": [
    "for i in l:\n",
    "\tprint(i)"
   ]
  },
  {
   "cell_type": "code",
   "execution_count": 5,
   "metadata": {},
   "outputs": [
    {
     "name": "stdout",
     "output_type": "stream",
     "text": [
      "s\n",
      "u\n",
      "d\n",
      "h\n"
     ]
    }
   ],
   "source": [
    "s=\"sudh\"\n",
    "for i in s:\n",
    "\tprint(i)"
   ]
  },
  {
   "cell_type": "code",
   "execution_count": 6,
   "metadata": {},
   "outputs": [
    {
     "name": "stdout",
     "output_type": "stream",
     "text": [
      "1\n",
      "2\n",
      "3\n",
      "4\n",
      "sudh\n",
      "kumar\n",
      "45.56\n",
      "True\n",
      "executed when for loop executes by itself\n"
     ]
    }
   ],
   "source": [
    "for i in l:\n",
    "\tprint(i)\n",
    "else: \n",
    "\tprint(\"executed when for loop executes by itself\") "
   ]
  },
  {
   "cell_type": "code",
   "execution_count": 7,
   "metadata": {},
   "outputs": [
    {
     "name": "stdout",
     "output_type": "stream",
     "text": [
      "1\n",
      "2\n",
      "3\n",
      "4\n"
     ]
    }
   ],
   "source": [
    "for i in l:\n",
    "\tprint(i)\n",
    "\tif i==4:\n",
    "\t\tbreak\t\n",
    "else: \n",
    "\tprint(\"executed when for loop executes by itself\") \n"
   ]
  },
  {
   "cell_type": "code",
   "execution_count": 8,
   "metadata": {},
   "outputs": [
    {
     "name": "stdout",
     "output_type": "stream",
     "text": [
      "s\n",
      "t\n",
      "e\n",
      "p\n"
     ]
    }
   ],
   "source": [
    "s=\"stephen\"\n",
    "for i in s:\n",
    "\tif i==\"h\":\n",
    "\t\tbreak\n",
    "\tprint(i)\n",
    "else:\n",
    "\tprint('print string',s)"
   ]
  },
  {
   "cell_type": "code",
   "execution_count": 9,
   "metadata": {},
   "outputs": [
    {
     "name": "stdout",
     "output_type": "stream",
     "text": [
      "s\n",
      "t\n",
      "e\n",
      "p\n",
      "m\n",
      "e\n",
      "n\n",
      "print string stepmen\n"
     ]
    }
   ],
   "source": [
    "s=\"stepmen\"\n",
    "for i in s:\n",
    "\tif i==\"h\":\n",
    "\t\tbreak\n",
    "\tprint(i)\n",
    "else:\n",
    "\tprint('print string',s)"
   ]
  },
  {
   "cell_type": "code",
   "execution_count": 10,
   "metadata": {},
   "outputs": [
    {
     "name": "stdout",
     "output_type": "stream",
     "text": [
      "1\n",
      "2\n",
      "3\n",
      "4\n",
      "5\n",
      "6\n",
      "7\n",
      "8\n",
      "9\n",
      "stephen\n"
     ]
    }
   ],
   "source": [
    " t = (1,2,3,4,5,6,7,8,9,\"stephen\")\n",
    "for i in t:\n",
    "\tprint(i)"
   ]
  },
  {
   "cell_type": "code",
   "execution_count": 12,
   "metadata": {},
   "outputs": [
    {
     "name": "stdout",
     "output_type": "stream",
     "text": [
      "2\n",
      "3\n",
      "7\n",
      "8\n",
      "9\n",
      "stephen\n"
     ]
    }
   ],
   "source": [
    "s={9,2,3,7,7,7,8,9,\"stephen\"}\n",
    "for i in s:\n",
    "\tprint(i)"
   ]
  },
  {
   "cell_type": "code",
   "execution_count": 15,
   "metadata": {},
   "outputs": [
    {
     "name": "stdout",
     "output_type": "stream",
     "text": [
      "stephen\n",
      "45\n",
      "bangalore\n"
     ]
    }
   ],
   "source": [
    "d = {\"name\":\"stephen\",\"age\":45,\"city\":\"bangalore\"}\n",
    "for i in d.keys():\n",
    "\tprint(d[i])"
   ]
  },
  {
   "cell_type": "code",
   "execution_count": 14,
   "metadata": {},
   "outputs": [
    {
     "name": "stdout",
     "output_type": "stream",
     "text": [
      "name\n",
      "age\n",
      "city\n"
     ]
    }
   ],
   "source": [
    "for i in d:\n",
    "\tprint(i)"
   ]
  },
  {
   "cell_type": "code",
   "execution_count": 16,
   "metadata": {},
   "outputs": [
    {
     "name": "stdout",
     "output_type": "stream",
     "text": [
      "stephen\n",
      "45\n",
      "bangalore\n"
     ]
    }
   ],
   "source": [
    "for i in d:\n",
    "\tprint(d[i])"
   ]
  },
  {
   "cell_type": "code",
   "execution_count": 17,
   "metadata": {},
   "outputs": [
    {
     "data": {
      "text/plain": [
       "range(0, 9)"
      ]
     },
     "execution_count": 17,
     "metadata": {},
     "output_type": "execute_result"
    }
   ],
   "source": [
    "range(9)"
   ]
  },
  {
   "cell_type": "code",
   "execution_count": 18,
   "metadata": {},
   "outputs": [
    {
     "data": {
      "text/plain": [
       "[0, 1, 2, 3, 4, 5, 6, 7, 8]"
      ]
     },
     "execution_count": 18,
     "metadata": {},
     "output_type": "execute_result"
    }
   ],
   "source": [
    "list(range(9))"
   ]
  },
  {
   "cell_type": "code",
   "execution_count": 19,
   "metadata": {},
   "outputs": [
    {
     "name": "stdout",
     "output_type": "stream",
     "text": [
      "0\n",
      "1\n",
      "2\n",
      "3\n",
      "4\n",
      "5\n",
      "6\n",
      "7\n",
      "8\n"
     ]
    }
   ],
   "source": [
    "for i in range(9):\n",
    "\tprint(i)"
   ]
  },
  {
   "cell_type": "code",
   "execution_count": 21,
   "metadata": {},
   "outputs": [
    {
     "data": {
      "text/plain": [
       "[1, 3, 5, 7]"
      ]
     },
     "execution_count": 21,
     "metadata": {},
     "output_type": "execute_result"
    }
   ],
   "source": [
    "list(range(1,9,2))"
   ]
  },
  {
   "cell_type": "code",
   "execution_count": 22,
   "metadata": {},
   "outputs": [
    {
     "data": {
      "text/plain": [
       "[]"
      ]
     },
     "execution_count": 22,
     "metadata": {},
     "output_type": "execute_result"
    }
   ],
   "source": [
    "list(range(0,9,-1))"
   ]
  },
  {
   "cell_type": "code",
   "execution_count": 24,
   "metadata": {},
   "outputs": [
    {
     "name": "stdout",
     "output_type": "stream",
     "text": [
      "sudh \n",
      "sudh sudh \n",
      "sudh sudh sudh \n",
      "sudh sudh sudh sudh \n"
     ]
    }
   ],
   "source": [
    "s=\"sudh \"\n",
    "for i in range(1,5):\n",
    "\tprint(s*i)"
   ]
  },
  {
   "cell_type": "code",
   "execution_count": 30,
   "metadata": {},
   "outputs": [
    {
     "name": "stdout",
     "output_type": "stream",
     "text": [
      "sudh \n",
      "\n",
      "sudh sudh \n",
      "\n",
      "sudh sudh sudh \n",
      "\n",
      "sudh sudh sudh sudh \n",
      "\n"
     ]
    }
   ],
   "source": [
    "n = 4\n",
    "for i in range(4):\n",
    "\tfor j in range(0,i+1):\n",
    "\t\tprint(\"sudh\",end=\" \")\n",
    "\tprint(\"\\n\")"
   ]
  },
  {
   "cell_type": "code",
   "execution_count": 35,
   "metadata": {},
   "outputs": [
    {
     "name": "stdout",
     "output_type": "stream",
     "text": [
      "\t\tsudh\t\t\n",
      "\tsudh\t\tsudh\t\t\n",
      "sudh\t\tsudh\t\tsudh\t\t\n"
     ]
    }
   ],
   "source": [
    "n = 3\n",
    "tab = \"\\t\"\n",
    "for i in range(3,0,-1):\n",
    "\tprint(tab*(i-1),end=\"\")\n",
    "\tprint(\"sudh\\t\\t\"*(n-i+1))"
   ]
  },
  {
   "cell_type": "code",
   "execution_count": 36,
   "metadata": {},
   "outputs": [
    {
     "name": "stdout",
     "output_type": "stream",
     "text": [
      "\t\t\n",
      "sudh\t\t\n",
      "\t\n",
      "sudh\t\tsudh\t\t\n",
      "\n",
      "sudh\t\tsudh\t\tsudh\t\t\n"
     ]
    }
   ],
   "source": [
    "n = 3\n",
    "tab = \"\\t\"\n",
    "for i in range(3,0,-1):\n",
    "\tprint(tab*(i-1))\n",
    "\tprint(\"sudh\\t\\t\"*(n-i+1))"
   ]
  },
  {
   "cell_type": "code",
   "execution_count": 38,
   "metadata": {},
   "outputs": [
    {
     "name": "stdout",
     "output_type": "stream",
     "text": [
      "0 : 3\n",
      "1 : 23\n",
      "2 : 45\n",
      "3 : 67\n",
      "4 : 2\n",
      "5 : 4\n",
      "6 : 5\n",
      "7 : 6\n"
     ]
    }
   ],
   "source": [
    "t = (3,23,45,67,2,4,5,6)\n",
    "for i in range(len(t)):\n",
    "\tprint(i,\":\",t[i])"
   ]
  },
  {
   "cell_type": "code",
   "execution_count": 39,
   "metadata": {},
   "outputs": [
    {
     "name": "stdout",
     "output_type": "stream",
     "text": [
      "0 : i\n",
      "1 : n\n",
      "2 : e\n",
      "3 : u\n",
      "4 : r\n",
      "5 : o\n",
      "6 : n\n"
     ]
    }
   ],
   "source": [
    "s = \"ineuron\"\n",
    "for i in range(len(s)):\n",
    "\tprint(i,\":\",s[i])"
   ]
  },
  {
   "cell_type": "code",
   "execution_count": 44,
   "metadata": {},
   "outputs": [
    {
     "name": "stdout",
     "output_type": "stream",
     "text": [
      "6 : n\n",
      "5 : o\n",
      "4 : r\n",
      "3 : u\n",
      "2 : e\n",
      "1 : n\n",
      "0 : i\n"
     ]
    }
   ],
   "source": [
    "s = \"ineuron\"\n",
    "for i in range(len(s)-1,-1,-1):\n",
    "\tprint(i,\":\",s[i])"
   ]
  },
  {
   "cell_type": "code",
   "execution_count": 48,
   "metadata": {},
   "outputs": [
    {
     "name": "stdout",
     "output_type": "stream",
     "text": [
      "('name', 'stephen') <class 'str'>\n",
      "('age', 45) <class 'int'>\n",
      "('city', 'bangalore') <class 'str'>\n"
     ]
    }
   ],
   "source": [
    "for i in d.items():\n",
    "\tprint(i,type(i[1]))"
   ]
  },
  {
   "cell_type": "code",
   "execution_count": 50,
   "metadata": {},
   "outputs": [
    {
     "data": {
      "text/plain": [
       "[323232, 345, 232131]"
      ]
     },
     "execution_count": 50,
     "metadata": {},
     "output_type": "execute_result"
    }
   ],
   "source": [
    "l = [\"sudh\",\"kumar\",323232,\"suds@ineuron.ai\",345,232131]\n",
    "l2=[]\n",
    "for i in l:\n",
    "\tif type(i)==int:\n",
    "\t\tl2.append(i)\t\n",
    "l2"
   ]
  },
  {
   "cell_type": "code",
   "execution_count": 54,
   "metadata": {},
   "outputs": [
    {
     "name": "stdout",
     "output_type": "stream",
     "text": [
      "1 34324324\n",
      "234 3454\n"
     ]
    }
   ],
   "source": [
    "d={1:34324324,\"name\":\"sudh\",\"email_id\":\"stephen@iend.ai\",234:\"ddfsd\",\"43\":\"fsdfsd\",234:\"3454\"}\n",
    "\n",
    "for i in d:\n",
    "\tif type(i)==int:\n",
    "\t\tprint(i,d[i])"
   ]
  },
  {
   "cell_type": "code",
   "execution_count": 58,
   "metadata": {},
   "outputs": [
    {
     "name": "stdout",
     "output_type": "stream",
     "text": [
      "d : 1\n",
      "c : 2\n",
      "a : 4\n",
      "b : 2\n"
     ]
    }
   ],
   "source": [
    "s=\"aaaabbccd\"\n",
    "for i in set(s):\n",
    "\tprint(i ,\":\",s.count(i))"
   ]
  },
  {
   "cell_type": "code",
   "execution_count": 61,
   "metadata": {},
   "outputs": [
    {
     "name": "stdout",
     "output_type": "stream",
     "text": [
      "3 <class 'int'>\n",
      "4 <class 'int'>\n",
      "3 <class 'int'>\n",
      "4 <class 'int'>\n",
      "3 <class 'int'>\n",
      "5 <class 'int'>\n",
      "4 <class 'int'>\n",
      "5 <class 'int'>\n",
      "3 <class 'int'>\n",
      "2 <class 'int'>\n",
      "3 <class 'int'>\n",
      "2 <class 'int'>\n"
     ]
    }
   ],
   "source": [
    "i = 343435453232\n",
    "for j in str(i):\n",
    "\tprint(int(j),type(int(j)))"
   ]
  },
  {
   "cell_type": "code",
   "execution_count": 2,
   "metadata": {},
   "outputs": [
    {
     "name": "stdout",
     "output_type": "stream",
     "text": [
      "<class 'str'>\n",
      "<class 'str'>\n",
      "found list or tuple\n",
      "<class 'list'>\n",
      "found list or tuple\n",
      "<class 'tuple'>\n",
      "found dict key\n",
      "found dict value\n",
      "found dict value\n",
      "<class 'dict'>\n"
     ]
    }
   ],
   "source": [
    "t=(\"sudh\",\"kumar\",[1,2,3,4,5],(3,4,5,6),{\"key1\":\"sudh\",3:3,4:3})\n",
    "\n",
    "for i in t:\n",
    "\tif type(i)==list or type(i)==tuple:\n",
    "\t\tfor j in i:\n",
    "\t\t\tif j==3:\n",
    "\t\t\t\tprint(\"found list or tuple\")\n",
    "\tif type(i)==dict:\n",
    "\t\tfor k,v in i.items():\n",
    "\t\t\t# print(k,v)\n",
    "\t\t\tif k==3:\n",
    "\t\t\t\tprint(\"found dict key\")\n",
    "\t\t\tif v==3:\n",
    "\t\t\t\tprint(\"found dict value\")\n",
    "\tprint(type(i))"
   ]
  },
  {
   "cell_type": "code",
   "execution_count": 75,
   "metadata": {},
   "outputs": [],
   "source": [
    "a = 10\n",
    "b = 20\n",
    "c = 30\n",
    "\n",
    "a, b, c = 10, 20, 30\n",
    "\n",
    "a, b, c = (10, 20, 30)"
   ]
  },
  {
   "cell_type": "markdown",
   "metadata": {},
   "source": []
  },
  {
   "cell_type": "markdown",
   "metadata": {},
   "source": []
  },
  {
   "cell_type": "code",
   "execution_count": null,
   "metadata": {},
   "outputs": [],
   "source": []
  }
 ],
 "metadata": {
  "interpreter": {
   "hash": "ad2bdc8ecc057115af97d19610ffacc2b4e99fae6737bb82f5d7fb13d2f2c186"
  },
  "kernelspec": {
   "display_name": "Python 3.7.4 ('base')",
   "language": "python",
   "name": "python3"
  },
  "language_info": {
   "codemirror_mode": {
    "name": "ipython",
    "version": 3
   },
   "file_extension": ".py",
   "mimetype": "text/x-python",
   "name": "python",
   "nbconvert_exporter": "python",
   "pygments_lexer": "ipython3",
   "version": "3.7.13"
  },
  "orig_nbformat": 4
 },
 "nbformat": 4,
 "nbformat_minor": 2
}
